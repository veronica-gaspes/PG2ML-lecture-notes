{
 "cells": [
  {
   "cell_type": "markdown",
   "id": "84fb6f01",
   "metadata": {},
   "source": [
    "# Lists in Python\n",
    "\n",
    "In our previous lecture notes we have used arrays:\n",
    "\n",
    "1) We decided how many elements we needed\n",
    "\n",
    "2) We created an array using ```[init] * n``` \n",
    "\n",
    "3) We updated and inspected by *indexing*: ```a[i]```.\n",
    "\n",
    "Both operations are constant time. \n",
    "\n",
    "We mentioned in one of the first lecture notes that we would use arrays and lists as synonyms in Python. In fact, Python allows for more flexible use of the ```[]``` notation than what we have done up to now. We can add elements (not just update values at given positions) at any place. Here are some examples. \n",
    "\n",
    "In this section I will say list and not array because I will use these other operations. \n",
    "\n",
    "The first example with lists is a code fragment that creates a list element by element:\n",
    "\n",
    "```Python\n",
    "lst = []\n",
    "for i in range(10):\n",
    "    lst = lst + [i]\n",
    "```\n",
    "\n",
    "Is this any different from\n",
    "\n",
    "```Python\n",
    "a = [0] * 10\n",
    "for i in range(10):\n",
    "    a[i] = i\n",
    "```\n",
    "?\n",
    "\n",
    "Maybe not in the result, but yes in the execution time. The operation ```+``` for lists is called append and it is not constant time! It is in fact linear. Which means that the code fragment with the ```for```-loop is quadratic.\n",
    "\n",
    "The first code fragment creates a list with 0 places. As the ```for```-loop runs, more and more places are added. \n",
    "\n",
    "The second code fragment creates a list with 10 places. As the ```for```-loop runs, the values in these places are updated.\n",
    "\n",
    "So, lets see whether this has consequences for execution time!\n"
   ]
  },
  {
   "cell_type": "code",
   "execution_count": 1,
   "id": "26b2c683",
   "metadata": {},
   "outputs": [],
   "source": [
    "def init_lst(n):\n",
    "    lst = []\n",
    "    for i in range(n):\n",
    "        lst = lst + [i]\n",
    "    return lst\n"
   ]
  },
  {
   "cell_type": "code",
   "execution_count": 2,
   "id": "0b9f3b15",
   "metadata": {},
   "outputs": [],
   "source": [
    "def init_arr(n):\n",
    "    a = [0] * n\n",
    "    for i in range(n):\n",
    "        a[i] = i\n",
    "    return a"
   ]
  },
  {
   "cell_type": "code",
   "execution_count": 3,
   "id": "f81972cb",
   "metadata": {},
   "outputs": [],
   "source": [
    "import time\n",
    "import matplotlib.pyplot as plt"
   ]
  },
  {
   "cell_type": "code",
   "execution_count": 4,
   "id": "b96a99aa",
   "metadata": {},
   "outputs": [
    {
     "data": {
      "image/png": "[encoded data removed]",
      "text/plain": [
       "<Figure size 432x288 with 1 Axes>"
      ]
     },
     "metadata": {
      "needs_background": "light"
     },
     "output_type": "display_data"
    }
   ],
   "source": [
    "def running_time_data(start_size, p, step, times):\n",
    "    n = start_size\n",
    "    results = ([0] * times, [0] * times)\n",
    "    for i in range(times):\n",
    "        a = list(range(n))\n",
    "        start = time.process_time_ns() \n",
    "        p(n)\n",
    "        (results[0][i],results[1][i]) = (n, time.process_time_ns() - start)\n",
    "        n *= step\n",
    "    return results\n",
    "\n",
    "\n",
    "(size_a,t_a) = running_time_data(10,init_arr, 2,12)\n",
    "(size_l,t_l) = running_time_data(10,init_lst, 2,12)\n",
    "\n",
    "# Prepare the tool:\n",
    "_,ax = plt.subplots()\n",
    "\n",
    "# Plot the points for time for array (green) and time for list (red)\n",
    "ax.plot(size_a, t_a, color = 'green')\n",
    "ax.plot(size_l, t_l, color = 'red')\n",
    "\n",
    "# Decorate the graph:\n",
    "ax.set(xlabel='size', ylabel='time',\n",
    "       title='Running time as function of array length')\n",
    "\n",
    "# Add a grid:\n",
    "ax.grid()\n",
    "\n",
    "# Display:\n",
    "plt.show()"
   ]
  },
  {
   "cell_type": "markdown",
   "id": "c2c3d539",
   "metadata": {},
   "source": [
    "Now that you see the difference you can try experiencing it. Try the following code fragment for sizes of 1000, 10000, 100000, 1000000. Or as long as you can ... \n",
    "\n",
    "The message ```size done``` should appear quite immediatelly, as well as ```array done```. On the other hand it should soon be apparent that ```list done``` starts to take longer and become too slow. In my system, a size of 100000 is already very very slow!"
   ]
  },
  {
   "cell_type": "code",
   "execution_count": 5,
   "id": "5f614a0e",
   "metadata": {},
   "outputs": [
    {
     "name": "stdout",
     "output_type": "stream",
     "text": [
      "size done\n",
      "array done\n",
      "list done\n"
     ]
    }
   ],
   "source": [
    "size = 100000\n",
    "print('size done')\n",
    "init_arr(size)\n",
    "print('array done')\n",
    "init_lst(size)\n",
    "print('list done')"
   ]
  },
  {
   "cell_type": "markdown",
   "id": "b92db82d",
   "metadata": {},
   "source": [
    "So, why would we use lists? \n",
    "\n",
    "In many programs we do not know how many elements we need to store, moreover, the number of elements might grow and shrink during program execution. We have already been exposed to this when we calculated the independent set of maximum weight: we did not know in advance how many nodes the set would have. In that case we chose a more advanced data structure, a set.\n",
    "\n",
    "This part of the course is about  data structures that, while growing and shrinking during program execution, behave better than lists in very specific situations.\n",
    "\n",
    "The purpose of the course it that you get to know that these data structures exist, that you get to know in what situations you should choose to use one of them and that you understand how they contribute to make your program better.\n",
    "\n",
    "The next chapter is about how to use classes to define these data strustures. We will will only program some of them but you will learn how to use them all, give that they are already implemented in Python. \n",
    "\n",
    "And for one of them we can just use lists!\n",
    "\n",
    "# Stacks\n",
    "Some programs need to retrieve data in the reverse order as it was stored (Last In First Out). We call this to *stack* items of data. We could imagine doing this by using a list to add and retrieve elements at the end (we follow the advice in [Using Lists as Stacks](https://docs.python.org/3.10/tutorial/datastructures.html#using-lists-as-stacks)) from the Python documentation. The operations on lists we use are \n",
    "\n",
    "```append``` to add an element at the end of the list and \n",
    "\n",
    "```pop``` to remove the last element from the list (and return its value).\n"
   ]
  },
  {
   "cell_type": "code",
   "execution_count": 7,
   "id": "87e0e7ef",
   "metadata": {},
   "outputs": [
    {
     "name": "stdout",
     "output_type": "stream",
     "text": [
      "[0, 1, 2, 3, 4, 5, 6, 7, 8, 9]\n",
      "\n",
      "Service first in stack: 9\n",
      "[0, 1, 2, 3, 4, 5, 6, 7, 8]\n",
      "\n",
      "Service first in stack: 8\n",
      "[0, 1, 2, 3, 4, 5, 6, 7]\n",
      "\n",
      "Service first in stack: 7\n",
      "[0, 1, 2, 3, 4, 5, 6]\n",
      "\n",
      "Service first in stack: 6\n",
      "[0, 1, 2, 3, 4, 5]\n",
      "\n",
      "Service first in stack: 5\n",
      "[0, 1, 2, 3, 4]\n",
      "\n",
      "Service first in stack: 4\n",
      "[0, 1, 2, 3]\n",
      "\n",
      "Service first in stack: 3\n",
      "[0, 1, 2]\n",
      "\n",
      "Service first in stack: 2\n",
      "[0, 1]\n",
      "\n",
      "Service first in stack: 1\n",
      "[0]\n",
      "\n",
      "Service first in stack: 0\n",
      "[]\n",
      "\n"
     ]
    }
   ],
   "source": [
    "s = []\n",
    "\n",
    "for i in range(10):\n",
    "    # push by placing at the front:\n",
    "    s.append(i)\n",
    "print(s)\n",
    "print()\n",
    "\n",
    "for i in range(10):\n",
    "    # dequeue by removing from the front:\n",
    "    print('Service first in stack:', s.pop())\n",
    "    print(s)\n",
    "    print()"
   ]
  }
 ],
 "metadata": {
  "kernelspec": {
   "display_name": "Python 3 (ipykernel)",
   "language": "python",
   "name": "python3"
  },
  "language_info": {
   "codemirror_mode": {
    "name": "ipython",
    "version": 3
   },
   "file_extension": ".py",
   "mimetype": "text/x-python",
   "name": "python",
   "nbconvert_exporter": "python",
   "pygments_lexer": "ipython3",
   "version": "3.10.0"
  }
 },
 "nbformat": 4,
 "nbformat_minor": 5
}
