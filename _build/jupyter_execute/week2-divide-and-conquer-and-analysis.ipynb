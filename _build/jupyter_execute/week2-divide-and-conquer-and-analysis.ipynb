{
 "cells": [
  {
   "cell_type": "markdown",
   "metadata": {},
   "source": [
    "<!-- Remember to:\n",
    "* Produce an Html version of the notebooks so that they can use it as a webpage without needing to run code.\n",
    "* Distribute both notebook and webpage.\n",
    "* Recall alert cells\n",
    "* find standard first cell.\n",
    "-->\n",
    "\n",
    "<img src = \"https://www.hh.se/images/18.4ad3d9ee1656d0f05ef643a3/1550842090193/hh-logo.svg\" width = \"150\" align = \"left\">  \n",
    "<br>\n",
    "<br>\n",
    "<center><b>Algorithms, Data Structures and Problem Solving</b></center>\n",
    "<center> <img src = \"https://www.link.cs.cmu.edu/splay/tree5.jpg\" width = \"200\"></center>\n",
    "<center><i>A Self-Adjusting Search Tree</i></center>\n",
    "<center><i>by Jorge Stolfi</i></center>\n",
    "<br>\n",
    "<center><b>Divide and Conquer and Execution Time Analysis</b></center>\n",
    "\n",
    "This notebook provides you with material for self-study for the second week of the course. It includes recordings by Tim Roughgourden and programs in Python that illustrate in a more concrete way what he discusses. The videos take about 2 hours, so please make time to work through this notebook.\n",
    "\n",
    "We will discuss this material during the online sessions in smaller groups so that any things that you did not understand or that you would like to comment or wonder about can be brought up during these sessions. Please notice that your contributions to the online sessions can help both you and your fellow students!\n",
    "\n",
    "All videos are from the material Tim Roughgarden distributes to accompany his book series. A playlist and all videos are available via [http://www.algorithmsilluminated.org/ ]"
   ]
  },
  {
   "cell_type": "markdown",
   "metadata": {},
   "source": [
    "<div class=\"alert alert-block alert-warning\">\n",
    "\n",
    "\n",
    "\n",
    "The topics _Divide and Conquer_ and _Execution Time Analysis_ are introduced with an example: _Mergesort_. The following two short videos (9 and 13 minutes) give a motivation for why the algorithm is worth studying and develop a _pseudocode_ version. \n",
    "\n",
    "It is worth noting that the sorting function (```sorted```) and method (```sort```) in Python use an algorithm (timsort) that is based on mergesort (as is Java's algorithm).\n",
    "\n",
    "After the videos you will find a complete implementation of mergesort, borrowed from [https://introcs.cs.princeton.edu/python/home/ ]\n",
    "\n",
    "</div>\n",
    "\n",
    "<hr style=\"border:1px solid silver\"> </hr>\n",
    "\n",
    "[![](http://img.youtube.com/vi/kiyRJ7GVWro/0.jpg)](http://www.youtube.com/watch?v=kiyRJ7GVWro \"\")\n",
    "\n",
    "<hr style=\"border:1px solid silver\"> </hr>\n",
    "\n",
    "[![](http://img.youtube.com/vi/rBd5w0rQaFo/0.jpg)](http://www.youtube.com/watch?v=rBd5w0rQaFo \"\") \n",
    "\n",
    "<hr style=\"border:1px solid silver\"> </hr>\n",
    "\n",
    "<div class=\"alert alert-block alert-warning\">\n",
    "\n",
    "And now the programs. We want ```mergesort```to have only one argument: the array. But we need two more arguments to be able to make the recursive calls. That is why we use an auxiliary function ```_sort``` that we call from ```mergesort```. The function ```_sort``` takes the array, the indices that mark the fragment of the array we plan to sort, and an empty array to be able to merge the two halves that get sorted recursively. \n",
    "\n",
    "**Recommendation**: start reading from the bottom, first ```mergesort``` then ```_sort``` (that is the mergesort algorithm that Tim explains) and finally ```_merge``` (the algorithm that Tim explains) \n",
    "\n",
    "</div>"
   ]
  },
  {
   "cell_type": "code",
   "execution_count": 1,
   "metadata": {},
   "outputs": [],
   "source": [
    "def _merge(a, lo, mid, hi, aux):\n",
    "    n = hi - lo\n",
    "    i = lo\n",
    "    j = mid\n",
    "    # use aux[0:n] to merge the two parts a[lo:mid] and a[mid:hi]\n",
    "    for k in range(n):\n",
    "        if i == mid:\n",
    "            aux[k] = a[j]\n",
    "            j += 1\n",
    "        elif j == hi:\n",
    "            aux[k] = a[i]\n",
    "            i += 1\n",
    "        elif a[j] < a[i]:\n",
    "            aux[k] = a[j]\n",
    "            j += 1\n",
    "        else:\n",
    "            aux[k] = a[i]\n",
    "            i += 1\n",
    "    # update a with the merged parts\n",
    "    a[lo:hi] = aux[0:n]\n",
    "    \n",
    "def _sort(a, lo, hi, aux):\n",
    "    n = hi - lo\n",
    "    if n <= 1: # base case: nothing left to do\n",
    "        return\n",
    "    # To the meat of the algorithm. Notice the two recursive calls.\n",
    "    mid = (lo + hi) // 2 \n",
    "    _sort(a, lo, mid, aux)\n",
    "    _sort(a, mid, hi, aux)\n",
    "    _merge(a, lo, mid, hi, aux)\n",
    "    \n",
    "def mergesort(a):\n",
    "    n = len(a)\n",
    "    aux = [None] * n    # an empty array of length n\n",
    "    _sort(a, 0, n, aux) # a and aux have places indexed 0 ... (n-1)"
   ]
  },
  {
   "cell_type": "code",
   "execution_count": 2,
   "metadata": {},
   "outputs": [
    {
     "name": "stdout",
     "output_type": "stream",
     "text": [
      "[6, 4, 0, 1, 5, 7, 9, 2, 8, 3]\n",
      "[6, 4, 0, 1, 5, 7, 9, 2, 8, 3]\n",
      "[6, 4, 0, 1, 5, 2, 7, 9, 8, 3]\n",
      "[6, 4, 0, 1, 2, 5, 7, 9, 8, 3]\n"
     ]
    }
   ],
   "source": [
    "# a small example\n",
    "import random\n",
    "a = list(range(10))\n",
    "random.shuffle(a)\n",
    "print(a)\n",
    "aux = [0] * len(a)\n",
    "# lo is 2, hi is 8 (a[2] ... a[7])\n",
    "_sort(a, 2, 5, aux)\n",
    "print(a)\n",
    "_sort(a, 5, 8, aux)\n",
    "print(a)\n",
    "_merge(a, 2, 5, 8, aux)\n",
    "print(a)"
   ]
  },
  {
   "cell_type": "code",
   "execution_count": 3,
   "metadata": {},
   "outputs": [
    {
     "name": "stdout",
     "output_type": "stream",
     "text": [
      "True\n"
     ]
    }
   ],
   "source": [
    "# another way of doing it using the built in function sorted.\n",
    "# sorted returns a new array that is a sorted version of a. \n",
    "# It does not modify a (check it in another cell)\n",
    "\n",
    "a = list(range(1000000))\n",
    "random.shuffle(a)\n",
    "b = sorted(a)\n",
    "# mergesort modifies a!\n",
    "mergesort(a)\n",
    "# now a and b should be equal: both sorted!\n",
    "print(a == b)"
   ]
  },
  {
   "cell_type": "code",
   "execution_count": 4,
   "metadata": {},
   "outputs": [],
   "source": [
    "# more serious testing that exploits the previous idea.\n",
    "\n",
    "# generator(m,n) \n",
    "# returns an array with n random integers in the [-m, m) range\n",
    "# with m large for n, few repetitions\n",
    "def generator(m, n):\n",
    "    a = [0] * n\n",
    "    for i in range(n):\n",
    "        a[i] = random.randrange(-m, m)\n",
    "    return a\n",
    "\n",
    "def test_mergesort(times):\n",
    "    for i in range(times):\n",
    "        size = random.randrange(0, 100000)\n",
    "        a = generator(10*size, size)\n",
    "        b = sorted(a) \n",
    "        mergesort(a)\n",
    "        if not a == b: \n",
    "            print('Test failed for size:', size)\n",
    "            return;\n",
    "    print('All tests passed')"
   ]
  },
  {
   "cell_type": "code",
   "execution_count": 5,
   "metadata": {},
   "outputs": [
    {
     "ename": "KeyboardInterrupt",
     "evalue": "",
     "output_type": "error",
     "traceback": [
      "\u001b[0;31m---------------------------------------------------------------------------\u001b[0m",
      "\u001b[0;31mKeyboardInterrupt\u001b[0m                         Traceback (most recent call last)",
      "\u001b[0;32m/var/folders/82/jclchxtc8v5c1z006s6fwjm9v2lh42/T/ipykernel_2419/1489280709.py\u001b[0m in \u001b[0;36m<module>\u001b[0;34m\u001b[0m\n\u001b[1;32m      1\u001b[0m \u001b[0;31m# takes some time!\u001b[0m\u001b[0;34m\u001b[0m\u001b[0;34m\u001b[0m\u001b[0m\n\u001b[1;32m      2\u001b[0m \u001b[0;31m# 100 tests with random arrays that have sizes between 0 and 100000\u001b[0m\u001b[0;34m\u001b[0m\u001b[0;34m\u001b[0m\u001b[0m\n\u001b[0;32m----> 3\u001b[0;31m \u001b[0mtest_mergesort\u001b[0m\u001b[0;34m(\u001b[0m\u001b[0;36m100\u001b[0m\u001b[0;34m)\u001b[0m\u001b[0;34m\u001b[0m\u001b[0;34m\u001b[0m\u001b[0m\n\u001b[0m",
      "\u001b[0;32m/var/folders/82/jclchxtc8v5c1z006s6fwjm9v2lh42/T/ipykernel_2419/3125142877.py\u001b[0m in \u001b[0;36mtest_mergesort\u001b[0;34m(times)\u001b[0m\n\u001b[1;32m     13\u001b[0m     \u001b[0;32mfor\u001b[0m \u001b[0mi\u001b[0m \u001b[0;32min\u001b[0m \u001b[0mrange\u001b[0m\u001b[0;34m(\u001b[0m\u001b[0mtimes\u001b[0m\u001b[0;34m)\u001b[0m\u001b[0;34m:\u001b[0m\u001b[0;34m\u001b[0m\u001b[0;34m\u001b[0m\u001b[0m\n\u001b[1;32m     14\u001b[0m         \u001b[0msize\u001b[0m \u001b[0;34m=\u001b[0m \u001b[0mrandom\u001b[0m\u001b[0;34m.\u001b[0m\u001b[0mrandrange\u001b[0m\u001b[0;34m(\u001b[0m\u001b[0;36m0\u001b[0m\u001b[0;34m,\u001b[0m \u001b[0;36m100000\u001b[0m\u001b[0;34m)\u001b[0m\u001b[0;34m\u001b[0m\u001b[0;34m\u001b[0m\u001b[0m\n\u001b[0;32m---> 15\u001b[0;31m         \u001b[0ma\u001b[0m \u001b[0;34m=\u001b[0m \u001b[0mgenerator\u001b[0m\u001b[0;34m(\u001b[0m\u001b[0;36m10\u001b[0m\u001b[0;34m*\u001b[0m\u001b[0msize\u001b[0m\u001b[0;34m,\u001b[0m \u001b[0msize\u001b[0m\u001b[0;34m)\u001b[0m\u001b[0;34m\u001b[0m\u001b[0;34m\u001b[0m\u001b[0m\n\u001b[0m\u001b[1;32m     16\u001b[0m         \u001b[0mb\u001b[0m \u001b[0;34m=\u001b[0m \u001b[0msorted\u001b[0m\u001b[0;34m(\u001b[0m\u001b[0ma\u001b[0m\u001b[0;34m)\u001b[0m\u001b[0;34m\u001b[0m\u001b[0;34m\u001b[0m\u001b[0m\n\u001b[1;32m     17\u001b[0m         \u001b[0mmergesort\u001b[0m\u001b[0;34m(\u001b[0m\u001b[0ma\u001b[0m\u001b[0;34m)\u001b[0m\u001b[0;34m\u001b[0m\u001b[0;34m\u001b[0m\u001b[0m\n",
      "\u001b[0;32m/var/folders/82/jclchxtc8v5c1z006s6fwjm9v2lh42/T/ipykernel_2419/3125142877.py\u001b[0m in \u001b[0;36mgenerator\u001b[0;34m(m, n)\u001b[0m\n\u001b[1;32m      7\u001b[0m     \u001b[0ma\u001b[0m \u001b[0;34m=\u001b[0m \u001b[0;34m[\u001b[0m\u001b[0;36m0\u001b[0m\u001b[0;34m]\u001b[0m \u001b[0;34m*\u001b[0m \u001b[0mn\u001b[0m\u001b[0;34m\u001b[0m\u001b[0;34m\u001b[0m\u001b[0m\n\u001b[1;32m      8\u001b[0m     \u001b[0;32mfor\u001b[0m \u001b[0mi\u001b[0m \u001b[0;32min\u001b[0m \u001b[0mrange\u001b[0m\u001b[0;34m(\u001b[0m\u001b[0mn\u001b[0m\u001b[0;34m)\u001b[0m\u001b[0;34m:\u001b[0m\u001b[0;34m\u001b[0m\u001b[0;34m\u001b[0m\u001b[0m\n\u001b[0;32m----> 9\u001b[0;31m         \u001b[0ma\u001b[0m\u001b[0;34m[\u001b[0m\u001b[0mi\u001b[0m\u001b[0;34m]\u001b[0m \u001b[0;34m=\u001b[0m \u001b[0mrandom\u001b[0m\u001b[0;34m.\u001b[0m\u001b[0mrandrange\u001b[0m\u001b[0;34m(\u001b[0m\u001b[0;34m-\u001b[0m\u001b[0mm\u001b[0m\u001b[0;34m,\u001b[0m \u001b[0mm\u001b[0m\u001b[0;34m)\u001b[0m\u001b[0;34m\u001b[0m\u001b[0;34m\u001b[0m\u001b[0m\n\u001b[0m\u001b[1;32m     10\u001b[0m     \u001b[0;32mreturn\u001b[0m \u001b[0ma\u001b[0m\u001b[0;34m\u001b[0m\u001b[0;34m\u001b[0m\u001b[0m\n\u001b[1;32m     11\u001b[0m \u001b[0;34m\u001b[0m\u001b[0m\n",
      "\u001b[0;32m~/opt/anaconda3/envs/jbook/lib/python3.10/random.py\u001b[0m in \u001b[0;36mrandrange\u001b[0;34m(self, start, stop, step)\u001b[0m\n\u001b[1;32m    301\u001b[0m         \u001b[0;31m# common case while still doing adequate error checking.\u001b[0m\u001b[0;34m\u001b[0m\u001b[0;34m\u001b[0m\u001b[0m\n\u001b[1;32m    302\u001b[0m         \u001b[0;32mtry\u001b[0m\u001b[0;34m:\u001b[0m\u001b[0;34m\u001b[0m\u001b[0;34m\u001b[0m\u001b[0m\n\u001b[0;32m--> 303\u001b[0;31m             \u001b[0mistart\u001b[0m \u001b[0;34m=\u001b[0m \u001b[0m_index\u001b[0m\u001b[0;34m(\u001b[0m\u001b[0mstart\u001b[0m\u001b[0;34m)\u001b[0m\u001b[0;34m\u001b[0m\u001b[0;34m\u001b[0m\u001b[0m\n\u001b[0m\u001b[1;32m    304\u001b[0m         \u001b[0;32mexcept\u001b[0m \u001b[0mTypeError\u001b[0m\u001b[0;34m:\u001b[0m\u001b[0;34m\u001b[0m\u001b[0;34m\u001b[0m\u001b[0m\n\u001b[1;32m    305\u001b[0m             \u001b[0mistart\u001b[0m \u001b[0;34m=\u001b[0m \u001b[0mint\u001b[0m\u001b[0;34m(\u001b[0m\u001b[0mstart\u001b[0m\u001b[0;34m)\u001b[0m\u001b[0;34m\u001b[0m\u001b[0;34m\u001b[0m\u001b[0m\n",
      "\u001b[0;31mKeyboardInterrupt\u001b[0m: "
     ]
    }
   ],
   "source": [
    "# takes some time!\n",
    "# 100 tests with random arrays that have sizes between 0 and 100000 \n",
    "test_mergesort(100)"
   ]
  },
  {
   "cell_type": "markdown",
   "metadata": {},
   "source": [
    "<div class=\"alert alert-block alert-warning\">\n",
    "    \n",
    "The following recording (9 minutes) introduces you to the study of how fast functions grow. \n",
    "\n",
    "After the video you will find a program that plots a number of functions and a program that explores how many times you can divide by two to get to 1.\n",
    "    \n",
    "</div>\n",
    "\n",
    "<hr style=\"border:1px solid silver\"> </hr>\n",
    "\n",
    "[![](http://img.youtube.com/vi/8ArtRiTkYEw/0.jpg)](http://www.youtube.com/watch?v=8ArtRiTkYEw \"\")\n",
    "\n",
    "<hr style=\"border:1px solid silver\"> </hr>\n",
    "\n",
    "<div class=\"alert alert-block alert-warning\">\n",
    "\n",
    "And now the programs. First to explore some functions and then the interactive game Twenty Questions that should give you a sense of how slowly the logarithmic function grows.\n",
    "\n",
    "Inspect the graphs generated for the six functions below. They are meant to show you how fast they grow (some of them do not grow very fast while others do). In order to make more sense of the last graph you might want to go to the code for ```plotGrowth``` and comment away the lines that plot the functions that grow faster! This should help you understand what Tim says about being interested in big sizes and not interested in leading constants. The function ```plotGrowth``` is just a way of using the computer to gain understanding of a math concept.\n",
    "\n",
    "</div>"
   ]
  },
  {
   "cell_type": "code",
   "execution_count": 11,
   "metadata": {},
   "outputs": [],
   "source": [
    "import matplotlib\n",
    "import matplotlib.pyplot as plt\n",
    "import math\n",
    "\n",
    "def plotGrowth(start, end, step):\n",
    "    fig, ax = plt.subplots()\n",
    "    \n",
    "    # all functions in the plot use the same x-values, the values in the array n\n",
    "    # the values in the y-axis are given by arrays calculated with list comprehensions\n",
    "    # (see the first and second arguments of ax.plot)\n",
    "    \n",
    "    size = math.floor((end - start) / step)\n",
    "    n = [start + x * step for x in range(size)]\n",
    "    \n",
    "    ax.plot(n, [math.log2(x) for x in n],     color = 'red')    # logarithmic\n",
    "    ax.plot(n, n,                             color = 'blue')   # linear\n",
    "    ax.plot(n, [x * math.log2(x) for x in n], color = 'green')  # linearithmic\n",
    "    # for big numbers values of end you might want to comment the three lines below \n",
    "    # after seeing the three graphs below.\n",
    "    ax.plot(n, [x ** 2 for x in n],           color = 'brown')  # quadratic\n",
    "    ax.plot(n, [x ** 3 for x in n],           color = 'black')  # cubic\n",
    "    ax.plot(n, [2 ** x for x in n],           color = 'orange') # exponential\n",
    "\n",
    "    plt.show()"
   ]
  },
  {
   "cell_type": "code",
   "execution_count": 8,
   "metadata": {},
   "outputs": [
    {
     "data": {
      "image/png": "[encoded data removed]",
      "text/plain": [
       "<Figure size 432x288 with 1 Axes>"
      ]
     },
     "metadata": {
      "filenames": {
       "image/png": "/Users/vero/home/education/pythonGateway/theCourse/lecture-notes/_build/jupyter_execute/week2-divide-and-conquer-and-analysis_9_0.png"
      },
      "needs_background": "light"
     },
     "output_type": "display_data"
    }
   ],
   "source": [
    "plotGrowth(1, 2, 0.01)"
   ]
  },
  {
   "cell_type": "code",
   "execution_count": 9,
   "metadata": {},
   "outputs": [
    {
     "data": {
      "image/png": "[encoded data removed]",
      "text/plain": [
       "<Figure size 432x288 with 1 Axes>"
      ]
     },
     "metadata": {
      "filenames": {
       "image/png": "/Users/vero/home/education/pythonGateway/theCourse/lecture-notes/_build/jupyter_execute/week2-divide-and-conquer-and-analysis_10_0.png"
      },
      "needs_background": "light"
     },
     "output_type": "display_data"
    }
   ],
   "source": [
    "plotGrowth(1, 10, 0.01)"
   ]
  },
  {
   "cell_type": "code",
   "execution_count": 12,
   "metadata": {},
   "outputs": [
    {
     "data": {
      "image/png": "[encoded data removed]",
      "text/plain": [
       "<Figure size 432x288 with 1 Axes>"
      ]
     },
     "metadata": {
      "filenames": {
       "image/png": "/Users/vero/home/education/pythonGateway/theCourse/lecture-notes/_build/jupyter_execute/week2-divide-and-conquer-and-analysis_11_0.png"
      },
      "needs_background": "light"
     },
     "output_type": "display_data"
    }
   ],
   "source": [
    "plotGrowth(1, 100, 0.01)"
   ]
  },
  {
   "cell_type": "code",
   "execution_count": null,
   "metadata": {},
   "outputs": [],
   "source": [
    "def _search(lo, hi):\n",
    "    if (hi - lo) == 1:\n",
    "        return lo\n",
    "    mid = (hi + lo) // 2\n",
    "    \n",
    "    s = input('Is your number greater than or equal to ' + str(mid) + '?  ')\n",
    "    if s == 'y':\n",
    "        return _search(mid, hi)\n",
    "    else:\n",
    "        return _search(lo, mid)\n",
    "    \n",
    "def twenty_questions():\n",
    "    n = 10 ** 6\n",
    "    print('Think of a number between 0 and 1000000')\n",
    "    print('Then answer with y/n')\n",
    "    guess = _search(0, n)\n",
    "    print('Your number is ' + str(guess))"
   ]
  },
  {
   "cell_type": "code",
   "execution_count": null,
   "metadata": {},
   "outputs": [],
   "source": [
    "twenty_questions()"
   ]
  },
  {
   "cell_type": "markdown",
   "metadata": {},
   "source": [
    "If you think about it, the previous algorithm finds out your guess by searching for your number among 1 000 000 numbers and it uses only 20 questions! it uses the fact that the set of numbers is ordered and that by knowing on what half of the interval your number is, it can discard half of the remaining numbers. So, after your first answer it has only 500 000 numbers left to inspect, after your second answer only 250 000, after your third answer only 125 000 etc. How many times can you divide by two before getting to 1 (the number it is looking for!)? Well, this is exactly the definition of logarithm in base 2! And $log_2$(1 000 000) is 19.931568569324174 (another way of seeing it: $2^{20}$ is 1 048 576)"
   ]
  },
  {
   "cell_type": "markdown",
   "metadata": {},
   "source": [
    "<div class=\"alert alert-block alert-warning\">\n",
    "    \n",
    "The following recording (15 minutes) introduces you to the guiding principles of execution time analysis.\n",
    "\n",
    "After watching the video you should try to modify the implementation of mergesort above so that for small arrays (say less than 10 elements) it uses insertion sort. This modification only affects the base case! You find an implementation of insertion sort after the video. Why is it a good idea to do this?\n",
    "    \n",
    "</div>\n",
    "\n",
    "<hr style=\"border:1px solid silver\"> </hr>\n",
    "\n",
    "[![](http://img.youtube.com/vi/-yP11jqilwM/0.jpg)](http://www.youtube.com/watch?v=-yP11jqilwM \"\")\n",
    "\n",
    "<hr style=\"border:1px solid silver\"> </hr>\n",
    "\n",
    "<div class=\"alert alert-block alert-warning\">\n",
    "    \n",
    "So, here is insertion sort that you will need in order to modify the base case of merge sort. Move the definition to the cell containing ```mergesort```, ```_sort``` and ```_merge```.\n",
    "\n",
    "</div>"
   ]
  },
  {
   "cell_type": "code",
   "execution_count": null,
   "metadata": {},
   "outputs": [],
   "source": [
    "def _insertionsort(a):\n",
    "    n = len(a)\n",
    "    for i in range(1, n):\n",
    "        j = i\n",
    "        while (j > 0) and (a[j] < a[j-1]):\n",
    "            a[j-1], a[j] = a[j], a[j-1]\n",
    "            j -= 1"
   ]
  },
  {
   "cell_type": "markdown",
   "metadata": {},
   "source": [
    "<div class=\"alert alert-block alert-warning\">\n",
    "\n",
    "The following recording (14 minutes) explains how to look at an algorithm to calculate its execution time. All the examples described in the video are shown as Python programs in the following cells. Maybe you might want to pause the video and play with the program discussed before moving on in the video.\n",
    "\n",
    "</div>\n",
    "\n",
    "<hr style=\"border:1px solid silver\"> </hr>\n",
    "\n",
    "[![](http://img.youtube.com/vi/l-cNaKGc-yY/0.jpg)](http://www.youtube.com/watch?v=l-cNaKGc-yY \"\")\n",
    "\n",
    "<hr style=\"border:1px solid silver\"> </hr>\n",
    "\n",
    "<div class=\"alert alert-block alert-warning\">\n",
    "    \n",
    "And now the examples from the lecture as Python programs.\n",
    "\n",
    "</div>"
   ]
  },
  {
   "cell_type": "code",
   "execution_count": 14,
   "metadata": {},
   "outputs": [],
   "source": [
    "# One loop\n",
    "def linear_search(a, t):\n",
    "    n = len(a)\n",
    "    for i in range(n):\n",
    "        if a[i] == t: return True\n",
    "    return False"
   ]
  },
  {
   "cell_type": "code",
   "execution_count": 29,
   "metadata": {},
   "outputs": [
    {
     "data": {
      "text/plain": [
       "False"
      ]
     },
     "execution_count": 29,
     "metadata": {},
     "output_type": "execute_result"
    }
   ],
   "source": [
    "arr = list(range(1000000))\n",
    "linear_search(arr, -1)"
   ]
  },
  {
   "cell_type": "code",
   "execution_count": 21,
   "metadata": {},
   "outputs": [],
   "source": [
    "# Two loops\n",
    "# Arrays a and b are of the same length\n",
    "def combined_linear_search(a, b, t):\n",
    "    n = len(a)\n",
    "    for i in range(n):\n",
    "        if a[i] == t: return True\n",
    "    for i in range(n):\n",
    "        if b[i] == t: return True\n",
    "    return False"
   ]
  },
  {
   "cell_type": "code",
   "execution_count": 30,
   "metadata": {},
   "outputs": [
    {
     "data": {
      "text/plain": [
       "False"
      ]
     },
     "execution_count": 30,
     "metadata": {},
     "output_type": "execute_result"
    }
   ],
   "source": [
    "brr = list(range(len(arr)))\n",
    "combined_linear_search(arr,brr,-1)"
   ]
  },
  {
   "cell_type": "code",
   "execution_count": 31,
   "metadata": {},
   "outputs": [],
   "source": [
    "# Two nested loops (I)\n",
    "# Arrays a and b are of the same length\n",
    "def common_element(a, b):\n",
    "    n = len(a)\n",
    "    for i in range(n):\n",
    "        for j in range(n):\n",
    "            if a[i] == b[j]: return True\n",
    "    return False"
   ]
  },
  {
   "cell_type": "code",
   "execution_count": 36,
   "metadata": {},
   "outputs": [
    {
     "data": {
      "text/plain": [
       "False"
      ]
     },
     "execution_count": 36,
     "metadata": {},
     "output_type": "execute_result"
    }
   ],
   "source": [
    "n = 10000\n",
    "arr = list(range(n))\n",
    "brr = list(range(n, 2*n))\n",
    "common_element(arr, brr)"
   ]
  },
  {
   "cell_type": "code",
   "execution_count": null,
   "metadata": {},
   "outputs": [],
   "source": [
    "# Two nested loops (II)\n",
    "def duplicates(a):\n",
    "    n = len(a)\n",
    "    for i in range(n):\n",
    "        for j in range(i+1,n):\n",
    "            if a[i] == a[j]: return True\n",
    "    return False"
   ]
  },
  {
   "cell_type": "markdown",
   "metadata": {},
   "source": [
    "<div class=\"alert alert-block alert-warning\">\n",
    "\n",
    "The following recording (4 minutes) introduces the Big O notation. You have to think of teh function T(n) he uses along the lecture as the function giving you the execution time of your program in terms of the size of the input (and not the input itself). This function is something you can obtain by experimenting. In the lab that you have to do for next week you will be experimenting with a program (quicksort) meassuring execution time to obtain T(n) for quicksort and compareing it with the analysis that gives you the Big O behaviour of quicksort.\n",
    "\n",
    "After the video is a short piece of code that shows how you can obtain a fragment of T(n) for a program.\n",
    "    \n",
    "</div>\n",
    "\n",
    "<hr style=\"border:1px solid silver\"> </hr>\n",
    "\n",
    "[![](http://img.youtube.com/vi/QfRSeibcugw/0.jpg)](http://www.youtube.com/watch?v=QfRSeibcugw \"\")\n",
    "\n",
    "<hr style=\"border:1px solid silver\"> </hr>\n",
    "\n",
    "<div class=\"alert alert-block alert-warning\">\n",
    "\n",
    "And now how to meassure execution time and obtaining a fragment of T(n) by experimenting with the program.\n",
    "\n",
    "</div>"
   ]
  },
  {
   "cell_type": "code",
   "execution_count": null,
   "metadata": {},
   "outputs": [],
   "source": [
    "import time\n",
    "import math\n",
    "def experiment(f, size, iters):\n",
    "    all = [None] * iters\n",
    "    for i in range(0, iters):\n",
    "        a = generator(10000, size)\n",
    "        t = time.time()\n",
    "        f(a)\n",
    "        t = time.time() - t\n",
    "        all[i] = [size, t]\n",
    "        size = 2 * size\n",
    "    return all # a list with (sizes, times)"
   ]
  },
  {
   "cell_type": "code",
   "execution_count": null,
   "metadata": {},
   "outputs": [],
   "source": [
    "# Experiment with duplicates with arrays of sizes 100, 2*100, 2*2*100, ... 10 times\n",
    "experiment(duplicates, 100, 10) "
   ]
  },
  {
   "cell_type": "markdown",
   "metadata": {},
   "source": [
    "<div class=\"alert alert-block alert-warning\">\n",
    "\n",
    "The final two recordings (13 and 17 minutes) present the problem of counting inversions and two algorithms: a so called _Brute Force_ algorithm and a _Divide and Conquer_ algorithm. The lecture includes an execution time analysis of both. It also includes a description of _Divide and Conquer_ as a way of comming up with recursive algorithms.\n",
    "\n",
    "After the video you find the programs for both algorithms.\n",
    "\n",
    "</div>\n",
    "\n",
    "<hr style=\"border:1px solid silver\"> </hr>\n",
    "\n",
    "[![](http://img.youtube.com/vi/7_AJfusC6UQ/0.jpg)](http://www.youtube.com/watch?v=7_AJfusC6UQ \"\")\n",
    "\n",
    "<hr style=\"border:1px solid silver\"> </hr>\n",
    "\n",
    "[![](http://img.youtube.com/vi/I6ygiW8xN7Y/0.jpg)](http://www.youtube.com/watch?v=I6ygiW8xN7Y \"\")\n",
    "\n",
    "<hr style=\"border:1px solid silver\"> </hr>\n",
    "\n",
    "<div class=\"alert alert-block alert-warning\">\n",
    "    \n",
    "Finally, the two programs for counting inversions.\n",
    "\n",
    "</div>"
   ]
  },
  {
   "cell_type": "code",
   "execution_count": null,
   "metadata": {},
   "outputs": [],
   "source": [
    "# Brute force\n",
    "def bf_count_inversions(a):\n",
    "    n = len(a)\n",
    "    inversions = 0\n",
    "    for i in range(n):\n",
    "        for j in range(i+1, n):\n",
    "            if a[j] < a[i]: inversions += 1\n",
    "    return inversions\n",
    "# Try some experiments with the execution times. Can you see that it is quadratic?"
   ]
  },
  {
   "cell_type": "code",
   "execution_count": null,
   "metadata": {},
   "outputs": [],
   "source": [
    "# Divide and conquer\n",
    "def dc_count_inversions(a):\n",
    "    # We leave this as an exercise to discuss on the coding session!\n",
    "    return 0"
   ]
  },
  {
   "cell_type": "code",
   "execution_count": null,
   "metadata": {},
   "outputs": [],
   "source": []
  }
 ],
 "metadata": {
  "kernelspec": {
   "display_name": "Python 3 (ipykernel)",
   "language": "python",
   "name": "python3"
  },
  "language_info": {
   "codemirror_mode": {
    "name": "ipython",
    "version": 3
   },
   "file_extension": ".py",
   "mimetype": "text/x-python",
   "name": "python",
   "nbconvert_exporter": "python",
   "pygments_lexer": "ipython3",
   "version": "3.10.0"
  }
 },
 "nbformat": 4,
 "nbformat_minor": 4
}