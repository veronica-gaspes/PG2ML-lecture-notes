{
 "cells": [
  {
   "cell_type": "markdown",
   "id": "6d7321c4",
   "metadata": {},
   "source": [
    "# Hash tables\n",
    "\n",
    "Hash tables are discussed in sections 12.1 to 12.4 in part 2 of the book [Algorithms Illuminated](http://www.algorithmsilluminated.org) (there are videos in the website).\n",
    "\n",
    "Try the following code cell that uses the type ```dict```: we can use it almost as an array but where the indices are (almost) of any type! We call these indices the *keys* and the content the *values*. In other words, we use hash tables to store key-value pairs. Amazingly, the Big-O for adding elements, looking up and removing elements is $O(1)$!\n",
    "\n",
    "phoneNumbers = dict()\n",
    "phoneNumbers['vero'] = 123\n",
    "phoneNumbers['martin'] = 456\n",
    "phoneNumbers['tim'] = 789\n",
    "\n",
    "print(phoneNumbers['martin'])\n",
    "\n",
    "if  'anna' in phoneNumbers: \n",
    "    print(phoneNumbers['anna'])\n",
    "else: \n",
    "    phoneNumbers['anna'] = phoneNumbers['tim']\n",
    "    print(phoneNumbers['anna'])\n",
    "\n",
    "for key in phoneNumbers:\n",
    "    print (key, phoneNumbers[key])"
   ]
  },
  {
   "cell_type": "code",
   "execution_count": 1,
   "id": "6772cf2e",
   "metadata": {},
   "outputs": [
    {
     "name": "stdout",
     "output_type": "stream",
     "text": [
      "456\n",
      "789\n",
      "vero 123\n",
      "martin 456\n",
      "tim 789\n",
      "anna 789\n"
     ]
    }
   ],
   "source": [
    "phoneNumbers = dict()\n",
    "phoneNumbers['vero'] = 123\n",
    "phoneNumbers['martin'] = 456\n",
    "phoneNumbers['tim'] = 789\n",
    "\n",
    "print(phoneNumbers['martin'])\n",
    "\n",
    "if  'anna' in phoneNumbers: \n",
    "    print(phoneNumbers['anna'])\n",
    "else: \n",
    "    phoneNumbers['anna'] = phoneNumbers['tim']\n",
    "    print(phoneNumbers['anna'])\n",
    "\n",
    "for key in phoneNumbers:\n",
    "    print (key, phoneNumbers[key])"
   ]
  },
  {
   "cell_type": "markdown",
   "id": "75a6041b",
   "metadata": {},
   "source": [
    "The first line creates an empty dictionary. The next three lines add the pairs ```('vero', 123)```, ```('martin', 456)``` and ```('tim', 789)```.\n",
    "\n",
    "The line ```'anna' in phoneNumbers``` tests whether there is a pair with key ```'anna'``` in the dictionary.  \n",
    "\n",
    "Please observe that the ```for```-loop that goes through all of the keys does not get them in any specific order (if we needed to preserve an order between the elements we would use another type, implemented using binary search trees).\n",
    "\n",
    "## Example 1: de-duplicate\n",
    "For the first example in the book of using hash tables (de-duplicate) we write a program that removes duplicate words from a file.  In this program we use the type ```set``` in Python: uses a hash table to store values, not necessarily key-value pairs. \n",
    "\n",
    "In a set there is only one occurrence of each value. The operations on sets include adding an element to a set (```s.add(e)``` to add element ```e``` to the set ```s```). Adding an element that is already there has no effect!\n",
    "\n",
    "In order to test it with a file of a reasonable size you might want to download [Tom Sawyer](https://introcs.cs.princeton.edu/python/33design/tomsawyer.txt) to the directory where you have this notebook.\n",
    "\n"
   ]
  },
  {
   "cell_type": "code",
   "execution_count": 2,
   "id": "4449522d",
   "metadata": {},
   "outputs": [],
   "source": [
    "import re"
   ]
  },
  {
   "cell_type": "code",
   "execution_count": 3,
   "id": "25ac9bc7",
   "metadata": {},
   "outputs": [],
   "source": [
    "def de_duplicate(input_file, output_file):\n",
    "\n",
    "    f = open(input_file, 'r')\n",
    "    \n",
    "\n",
    "    txt  = f.read()\n",
    "    f.close()\n",
    "    \n",
    "    text = re.findall(r\"[a-zA-Z']+\", txt)\n",
    "    \n",
    "    # Now to the algorithm: just insert words in the set \n",
    "    # (implemented with a hash table!)\n",
    "    words = set()\n",
    "    for word in text:\n",
    "        words.add(word.lower()) \n",
    "    \n",
    "    # open a file for writing\n",
    "    f = open(output_file,'w')\n",
    "    \n",
    "    # write one word at a time\n",
    "    for word in words:\n",
    "        f.write(word + '\\n')\n",
    "        \n",
    "    f.close()\n",
    "    \n",
    "    return len(words)"
   ]
  },
  {
   "cell_type": "markdown",
   "id": "eddeba42",
   "metadata": {},
   "source": [
    "## Quiz\n",
    "\n",
    "If you know that the operation of adding an element to a set is $O(1)$, and the operation for retrieving an element from the set (as in the iterator in the ```for```-loop) is $O(1)$, what is the Big-O for the execution time of this program?\n",
    "\n",
    "Again, using the right data structure makes an algorithm easy to understand and efficient!\n",
    "\n",
    "\n",
    "## Example 2: count words\n",
    "\n",
    "We expand on this example by using ```dict``` instead of ```set```: this allows us to use the words as keys and to each key associate a value to count how many times each distinct word occurrs in a file. \n",
    "\n"
   ]
  },
  {
   "cell_type": "code",
   "execution_count": 4,
   "id": "a7b06840",
   "metadata": {},
   "outputs": [],
   "source": [
    "def word_count(input_file, output_file):\n",
    " \n",
    "    f = open(input_file, 'r')\n",
    "    txt  = f.read()\n",
    "    f.close()\n",
    " \n",
    "    text = re.findall(r\"[a-zA-Z']+\", txt)\n",
    "    \n",
    "    counts = dict()\n",
    "    for word in text:\n",
    "        w = word.lower()\n",
    "        if w in counts: \n",
    "            counts[w] += 1\n",
    "        else:\n",
    "            counts[w] = 1\n",
    "    \n",
    "    f = open(output_file,'w')\n",
    "    \n",
    "    for word in counts:\n",
    "        f.write(word + ' '+ str(counts[word]) + '\\n')\n",
    "\n",
    "    f.close()\n",
    "    return len(counts)"
   ]
  },
  {
   "cell_type": "markdown",
   "id": "a1abb735",
   "metadata": {},
   "source": [
    "## Example 3: the 2-sum problem\n",
    "\n",
    "The next example is the 2-sum problem. In the book you can find three algorithms. The last one uses a hash table. We write programs for the three of them and use a Python ```set``` for the hash table."
   ]
  },
  {
   "cell_type": "code",
   "execution_count": 5,
   "id": "27af2bdd",
   "metadata": {},
   "outputs": [],
   "source": [
    "# brute force 2 Sum: Are there two elements x and y in a s.t. x + y = t?\n",
    "# The programmer has not taken a course on algorithms and datastructures\n",
    "# and does not know better!\n",
    "# We signal that there is no pair that adds to t\n",
    "# by returning -1 (for an index that is not possible)\n",
    "\n",
    "def bf_2_sum(a, t):\n",
    "    for i in range(len(a)):\n",
    "        for j in range(i + 1, len(a)):\n",
    "            if a[i] + a[j] == t: return (i, j)\n",
    "    return (-1,-1)"
   ]
  },
  {
   "cell_type": "code",
   "execution_count": 6,
   "id": "77e321c4",
   "metadata": {},
   "outputs": [],
   "source": [
    "# sort and search (using binary search) to look for t - a[i]\n",
    "# The programmer knows that \n",
    "# sorting can be O(n log(n)) and binary search O(log(n))!\n",
    "\n",
    "def _bs(a, lo, hi, x):\n",
    "    if hi - lo < 0: return -1\n",
    "    mid = (lo + hi) // 2\n",
    "    if a[mid] == x: return mid\n",
    "    if a[mid] < x : return _bs(a, mid + 1, hi, x)\n",
    "    return _bs(a, lo, mid - 1 , x)\n",
    "\n",
    "\n",
    "def s_and_s_2_sum(a, t):\n",
    "    # sorting with Pythons algorithm is O(n log(n))\n",
    "    b = sorted(a)\n",
    "\n",
    "    # n iterations and in each iteration log(n) work: O(n log(n))\n",
    "    for i in range(len(a)):\n",
    "        j = _bs(b, i + 1, len(b) - 1, t - b[i])\n",
    "        if j != -1: return (i, j)\n",
    "    return (-1,-1)"
   ]
  },
  {
   "cell_type": "code",
   "execution_count": 7,
   "id": "c4bd57f9",
   "metadata": {},
   "outputs": [],
   "source": [
    "# Using a hash table.\n",
    "# The programmer knows that \n",
    "# inserting and looking up in a hash table is constant time!\n",
    "def ht_2_sum(a, t):\n",
    "    h = dict()\n",
    "    # do not be confused, h is not an array. It is a hash table!\n",
    "    # for duplicate elements we replace the index each time \n",
    "    # the element occurs.\n",
    "    # n iterations and in each iteration O(1) work: O(n)\n",
    "    for i in range(len(a)):\n",
    "        h[a[i]] = i\n",
    "        \n",
    "    # n iterations and in each iteration O(1) work: O(n)\n",
    "    for i in range(len(a)):\n",
    "        if t - a[i] in h: return (i, h[t - a[i]])\n",
    "    return (-1,-1)"
   ]
  },
  {
   "cell_type": "markdown",
   "id": "35a1e435",
   "metadata": {},
   "source": [
    "## Exercise\n",
    "\n",
    "Test all three programs using ```list(range(10000))``` for the input array and ```20000``` for the number (we know that $2 \\cdot 9999 = 19998 < 20000$ so that we exercise the worst case for all three programs)."
   ]
  },
  {
   "cell_type": "code",
   "execution_count": null,
   "id": "efc23277",
   "metadata": {},
   "outputs": [],
   "source": []
  }
 ],
 "metadata": {
  "kernelspec": {
   "display_name": "Python 3 (ipykernel)",
   "language": "python",
   "name": "python3"
  },
  "language_info": {
   "codemirror_mode": {
    "name": "ipython",
    "version": 3
   },
   "file_extension": ".py",
   "mimetype": "text/x-python",
   "name": "python",
   "nbconvert_exporter": "python",
   "pygments_lexer": "ipython3",
   "version": "3.10.0"
  }
 },
 "nbformat": 4,
 "nbformat_minor": 5
}