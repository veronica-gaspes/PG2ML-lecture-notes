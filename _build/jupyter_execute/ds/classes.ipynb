{
 "cells": [
  {
   "cell_type": "markdown",
   "metadata": {},
   "source": [
    "# Classes\n",
    "\n",
    "With classes we can define **Abstract Data Types**. You can think of this as extending Python with new types. With classes we say both what the objects (values) of the new type are and also what operations you can do with them.\n",
    "\n",
    "The simplest example I can come up with is a data type for *counters*. I have already described it in \n",
    "[A concise presentation of Python](https://veronica-gaspes.github.io/Concise-Python/class-defs.html). The abstract data type is an implementation of something like \n",
    "\n",
    "<img src = \"https://i5.walmartimages.com/asr/4cec132e-6c9a-4ea5-88d6-754dcf27c63b_1.a8d67a1b6eeacd6410db8f31ae44aa3a.jpeg?odnWidth=1000&odnHeight=1000&odnBg=ffffff\" width = \"150\">\n",
    "\n",
    "In a very abstract fashion this is just a number that can be incremented. If you buy one of those you can press the button and the number is incremented by 1. The guy that checks how many people attend a movie in my local film club uses one of these: he stands at the door and just presses the button when we get into the theatre.\n",
    "\n",
    "You can imagine other types of data that are not part of Python. For example bank accounts. For our purposes, a bank account has an owner and a balance (how much money is in the account). The operations are: to deposit and to withdraw money. Here is an implementation. The point of showing you this implementation is for you to distinguish between the instance variables (for the owner and the balance) from the arguments of methods (functions in a class are called methods, and they are used with the . notation as you can see in the exmple directly after the class definition)."
   ]
  },
  {
   "cell_type": "code",
   "execution_count": 1,
   "metadata": {},
   "outputs": [],
   "source": [
    "class BankAccount:\n",
    "    #------\n",
    "    \n",
    "    # Construct a bank account for \n",
    "    #     - a given person identified by a string with numbers (in Sweden personnummer)\n",
    "    #     - a start amount of money, by default 0\n",
    "    # In programs we do not use __init__. Instead we will create a BankAccount as in \n",
    "    #  ba_1 = BankAccount('123456')\n",
    "    # or\n",
    "    #  ba_2 = BankAccount('123456', 10000)\n",
    "    \n",
    "    def __init__(self, identity, amount = 0):\n",
    "        # instance variables balance and id get their first values\n",
    "        self.balance = amount\n",
    "        self.id = identity\n",
    "       \n",
    "    # The operation of depositing money\n",
    "    # updates the value of the instance variable balance.\n",
    "    # it is used without self, as in \n",
    "    #  ba_1.deposit(10000)\n",
    "    \n",
    "    def deposit(self, amount):\n",
    "        self.balance += amount\n",
    "        \n",
    "    # The operation of withdrawing  money\n",
    "    # updates the value of the instance variable balance only when it is possible:\n",
    "    \n",
    "    def withdraw(self, amount):\n",
    "        if self.balance >= amount:\n",
    "            self.balance -= amount\n",
    "       \n",
    "    \n",
    "    # A standard operation to that printing or showing a value shows what we want and not just a memory address\n",
    "    def __str__(self):\n",
    "        return 'Bank account for ' + self.id + ' with balance ' + str(self.balance)\n",
    "        \n",
    "    "
   ]
  },
  {
   "cell_type": "markdown",
   "metadata": {},
   "source": [
    "In the following example make sure you understand how ```__init__```, ```__str__```, ```deposit``` and  ```withdraw``` are used and make sure you understand that the values of the instance variables preserve the state of the bank account. \n",
    "\n",
    "What in the definitions of the methods is an argument (```self```) in the uses is the object before the ```.```.\n",
    "\n",
    "As you can see, the bank account is the same all along, but the amount of money in the account changes as the program deposits and withdraws."
   ]
  },
  {
   "cell_type": "code",
   "execution_count": 2,
   "metadata": {},
   "outputs": [
    {
     "name": "stdout",
     "output_type": "stream",
     "text": [
      "Bank account for 123456 with balance 0\n",
      "Bank account for 123456 with balance 10000\n",
      "Bank account for 123456 with balance 10000\n",
      "Bank account for 123456 with balance 9990\n"
     ]
    }
   ],
   "source": [
    "ba_1 = BankAccount('123456')\n",
    "print(ba_1)\n",
    "ba_1.deposit(10000)\n",
    "print(ba_1)\n",
    "ba_1.withdraw(10010)\n",
    "print(ba_1)\n",
    "ba_1.withdraw(10)\n",
    "print(ba_1)"
   ]
  },
  {
   "cell_type": "code",
   "execution_count": null,
   "metadata": {},
   "outputs": [],
   "source": []
  }
 ],
 "metadata": {
  "kernelspec": {
   "display_name": "Python 3 (ipykernel)",
   "language": "python",
   "name": "python3"
  },
  "language_info": {
   "codemirror_mode": {
    "name": "ipython",
    "version": 3
   },
   "file_extension": ".py",
   "mimetype": "text/x-python",
   "name": "python",
   "nbconvert_exporter": "python",
   "pygments_lexer": "ipython3",
   "version": "3.10.0"
  }
 },
 "nbformat": 4,
 "nbformat_minor": 4
}