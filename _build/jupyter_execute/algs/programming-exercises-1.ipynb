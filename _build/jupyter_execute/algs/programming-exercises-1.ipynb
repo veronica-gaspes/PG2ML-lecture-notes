{
 "cells": [
  {
   "cell_type": "markdown",
   "metadata": {},
   "source": [
    "# Programming exercises 1\n",
    "\n",
    "These exercises relate to the first lecture where we showed 2 problems, several algorithms for each problem and several programs for each algorithm.\n",
    "\n",
    "The problems from the lecture were:\n",
    "\n",
    "1) Calculate all prime numbers smaller or equal to a given bound\n",
    "\n",
    "2) Calculate the product of two non negative integers\n",
    "\n",
    "The lecture also included brief introductions to ```for``` loops and recursion.\n",
    "\n",
    "## Exercises\n",
    "\n",
    "1) Program a recursive function to convert a number to base 16 (hexadecimal). Use strings 0, 1, 2, 3, 4, 5, 6, 7, 8, 9, A, B, C, D, E and F for the figures. For example, number 15 should be converted to ```'F'``` and number 16 to ```'10'```. Complete the code in the following cell where indicated."
   ]
  },
  {
   "cell_type": "code",
   "execution_count": 1,
   "metadata": {},
   "outputs": [
    {
     "ename": "IndentationError",
     "evalue": "expected an indented block after function definition on line 2 (3238732830.py, line 6)",
     "output_type": "error",
     "traceback": [
      "\u001b[0;36m  File \u001b[0;32m\"/var/folders/82/jclchxtc8v5c1z006s6fwjm9v2lh42/T/ipykernel_76280/3238732830.py\"\u001b[0;36m, line \u001b[0;32m6\u001b[0m\n\u001b[0;31m    \u001b[0m\n\u001b[0m    ^\u001b[0m\n\u001b[0;31mIndentationError\u001b[0m\u001b[0;31m:\u001b[0m expected an indented block after function definition on line 2\n"
     ]
    }
   ],
   "source": [
    "figures = '0123456789ABCDEF'\n",
    "def hexadecimal(n):\n",
    "    # Your code here.\n",
    "    # use an if-statement to distinguish the base case from the recursive case.\n",
    "    # use the definition of binary from the lecture as inspiration\n",
    "        "
   ]
  },
  {
   "cell_type": "markdown",
   "metadata": {},
   "source": [
    "2) Program a function to test your implementation. \n",
    "\n",
    "   a) Define a function that takes a string describing a hexadecimal number and calculates the integer value of it (we provide you with the definition below, see ```from_hexa```). \n",
    "    \n",
    "   b) Define a function that generates random numbers and then tests equality of the number generated with the number obataines by first converting to hexadecimal and then back to number. "
   ]
  },
  {
   "cell_type": "code",
   "execution_count": 30,
   "metadata": {},
   "outputs": [],
   "source": [
    "import random"
   ]
  },
  {
   "cell_type": "code",
   "execution_count": 84,
   "metadata": {},
   "outputs": [],
   "source": [
    "def from_hexa(h):\n",
    "    res = 0\n",
    "    for i in range(len(h)):\n",
    "        res = res + figures.find(h[i]) * 16**(len(h)-i-1)\n",
    "    return res\n",
    "    \n",
    "def test_hexadecimal(times):\n",
    "    # Your code here\n",
    "    # times is the number of experiments your function should do\n"
   ]
  },
  {
   "cell_type": "markdown",
   "metadata": {},
   "source": [
    "3) Modify your function ```hexadecimal``` so that it returns a pair: the hexadecimal string for the argument and the number of recursive calls. Complete the code in the function ```hexadecimal_count``` below. "
   ]
  },
  {
   "cell_type": "code",
   "execution_count": 142,
   "metadata": {},
   "outputs": [],
   "source": [
    "def hexadecimal_count(n, c):\n",
    "    # Your code here\n",
    "    # You will call the function with 0 for c.\n",
    "    # The return value is a pair, you need to handle this to build the hexadecimal string\n",
    "    "
   ]
  },
  {
   "cell_type": "markdown",
   "metadata": {},
   "source": [
    "\n",
    "4) Use your function to complete in the following table\n",
    "\n",
    "| n  |  count recursive calls |\n",
    "----: | :----:\n",
    "| 10 |   0 |\n",
    "| 100 |   1 |\n",
    "| 1000 |    |\n",
    "| 10000 |    |\n",
    "| 100000|    |\n",
    "| 1000000|    |\n",
    "| 10000000|  |\n",
    "| 100000000 | |\n",
    "\n",
    "What **grows** faster? The input n or the number of recursive calls? \n"
   ]
  },
  {
   "cell_type": "code",
   "execution_count": null,
   "metadata": {},
   "outputs": [],
   "source": []
  }
 ],
 "metadata": {
  "kernelspec": {
   "display_name": "Python 3",
   "language": "python",
   "name": "python3"
  },
  "language_info": {
   "codemirror_mode": {
    "name": "ipython",
    "version": 3
   },
   "file_extension": ".py",
   "mimetype": "text/x-python",
   "name": "python",
   "nbconvert_exporter": "python",
   "pygments_lexer": "ipython3",
   "version": "3.10.0"
  }
 },
 "nbformat": 4,
 "nbformat_minor": 4
}