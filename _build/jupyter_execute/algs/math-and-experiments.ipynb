{
 "cells": [
  {
   "cell_type": "markdown",
   "id": "055a7a48",
   "metadata": {},
   "source": [
    "# Measuring and estimating execution time behaviour\n",
    "\n",
    "We write programs to solve computational problems. In this section we are interested not so much in what the program calculates but instead in something that we can observe from the program execution: how much time execution takes.\n",
    "\n",
    "## Experiments\n",
    "We start by designing experiments that expose the execution time behaviour of programs. We borrrow ideas from the book [Introduction to Programming in Python](https://introcs.cs.princeton.edu/python/home/).\n",
    "\n",
    "Notice that the experiments we describe are actually implemented as *programs* that generate data for us to analyse and draw conclusions:\n",
    "\n",
    "* We start with a program $P$ that solves a problem, \n",
    "* we then write a program that *uses* $P$ to solve many instances of the problem to be able to collect data about the execution time. \n",
    "* We analyse the data to draw conclusions.\n",
    "\n",
    "We hope that this approach contributes to develop your programming skills and that you get to know fragments of Python that you might not encounter otherwise.\n",
    "\n",
    "## What it is that we want to observe in order to collect data?\n",
    "We are interested in **time**. We want quantitative measurments of the time it takes for a program to execute: measure the execution time (running time) of a program. In Python there is support for doing so in the module ```time``` documented in [time](https://docs.python.org/3/library/time.html). We are interested in functions that measure time our program is running. We believe the closest we can get to this is the function \n",
    "\n",
    "```Python\n",
    "process_time() \n",
    "```\n",
    "that, according to the documentation returns a float with *the value (in fractional seconds) of the sum of the system and user CPU time of the current process. It does not include time elapsed during sleep. It is process-wide by definition. The reference point of the returned value is undefined, so that only the difference between the results of two calls is valid.*\n",
    "\n",
    "We can also use \n",
    "\n",
    "```Python\n",
    "process_time_ns() \n",
    "```\n",
    "\n",
    "that returns an integer with the number of nanoseconds. In both cases, we need to establish a starting point for the measurement and then take the difference with the point where the measurement should end. \n",
    "\n",
    "Here is a first example with two ways of calculating the sum of all squares up to a bound:\n",
    "\n",
    "$$ \\sum_{i = 0}^{i < bound}{i ^2} $$\n",
    "\n",
    "In the first version we use ```i * i``` to calculate $i^2$:\n",
    "```Python\n",
    "value1 = 0\n",
    "for i in range(bound):\n",
    "    value1 += i * i\n",
    "```\n",
    "\n",
    "In the second version we use ```i ** 2``` instead:\n",
    "```Python\n",
    "value2 = 0\n",
    "for i in range(bound):\n",
    "    value2 += i ** 2\n",
    "```\n",
    "\n",
    "In both versions we have added code to also calculate the running time:"
   ]
  },
  {
   "cell_type": "code",
   "execution_count": 1,
   "id": "8792d1fb",
   "metadata": {},
   "outputs": [],
   "source": [
    "import time"
   ]
  },
  {
   "cell_type": "code",
   "execution_count": 2,
   "id": "58715e57",
   "metadata": {},
   "outputs": [
    {
     "name": "stdout",
     "output_type": "stream",
     "text": [
      "333333283333335000000 1118811000\n",
      "333333283333335000000 2693223000\n"
     ]
    }
   ],
   "source": [
    "bound = 10000000\n",
    "\n",
    "start1 = time.process_time_ns() \n",
    "value1 = 0\n",
    "for i in range(bound):\n",
    "    value1 += i * i\n",
    "running_time1 = time.process_time_ns() - start1\n",
    "\n",
    "start2 = time.process_time_ns() \n",
    "value2 = 0\n",
    "for i in range(bound):\n",
    "    value2 += i ** 2\n",
    "running_time2 = time.process_time_ns() - start2\n",
    "\n",
    "print(value1, running_time1)\n",
    "print(value2, running_time2)"
   ]
  },
  {
   "cell_type": "markdown",
   "id": "dcae5502",
   "metadata": {},
   "source": [
    "When you test this program you will observe two things:\n",
    "\n",
    "1) Of course ```value1``` is equal to ```value2``` for a given bound.  But the running times are not the same: the fragment that uses ```** 2``` takes longer time.\n",
    "\n",
    "2) Running the program several times for a given bound yields different values of running time. This is due to the fact that the process that is measured is involved in more than just our code cell, it is running this notebook which involves autosaving and a lot of other stuff. \n",
    "\n",
    "3) If we increase the bound then the execution time increases.\n",
    "\n",
    "We now program a function that can allow us to compare the two execution times for different bounds. Observe that we use ```process_time()``` instead of ```process_time_ns()``` because we will print the quotient. \n"
   ]
  },
  {
   "cell_type": "code",
   "execution_count": 3,
   "id": "e287a443",
   "metadata": {},
   "outputs": [],
   "source": [
    "def running_time_experiment_sum_squares(initial_bound, step, times):\n",
    "    \n",
    "    bound = initial_bound\n",
    "\n",
    "    for t in range(times):\n",
    "        \n",
    "        start1 = time.process_time() \n",
    "        value1 = 0\n",
    "        for i in range(bound):\n",
    "            value1 += i * i\n",
    "        running_time1 = time.process_time() - start1\n",
    "\n",
    "        start2 = time.process_time() \n",
    "        value2 = 0\n",
    "        for i in range(bound):\n",
    "            value2 += i ** 2\n",
    "        running_time2 = time.process_time() - start2\n",
    "        \n",
    "        print(bound, \n",
    "              running_time1, \n",
    "              running_time2, \n",
    "              running_time2 / running_time1)\n",
    "        \n",
    "        bound *= step"
   ]
  },
  {
   "cell_type": "code",
   "execution_count": 4,
   "id": "ec348a23",
   "metadata": {},
   "outputs": [
    {
     "name": "stdout",
     "output_type": "stream",
     "text": [
      "1000 7.599999999996498e-05 0.00023299999999970566 3.0657894736817504\n",
      "2000 0.00015300000000006975 0.00047099999999922204 3.0784313725425316\n",
      "4000 0.0003150000000005093 0.0009579999999997924 3.0412698412642647\n",
      "8000 0.0006129999999995306 0.0019260000000000943 3.1419249592195255\n",
      "16000 0.0012410000000002697 0.0038469999999994897 3.0999194198216387\n",
      "32000 0.002500000000000391 0.007781999999999734 3.1127999999994067\n",
      "64000 0.004903999999999797 0.015570000000000306 3.1749592169659357\n",
      "128000 0.009997999999999507 0.031024999999999636 3.1031206241249416\n",
      "256000 0.019999000000000322 0.061949999999999505 3.0976548827440626\n"
     ]
    },
    {
     "name": "stdout",
     "output_type": "stream",
     "text": [
      "512000 0.03957700000000042 0.1240319999999997 3.1339414306288598\n"
     ]
    },
    {
     "name": "stdout",
     "output_type": "stream",
     "text": [
      "1024000 0.08024500000000057 0.2468130000000004 3.075743036949326\n"
     ]
    },
    {
     "name": "stdout",
     "output_type": "stream",
     "text": [
      "2048000 0.1587670000000001 0.4919779999999996 3.098742181939567\n"
     ]
    },
    {
     "name": "stdout",
     "output_type": "stream",
     "text": [
      "4096000 0.31739300000000004 0.9833259999999999 3.098133859284861\n"
     ]
    },
    {
     "name": "stdout",
     "output_type": "stream",
     "text": [
      "8192000 0.6316429999999995 1.980581 3.13560191437252\n"
     ]
    },
    {
     "name": "stdout",
     "output_type": "stream",
     "text": [
      "16384000 1.2714400000000001 3.952271999999999 3.108500597747435\n"
     ]
    }
   ],
   "source": [
    "# Start with a bound of 1000, double the bound each time and do it 15 times.\n",
    "\n",
    "running_time_experiment_sum_squares(1000, 2, 15)"
   ]
  },
  {
   "cell_type": "markdown",
   "id": "4e55e507",
   "metadata": {},
   "source": [
    "In my system the results show that the use of ```** 2``` makes the program about 3 times slower compared to using ```*```. This relation does not seem to change as the bound grows.\n",
    "\n",
    "\n",
    "The total execution time of each fragment grows when the bound grows, but it *grows at the same rate* for both fragments.\n",
    "\n",
    "Is it always like this? Well, no! Lets try using ```+``` and a ```for``` loop instead of times in yet another fragment in our experiment:\n"
   ]
  },
  {
   "cell_type": "code",
   "execution_count": 5,
   "id": "be76308f",
   "metadata": {},
   "outputs": [],
   "source": [
    "def running_time_experiment_sum_squares_v2(initial_bound, step, times):\n",
    "    \n",
    "    bound = initial_bound\n",
    "\n",
    "    for t in range(times):\n",
    "        \n",
    "        start1 = time.process_time() \n",
    "        value1 = 0\n",
    "        for i in range(bound):\n",
    "            value1 += i * i\n",
    "        running_time1 = time.process_time() - start1\n",
    "\n",
    "        start2 = time.process_time() \n",
    "        value2 = 0\n",
    "        for i in range(bound):\n",
    "            value2 += i ** 2\n",
    "        running_time2 = time.process_time() - start2\n",
    "        \n",
    "        start3 = time.process_time() \n",
    "        value3 = 0\n",
    "        for i in range(bound):\n",
    "            sq = 0\n",
    "            for j in range(i):\n",
    "                sq += i\n",
    "            value3 += sq\n",
    "        running_time3 = time.process_time() - start3\n",
    "        \n",
    "        print(bound, \n",
    "              running_time1, \n",
    "              running_time2, \n",
    "              running_time3, \n",
    "              running_time2 / running_time1, \n",
    "              running_time3 / running_time1)\n",
    "        \n",
    "        bound *= step"
   ]
  },
  {
   "cell_type": "code",
   "execution_count": 6,
   "id": "b11bf895",
   "metadata": {},
   "outputs": [
    {
     "name": "stdout",
     "output_type": "stream",
     "text": [
      "1000 7.899999999949614e-05 0.00023200000000045407 0.022548999999999708 2.9367088607839715 285.43037974865223\n",
      "2000 0.00015500000000123748 0.00046999999999997044 0.0941409999999987 3.0322580644917294 607.3612903177233\n"
     ]
    },
    {
     "name": "stdout",
     "output_type": "stream",
     "text": [
      "4000 0.0003170000000007889 0.000968000000000302 0.38250599999999935 3.0536277602457194 1206.6435331200234\n"
     ]
    },
    {
     "name": "stdout",
     "output_type": "stream",
     "text": [
      "8000 0.0006160000000008381 0.0019290000000005136 1.5548649999999995 3.13149350649008 2524.1314935030587\n"
     ]
    },
    {
     "name": "stdout",
     "output_type": "stream",
     "text": [
      "16000 0.0012259999999990612 0.003955000000001263 6.239272 3.2259380097914288 5089.128874392151\n"
     ]
    }
   ],
   "source": [
    "# Start with a bound of 1000, double the bound each time and do it 5 times.\n",
    "\n",
    "running_time_experiment_sum_squares_v2(1000, 2, 5)"
   ]
  },
  {
   "cell_type": "markdown",
   "id": "e4b79e55",
   "metadata": {},
   "source": [
    "I hope you can observe that the third approach is not only *much* slower: it is also the case that when the bound grows the execution time grows much faster! In my system, for a bound of 1000 it is 300 times slower and for a bound of 16000 it is 5000 times slower!\n",
    "\n",
    "This should make you curious about exploring *execution time* **as a function of** some characteristic of the input that measures *the problem size*."
   ]
  },
  {
   "cell_type": "markdown",
   "id": "05c9b7f8",
   "metadata": {},
   "source": [
    " # Understanding the math for algorithm analysis\n",
    "\n",
    "The book [Algorithms Illuminated](http://www.algorithmsilluminated.org) explains *asymptotic notation*, the mathematical formalism that is used for analysing the execution time of algorithms. \n",
    "\n",
    "We now take a look at these concepts and illustrate them with programs that allow you to experiment with each of the concepts. Our hope is that this section will help you understand the math and also get some practice in using yet more fragments of Python while developing your programming skills even further.\n",
    "\n",
    "We start by exploring how some functions behave when their input become larger and larger. \n",
    "\n",
    "## Constant functions\n",
    "\n",
    "These are functions that have the same value for all inputs. Here are some examples:\n",
    "$$ f(x) = 3$$\n",
    "\n",
    "$$ g(x) = -34$$\n",
    "\n",
    "$$ h(x) = 1234567,89$$\n",
    "\n",
    "Here is a little tool to plot functions in Python. We need the module ```matplotlib```. "
   ]
  },
  {
   "cell_type": "code",
   "execution_count": 7,
   "id": "3b059ff6",
   "metadata": {},
   "outputs": [],
   "source": [
    "import matplotlib.pyplot as plt"
   ]
  },
  {
   "cell_type": "code",
   "execution_count": 8,
   "id": "f116a9cd",
   "metadata": {},
   "outputs": [
    {
     "data": {
      "image/png": "[encoded data removed]",
      "text/plain": [
       "<Figure size 432x288 with 1 Axes>"
      ]
     },
     "metadata": {
      "filenames": {
       "image/png": "/Users/vero/home/education/pythonGateway/theCourse/PG2ML-lecture-notes/_build/jupyter_execute/algs/math-and-experiments_12_0.png"
      },
      "needs_background": "light"
     },
     "output_type": "display_data"
    }
   ],
   "source": [
    "# The x values:\n",
    "x  = range(100)\n",
    "\n",
    "# The y values for the constant functions 3 and -34\n",
    "fx = [3 for i in x]\n",
    "gx = [-34 for i in x]\n",
    "\n",
    "# Prepare the tool:\n",
    "_,ax = plt.subplots()\n",
    "\n",
    "# Plot the points for fx and gx:\n",
    "ax.plot(x, fx)\n",
    "ax.plot(x,gx)\n",
    "\n",
    "# Decorate the graph:\n",
    "ax.set(xlabel='x', ylabel='f(x), g(x)',\n",
    "       title='Constant functions')\n",
    "\n",
    "# Add a grid:\n",
    "ax.grid()\n",
    "\n",
    "# Display:\n",
    "plt.show()"
   ]
  },
  {
   "cell_type": "markdown",
   "id": "defe757a",
   "metadata": {},
   "source": [
    "## Linear functions\n",
    "\n",
    "We will only consider linear functions that are grow as the argument grows: positive slope.\n",
    "\n",
    "$$f(x) = 4x + 10$$\n",
    "\n",
    "$$g(x) = 2x + 100$$\n",
    "\n",
    "The slope is the coefficient of $x$. The other number is the point where the line crosses the $y$-axis (when $x$ is $0$)"
   ]
  },
  {
   "cell_type": "code",
   "execution_count": 9,
   "id": "e1e4a746",
   "metadata": {},
   "outputs": [
    {
     "data": {
      "image/png": "[encoded data removed]",
      "text/plain": [
       "<Figure size 432x288 with 1 Axes>"
      ]
     },
     "metadata": {
      "filenames": {
       "image/png": "/Users/vero/home/education/pythonGateway/theCourse/PG2ML-lecture-notes/_build/jupyter_execute/algs/math-and-experiments_14_0.png"
      },
      "needs_background": "light"
     },
     "output_type": "display_data"
    }
   ],
   "source": [
    "# The x values:\n",
    "x  = range(100)\n",
    "\n",
    "# The y values for the linear function 4x + 10 and 2x + 100\n",
    "fx = [4*i+10 for i in x]\n",
    "gx = [2*i+100 for i in x]\n",
    "\n",
    "\n",
    "# Prepare the tool:\n",
    "_,ax = plt.subplots()\n",
    "\n",
    "# Plot the points for fx and gx:\n",
    "ax.plot(x, fx)\n",
    "ax.plot(x, gx)\n",
    "\n",
    "\n",
    "# Decorate the graph:\n",
    "ax.set(xlabel='x', ylabel='f(x), g(x)',\n",
    "       title='Linear functions')\n",
    "\n",
    "# Add a grid:\n",
    "ax.grid()\n",
    "\n",
    "# Display:\n",
    "plt.show()"
   ]
  },
  {
   "cell_type": "markdown",
   "id": "c202bb41",
   "metadata": {},
   "source": [
    "## Quadratic functions\n",
    "\n",
    "$$ f(x) = 3x^2 + 4x + 10 $$\n",
    "\n",
    "$$ g(x) = 5x^2 + 4x + 10$$\n",
    "\n",
    "Make sure you notice the values that the functions take in the $y$-axis."
   ]
  },
  {
   "cell_type": "code",
   "execution_count": 10,
   "id": "f4784c23",
   "metadata": {},
   "outputs": [
    {
     "data": {
      "image/png": "[encoded data removed]",
      "text/plain": [
       "<Figure size 432x288 with 1 Axes>"
      ]
     },
     "metadata": {
      "filenames": {
       "image/png": "/Users/vero/home/education/pythonGateway/theCourse/PG2ML-lecture-notes/_build/jupyter_execute/algs/math-and-experiments_16_0.png"
      },
      "needs_background": "light"
     },
     "output_type": "display_data"
    }
   ],
   "source": [
    "# The x values:\n",
    "x  = range(100)\n",
    "\n",
    "# The y values for the quadratic function 3x^2 + 4x + 10 and 5x^2 + 4x + 10\n",
    "fx = [3*i*i + 4*i + 10000 for i in x]\n",
    "gx = [5*i*i+ 4*i + 10 for i in x]\n",
    "\n",
    "\n",
    "# Prepare the tool:\n",
    "_,ax = plt.subplots()\n",
    "\n",
    "# Plot the points for fx and gx:\n",
    "ax.plot(x, fx)\n",
    "ax.plot(x, gx)\n",
    "\n",
    "\n",
    "# Decorate the graph:\n",
    "ax.set(xlabel='x', ylabel='f(x), g(x)',\n",
    "       title='Quadratic functions')\n",
    "\n",
    "# Add a grid:\n",
    "ax.grid()\n",
    "\n",
    "# Display:\n",
    "plt.show()"
   ]
  },
  {
   "cell_type": "markdown",
   "id": "969b34cc",
   "metadata": {},
   "source": [
    "## Logarithmic functions\n",
    "\n",
    "We have illustrated functions that do not grow (constant functions), functions that grow with a constant slope (linear functions) and functions that grow with increasing slope (quadratic functions). \n",
    "\n",
    "Are there functions that grow with a decreasing slope? Well yes: logarithmic functions:\n",
    "\n",
    "$$ f(x) = \\ln(x) $$\n",
    "\n",
    "$$ g(x) = \\log_2(x) + 5$$\n",
    "\n",
    "We now need the ```math```module to be able to use the logarithm functions."
   ]
  },
  {
   "cell_type": "code",
   "execution_count": 11,
   "id": "67d04249",
   "metadata": {},
   "outputs": [],
   "source": [
    "import math"
   ]
  },
  {
   "cell_type": "code",
   "execution_count": 12,
   "id": "81a92513",
   "metadata": {},
   "outputs": [
    {
     "data": {
      "image/png": "[encoded data removed]",
      "text/plain": [
       "<Figure size 432x288 with 1 Axes>"
      ]
     },
     "metadata": {
      "filenames": {
       "image/png": "/Users/vero/home/education/pythonGateway/theCourse/PG2ML-lecture-notes/_build/jupyter_execute/algs/math-and-experiments_19_0.png"
      },
      "needs_background": "light"
     },
     "output_type": "display_data"
    }
   ],
   "source": [
    "# The x values:\n",
    "x  = range(1,100)\n",
    "\n",
    "# The y values for the logarithmic functions ln(x) and log_2(x) + 5\n",
    "fx = [math.log(i) for i in x]\n",
    "gx = [math.log2(i) + 5 for i in x]\n",
    "\n",
    "\n",
    "# Prepare the tool:\n",
    "_,ax = plt.subplots()\n",
    "\n",
    "# Plot the points for fx and gx:\n",
    "ax.plot(x, fx)\n",
    "ax.plot(x, gx)\n",
    "\n",
    "\n",
    "# Decorate the graph:\n",
    "ax.set(xlabel='x', ylabel='f(x), g(x)',\n",
    "       title='Logarithmic functions')\n",
    "\n",
    "# Add a grid:\n",
    "ax.grid()\n",
    "\n",
    "# Display:\n",
    "plt.show()"
   ]
  },
  {
   "cell_type": "markdown",
   "id": "de7d159f",
   "metadata": {},
   "source": [
    "It is interesting to see what happens of we put all of them in one plot!"
   ]
  },
  {
   "cell_type": "code",
   "execution_count": 13,
   "id": "bb0c10f7",
   "metadata": {},
   "outputs": [
    {
     "data": {
      "image/png": "[encoded data removed]",
      "text/plain": [
       "<Figure size 432x288 with 1 Axes>"
      ]
     },
     "metadata": {
      "filenames": {
       "image/png": "/Users/vero/home/education/pythonGateway/theCourse/PG2ML-lecture-notes/_build/jupyter_execute/algs/math-and-experiments_21_0.png"
      },
      "needs_background": "light"
     },
     "output_type": "display_data"
    }
   ],
   "source": [
    "# The x values:\n",
    "x  = range(1,100)\n",
    "# The y values\n",
    "f1 = [3 for i in x]\n",
    "f2 = [-34 for i in x]\n",
    "f3 = [4*i+10 for i in x]\n",
    "f4 = [2*i+100 for i in x]\n",
    "f5 = [3*i*i + 4*i + 10000 for i in x]\n",
    "f6 = [5*i*i+ 4*i + 10 for i in x]\n",
    "f7 = [math.log(i) for i in x]\n",
    "f8 = [math.log2(i) + 5 for i in x]\n",
    "\n",
    "\n",
    "# Prepare the tool:\n",
    "_,ax = plt.subplots()\n",
    "\n",
    "# Plot the points for f1 ... f8:\n",
    "ax.plot(x, f1)\n",
    "ax.plot(x, f2)\n",
    "ax.plot(x, f3)\n",
    "ax.plot(x, f4)\n",
    "ax.plot(x, f5)\n",
    "ax.plot(x, f6)\n",
    "ax.plot(x, f7)\n",
    "ax.plot(x, f8)\n",
    "\n",
    "\n",
    "# Decorate the graph:\n",
    "ax.set(xlabel='x', ylabel='f(x)',\n",
    "       title='functions')\n",
    "\n",
    "# Add a grid:\n",
    "ax.grid()\n",
    "\n",
    "# Display:\n",
    "plt.show()"
   ]
  },
  {
   "cell_type": "markdown",
   "id": "cf0ad6f6",
   "metadata": {},
   "source": [
    "Can you explain what you see?\n",
    "\n",
    "We leave the quadratic functons out (they are too *dominant*)."
   ]
  },
  {
   "cell_type": "code",
   "execution_count": 14,
   "id": "32e0a0b8",
   "metadata": {},
   "outputs": [
    {
     "data": {
      "image/png": "[encoded data removed]",
      "text/plain": [
       "<Figure size 432x288 with 1 Axes>"
      ]
     },
     "metadata": {
      "filenames": {
       "image/png": "/Users/vero/home/education/pythonGateway/theCourse/PG2ML-lecture-notes/_build/jupyter_execute/algs/math-and-experiments_23_0.png"
      },
      "needs_background": "light"
     },
     "output_type": "display_data"
    }
   ],
   "source": [
    "# The x values:\n",
    "x  = range(1,100)\n",
    "# The y values\n",
    "f1 = [3 for i in x]\n",
    "f2 = [-34 for i in x]\n",
    "f3 = [4*i+10 for i in x]\n",
    "f4 = [2*i+100 for i in x]\n",
    "#f5 = [3*i*i + 4*i + 10000 for i in x]\n",
    "#f6 = [5*i*i+ 4*i + 10 for i in x]\n",
    "f7 = [math.log(i) for i in x]\n",
    "f8 = [math.log2(i) + 5 for i in x]\n",
    "\n",
    "\n",
    "# Prepare the tool:\n",
    "_,ax = plt.subplots()\n",
    "\n",
    "# Plot the points for all functions except f5 and f6\n",
    "ax.plot(x, f1)\n",
    "ax.plot(x, f2)\n",
    "ax.plot(x, f3)\n",
    "ax.plot(x, f4)\n",
    "#ax.plot(x, f5)\n",
    "#ax.plot(x, f6)\n",
    "ax.plot(x, f7)\n",
    "ax.plot(x, f8)\n",
    "\n",
    "\n",
    "# Decorate the graph:\n",
    "ax.set(xlabel='x', ylabel='f(x)',\n",
    "       title='functions')\n",
    "\n",
    "# Add a grid:\n",
    "ax.grid()\n",
    "\n",
    "# Display:\n",
    "plt.show()"
   ]
  },
  {
   "cell_type": "markdown",
   "id": "c8ff2eba",
   "metadata": {},
   "source": [
    "Now the linear functions dominate! So let's leave them out too:"
   ]
  },
  {
   "cell_type": "code",
   "execution_count": 15,
   "id": "51ff36d0",
   "metadata": {},
   "outputs": [
    {
     "data": {
      "image/png": "[encoded data removed]",
      "text/plain": [
       "<Figure size 432x288 with 1 Axes>"
      ]
     },
     "metadata": {
      "filenames": {
       "image/png": "/Users/vero/home/education/pythonGateway/theCourse/PG2ML-lecture-notes/_build/jupyter_execute/algs/math-and-experiments_25_0.png"
      },
      "needs_background": "light"
     },
     "output_type": "display_data"
    }
   ],
   "source": [
    "# The x values:\n",
    "x  = range(1,100)\n",
    "# The y values\n",
    "f1 = [3 for i in x]\n",
    "f2 = [-34 for i in x]\n",
    "#f3 = [4*i+10 for i in x]\n",
    "#f4 = [2*i+100 for i in x]\n",
    "#f5 = [3*i*i + 4*i + 10000 for i in x]\n",
    "#f6 = [5*i*i+ 4*i + 10 for i in x]\n",
    "f7 = [math.log(i) for i in x]\n",
    "f8 = [math.log2(i) + 5 for i in x]\n",
    "\n",
    "\n",
    "# Prepare the tool:\n",
    "_,ax = plt.subplots()\n",
    "\n",
    "# Plot the points for f1, f2, f7 and f8:\n",
    "ax.plot(x, f1)\n",
    "ax.plot(x, f2)\n",
    "#ax.plot(x, f3)\n",
    "#ax.plot(x, f4)\n",
    "#ax.plot(x, f5)\n",
    "#ax.plot(x, f6)\n",
    "ax.plot(x, f7)\n",
    "ax.plot(x, f8)\n",
    "\n",
    "\n",
    "# Decorate the graph:\n",
    "ax.set(xlabel='x', ylabel='f(x)',\n",
    "       title='functions')\n",
    "\n",
    "# Add a grid:\n",
    "ax.grid()\n",
    "\n",
    "# Display:\n",
    "plt.show()"
   ]
  },
  {
   "cell_type": "markdown",
   "id": "a18d20fe",
   "metadata": {},
   "source": [
    "Logarithms for large values of the argument are almost constant!"
   ]
  },
  {
   "cell_type": "markdown",
   "id": "47203039",
   "metadata": {},
   "source": [
    "## Ordering functions according to how fast they grow\n",
    "\n",
    "1) Constant\n",
    "\n",
    "2) Logarithmic\n",
    "\n",
    "3) Linear\n",
    "\n",
    "4) Linearithmic (can you guess what this is?)\n",
    "\n",
    "5) Quadratic\n",
    "\n",
    "6) Cubic\n",
    "\n",
    "7) Exponential (can you guess what this is?)\n",
    "\n",
    "# Experiments with asymptotic running time\n",
    "\n",
    "In the book you will find out how these functions are used to estimate how the execution time grows as a function of some size of the input. \n",
    "\n",
    "Here are some of the examples from the book as programs. In the book you are asked to guess the asymptotic running time of the code fragments. Here we do experiments to see what we can say from data we observe and relate to the discussions in the book.\n",
    "\n",
    "In all cases you are asked to guess whether the asymptotic behaviour is constant, logarithmic, linear or quadratic. \n",
    "\n",
    "## Searching one array\n",
    "\n",
    "The algorithm is presented in the book. We show how to organise an experiment and you will be asked to do the other cases on your own.\n",
    "\n",
    "The first program is as follows:"
   ]
  },
  {
   "cell_type": "code",
   "execution_count": 16,
   "id": "6af09346",
   "metadata": {},
   "outputs": [],
   "source": [
    "def search1(a, t):\n",
    "    n = len(a)\n",
    "    for i in range(n):\n",
    "        if a[i] == t: return True\n",
    "    return False"
   ]
  },
  {
   "cell_type": "code",
   "execution_count": 17,
   "id": "e662a62e",
   "metadata": {},
   "outputs": [
    {
     "data": {
      "text/plain": [
       "True"
      ]
     },
     "execution_count": 17,
     "metadata": {},
     "output_type": "execute_result"
    }
   ],
   "source": [
    "search1([1,2,3,4,5,6], 3)"
   ]
  },
  {
   "cell_type": "markdown",
   "id": "181286a7",
   "metadata": {},
   "source": [
    "And here is how we can set up an experiment.\n",
    "\n",
    "First we need to identify what characteristic of the input can influence the running time: what is the size of the input?\n",
    "\n",
    "Given that the number of iterations is at most the length of the input array we settle for this. The maximum number of iterations is reached whenever the input is such that the sought element does not occur in the array. \n",
    "\n",
    "We then meassure execution time for arrays of increasing sizes not containing the sought element. We can do this by generating ranges of positive numbers and looking for -1."
   ]
  },
  {
   "cell_type": "code",
   "execution_count": 18,
   "id": "804a00a8",
   "metadata": {},
   "outputs": [],
   "source": [
    "import time"
   ]
  },
  {
   "cell_type": "code",
   "execution_count": 19,
   "id": "d1e6ab13",
   "metadata": {},
   "outputs": [],
   "source": [
    "def running_time_data(start_size, step, times):\n",
    "    n = start_size\n",
    "    results = ([0] * times, [0] * times)\n",
    "    for i in range(times):\n",
    "        a = list(range(n))\n",
    "        start = time.process_time_ns() \n",
    "        search1(a,-1)\n",
    "        (results[0][i],results[1][i]) = (n, time.process_time_ns() - start)\n",
    "        n *= step\n",
    "    return results\n",
    "        "
   ]
  },
  {
   "cell_type": "code",
   "execution_count": 20,
   "id": "cc396e6e",
   "metadata": {},
   "outputs": [
    {
     "data": {
      "text/plain": [
       "([1000,\n",
       "  2000,\n",
       "  4000,\n",
       "  8000,\n",
       "  16000,\n",
       "  32000,\n",
       "  64000,\n",
       "  128000,\n",
       "  256000,\n",
       "  512000,\n",
       "  1024000,\n",
       "  2048000,\n",
       "  4096000,\n",
       "  8192000,\n",
       "  16384000],\n",
       " [158000,\n",
       "  308000,\n",
       "  621000,\n",
       "  1251000,\n",
       "  2472000,\n",
       "  4986000,\n",
       "  10338000,\n",
       "  21364000,\n",
       "  41514000,\n",
       "  82111000,\n",
       "  132291000,\n",
       "  107150000,\n",
       "  207231000,\n",
       "  434085000,\n",
       "  860222000])"
      ]
     },
     "execution_count": 20,
     "metadata": {},
     "output_type": "execute_result"
    }
   ],
   "source": [
    "# You could use this data in a table or, as below, in a plot\n",
    "running_time_data(1000,2,15)"
   ]
  },
  {
   "cell_type": "code",
   "execution_count": 21,
   "id": "8ae2d05c",
   "metadata": {},
   "outputs": [],
   "source": [
    "import matplotlib.pyplot as plt"
   ]
  },
  {
   "cell_type": "code",
   "execution_count": 22,
   "id": "729b9403",
   "metadata": {},
   "outputs": [
    {
     "data": {
      "image/png": "[encoded data removed]",
      "text/plain": [
       "<Figure size 432x288 with 1 Axes>"
      ]
     },
     "metadata": {
      "filenames": {
       "image/png": "/Users/vero/home/education/pythonGateway/theCourse/PG2ML-lecture-notes/_build/jupyter_execute/algs/math-and-experiments_35_0.png"
      },
      "needs_background": "light"
     },
     "output_type": "display_data"
    }
   ],
   "source": [
    "(size,t) = running_time_data(1000,2,15)\n",
    "\n",
    "# Prepare the tool:\n",
    "_,ax = plt.subplots()\n",
    "\n",
    "# Plot the points fo fx and gx:\n",
    "ax.plot(size, t)\n",
    "\n",
    "# Decorate the graph:\n",
    "ax.set(xlabel='size', ylabel='time',\n",
    "       title='Running time as function of array length')\n",
    "\n",
    "# Add a grid:\n",
    "ax.grid()\n",
    "\n",
    "# Display:\n",
    "plt.show()"
   ]
  },
  {
   "cell_type": "markdown",
   "id": "ad6f024a",
   "metadata": {},
   "source": [
    "### Quiz \n",
    "Adapted to Python from Quiz 2.1 in Algorithms illuminated, part 1, page 39.\n",
    "The solution to the quiz is discussed in section 2.1.4 of the book. The explanation is not based on an experiment but on counting operations and using asymptotic analysis. Does the experiment confirm the answer?\n",
    "\n",
    "What is the asymptotic running time for ```search1```?\n",
    "\n",
    "1) $O(1)$\n",
    "\n",
    "2) $O($log$ \\,n)$\n",
    "\n",
    "3) $O(n)$\n",
    "\n",
    "4) $O(n^2)$\n",
    "\n"
   ]
  },
  {
   "cell_type": "markdown",
   "id": "5fd50cfe",
   "metadata": {},
   "source": [
    "## Searching two arrays\n",
    "\n",
    "In the cell below you have the program for searching.\n",
    "\n",
    "You should try an experiment at in the previous case. We recommend you to use a smaller number of times you duplicate the size of the arrays. "
   ]
  },
  {
   "cell_type": "code",
   "execution_count": 23,
   "id": "d67cca3e",
   "metadata": {},
   "outputs": [],
   "source": [
    "def search2(a,b,t):\n",
    "    n = len(a)\n",
    "    for i in range(n):\n",
    "        if a[i] == t: return True\n",
    "    for i in range(n):\n",
    "        if b[i] == t: return True\n",
    "    return False    "
   ]
  },
  {
   "cell_type": "code",
   "execution_count": 24,
   "id": "b5097f6e",
   "metadata": {},
   "outputs": [
    {
     "data": {
      "text/plain": [
       "False"
      ]
     },
     "execution_count": 24,
     "metadata": {},
     "output_type": "execute_result"
    }
   ],
   "source": [
    "search2([1,2,3,4,5,6], [-1,-2,-3,-4,-5,-6], 0)"
   ]
  },
  {
   "cell_type": "markdown",
   "id": "d3b66c57",
   "metadata": {},
   "source": [
    "### Quiz \n",
    "Adapted to Python from Quiz 2.2 in Algorithms illuminated, part 1, page 40.\n",
    "The solution to the quiz is discussed in section 2.1.4 of the book. The explanation is not based on an experiment but on counting operations and using asymptotic analysis. Does the experiment confirm the answer?\n",
    "\n",
    "What is the asymptotic running time for ```search2```?\n",
    "\n",
    "1) $O(1)$\n",
    "\n",
    "2) $O($log$ \\,n)$\n",
    "\n",
    "3) $O(n)$\n",
    "\n",
    "4) $O(n^2)$\n",
    "\n",
    "\n"
   ]
  },
  {
   "cell_type": "markdown",
   "id": "f2db3bbf",
   "metadata": {},
   "source": [
    "## Checking for a common element"
   ]
  },
  {
   "cell_type": "code",
   "execution_count": 25,
   "id": "38e10d1e",
   "metadata": {},
   "outputs": [],
   "source": [
    "def common(a,b):\n",
    "    n = len(a)\n",
    "    for i in range(n):\n",
    "        for j in range(n):\n",
    "            if a[i] == b[j]: return True\n",
    "    return False"
   ]
  },
  {
   "cell_type": "code",
   "execution_count": 26,
   "id": "6ffe0027",
   "metadata": {},
   "outputs": [
    {
     "data": {
      "text/plain": [
       "False"
      ]
     },
     "execution_count": 26,
     "metadata": {},
     "output_type": "execute_result"
    }
   ],
   "source": [
    "common([1,2,3,4,5,6], [-1,-2,-3,-4,-5,-6])"
   ]
  },
  {
   "cell_type": "markdown",
   "id": "63cdabc0",
   "metadata": {},
   "source": [
    "### Quiz \n",
    "Adapted to Python from Quiz 2.3 in Algorithms illuminated, part 1, page 41.\n",
    "The solution to the quiz is discussed in section 2.1.4 of the book. The explanation is not based on an experiment but on counting operations and using asymptotic analysis. Does the experiment confirm the answer?\n",
    "\n",
    "What is the asymptotic running time for ```common```?\n",
    "\n",
    "1) $O(1)$\n",
    "\n",
    "2) $O($log$ \\,n)$\n",
    "\n",
    "3) $O(n)$\n",
    "\n",
    "4) $O(n^2)$\n",
    "\n",
    "\n"
   ]
  },
  {
   "cell_type": "markdown",
   "id": "5054f314",
   "metadata": {},
   "source": [
    "## Checking for duplicates"
   ]
  },
  {
   "cell_type": "code",
   "execution_count": 27,
   "id": "f7d428ad",
   "metadata": {},
   "outputs": [],
   "source": [
    "def duplicates(a):\n",
    "    n = len(a)\n",
    "    for i in range(n):\n",
    "        for j in range(i + 1, n):\n",
    "            if a[i] == a[j]: return True\n",
    "    return False"
   ]
  },
  {
   "cell_type": "code",
   "execution_count": 28,
   "id": "830c325d",
   "metadata": {},
   "outputs": [
    {
     "data": {
      "text/plain": [
       "True"
      ]
     },
     "execution_count": 28,
     "metadata": {},
     "output_type": "execute_result"
    }
   ],
   "source": [
    "duplicates([1,2,3,4,3,2,1])"
   ]
  },
  {
   "cell_type": "markdown",
   "id": "a96f5f47",
   "metadata": {},
   "source": [
    "### Quiz \n",
    "Adapted to Python from Quiz 2.4 in Algorithms illuminated, part 1, page 42.\n",
    "The solution to the quiz is discussed in section 2.1.4 of the book. The explanation is not based on an experiment but on counting operations and using asymptotic analysis. Does the experiment confirm the answer?\n",
    "\n",
    "What is the asymptotic running time for ```duplicates```?\n",
    "\n",
    "1) $O(1)$\n",
    "\n",
    "2) $O($log$ \\,n)$\n",
    "\n",
    "3) $O(n)$\n",
    "\n",
    "4) $O(n^2)$\n",
    "\n",
    "\n"
   ]
  },
  {
   "cell_type": "markdown",
   "id": "c999556f",
   "metadata": {},
   "source": [
    "## Sorting\n",
    "\n",
    "We leave as an exercise that you generate running time data and plot the timing results for the sorting algorithms we programmed in the section Order and sorting: selection sort, insertion sort and bubble sort. "
   ]
  }
 ],
 "metadata": {
  "kernelspec": {
   "display_name": "Python 3",
   "language": "python",
   "name": "python3"
  },
  "language_info": {
   "codemirror_mode": {
    "name": "ipython",
    "version": 3
   },
   "file_extension": ".py",
   "mimetype": "text/x-python",
   "name": "python",
   "nbconvert_exporter": "python",
   "pygments_lexer": "ipython3",
   "version": "3.10.0"
  }
 },
 "nbformat": 4,
 "nbformat_minor": 5
}