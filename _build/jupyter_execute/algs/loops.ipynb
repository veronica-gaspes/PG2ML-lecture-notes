{
 "cells": [
  {
   "cell_type": "markdown",
   "metadata": {},
   "source": [
    "# Understanding ```for``` loops\n",
    "\n",
    "How does a ```for``` loop work? What happens when we use a ```for``` loop (or two!)?\n",
    "\n",
    "Without solving a specific problem, the following examples are designed to illustrate the execution of ```for``` loops.  \n",
    "\n",
    "We start with one loop repeating one command: print the value of the control variable. This allows us to see how many times the command inside the ```for``` loop is repeated and what values the control variable takes in each iteration."
   ]
  },
  {
   "cell_type": "code",
   "execution_count": 1,
   "metadata": {},
   "outputs": [
    {
     "name": "stdout",
     "output_type": "stream",
     "text": [
      "i: 0\n",
      "i: 1\n",
      "i: 2\n",
      "i: 3\n",
      "i: 4\n",
      "i: 5\n",
      "i: 6\n",
      "i: 7\n",
      "i: 8\n",
      "i: 9\n"
     ]
    }
   ],
   "source": [
    "size = 10\n",
    "\n",
    "for i in range(size):\n",
    "    print('i:', i)"
   ]
  },
  {
   "cell_type": "markdown",
   "metadata": {},
   "source": [
    "Once the for loop is done the program can continue. \n",
    "\n",
    "To illustrate this we add a command inside the loop to increment a counter in every iteration. After the loop terminates the value of the counter is the number of times the command inside the loop was executed. We add a command to print this value.\n",
    "\n",
    "Observe that *printing the value of the control variable* is done on every turn of the loop while *printing the value of the counter* is only done once: after the loop has done all its iterations."
   ]
  },
  {
   "cell_type": "code",
   "execution_count": 2,
   "metadata": {},
   "outputs": [
    {
     "name": "stdout",
     "output_type": "stream",
     "text": [
      "i: 0\n",
      "i: 1\n",
      "i: 2\n",
      "i: 3\n",
      "i: 4\n",
      "i: 5\n",
      "i: 6\n",
      "i: 7\n",
      "i: 8\n",
      "i: 9\n",
      "nr of iterations: 10\n"
     ]
    }
   ],
   "source": [
    "size = 10\n",
    "count = 0\n",
    "\n",
    "for i in range(size):\n",
    "    count += 1\n",
    "    print('i:', i)\n",
    "    \n",
    "print('nr of iterations:', count)"
   ]
  },
  {
   "cell_type": "markdown",
   "metadata": {},
   "source": [
    "Of course, what the program does after the loop terminates could be any command. \n",
    "\n",
    "We add another loop with its own control variable and its own counter. Observe that we add some white spaces in the print statement in the second loop to make it easier to follow the output."
   ]
  },
  {
   "cell_type": "code",
   "execution_count": 3,
   "metadata": {},
   "outputs": [
    {
     "name": "stdout",
     "output_type": "stream",
     "text": [
      "i: 0\n",
      "i: 1\n",
      "i: 2\n",
      "i: 3\n",
      "i: 4\n",
      "i: 5\n",
      "i: 6\n",
      "i: 7\n",
      "i: 8\n",
      "i: 9\n",
      "   j: 0\n",
      "   j: 1\n",
      "   j: 2\n",
      "   j: 3\n",
      "   j: 4\n",
      "   j: 5\n",
      "   j: 6\n",
      "   j: 7\n",
      "   j: 8\n",
      "   j: 9\n",
      "count on i: 10\n",
      "count on j: 10\n"
     ]
    }
   ],
   "source": [
    "size = 10\n",
    "count_i = 0\n",
    "count_j = 0\n",
    "\n",
    "for i in range(size):\n",
    "    print('i:', i)\n",
    "    count_i += 1\n",
    "    \n",
    "for j in range(size):\n",
    "    print('   j:',j)\n",
    "    count_j += 1\n",
    "    \n",
    "print('count on i:', count_i)\n",
    "print('count on j:', count_j)"
   ]
  },
  {
   "cell_type": "markdown",
   "metadata": {},
   "source": [
    "The command inside the for loop can also be any command, for example another loop.\n",
    "\n",
    "We modify the program to place the second loop as part of the command that the first loop repeats each iteration.  Because the output becomes too long we also changed the value of ```size``` to 5.\n"
   ]
  },
  {
   "cell_type": "code",
   "execution_count": 4,
   "metadata": {},
   "outputs": [
    {
     "name": "stdout",
     "output_type": "stream",
     "text": [
      "i: 0\n",
      "   j: 0\n",
      "   j: 1\n",
      "   j: 2\n",
      "   j: 3\n",
      "   j: 4\n",
      "i: 1\n",
      "   j: 0\n",
      "   j: 1\n",
      "   j: 2\n",
      "   j: 3\n",
      "   j: 4\n",
      "i: 2\n",
      "   j: 0\n",
      "   j: 1\n",
      "   j: 2\n",
      "   j: 3\n",
      "   j: 4\n",
      "i: 3\n",
      "   j: 0\n",
      "   j: 1\n",
      "   j: 2\n",
      "   j: 3\n",
      "   j: 4\n",
      "i: 4\n",
      "   j: 0\n",
      "   j: 1\n",
      "   j: 2\n",
      "   j: 3\n",
      "   j: 4\n",
      "count on i: 5\n",
      "count on j: 25\n"
     ]
    }
   ],
   "source": [
    "size = 5\n",
    "count_i = 0\n",
    "count_j = 0\n",
    "\n",
    "for i in range(size):\n",
    "    print('i:', i)\n",
    "    count_i += 1\n",
    "    for j in range(size):\n",
    "        print('   j:', j)\n",
    "        count_j += 1\n",
    "        \n",
    "print('count on i:', count_i)\n",
    "print('count on j:', count_j)\n",
    "\n"
   ]
  },
  {
   "cell_type": "markdown",
   "metadata": {},
   "source": [
    "Given that the output becomes too long to observe for bigger values of ```size```, we remove the prints but keep the counts. \n",
    "\n",
    "First check the example with the second loop after the first loop:"
   ]
  },
  {
   "cell_type": "code",
   "execution_count": 5,
   "metadata": {},
   "outputs": [
    {
     "name": "stdout",
     "output_type": "stream",
     "text": [
      "count on i: 10\n",
      "count on j: 10\n"
     ]
    }
   ],
   "source": [
    "size = 10\n",
    "count_i = 0\n",
    "count_j = 0\n",
    "\n",
    "for i in range(size):\n",
    "    #print('i:', i)\n",
    "    count_i += 1\n",
    "    \n",
    "for j in range(size):\n",
    "    #print('   j:',j)\n",
    "    count_j += 1\n",
    "    \n",
    "print('count on i:', count_i)\n",
    "print('count on j:', count_j)"
   ]
  },
  {
   "cell_type": "markdown",
   "metadata": {},
   "source": [
    "And now the example with the second loop as part of the command that the first loop repeats (this is usually called nested loops):"
   ]
  },
  {
   "cell_type": "code",
   "execution_count": 6,
   "metadata": {},
   "outputs": [
    {
     "name": "stdout",
     "output_type": "stream",
     "text": [
      "count on i: 5\n",
      "count on j: 25\n"
     ]
    }
   ],
   "source": [
    "size = 5\n",
    "count_i = 0\n",
    "count_j = 0\n",
    "\n",
    "for i in range(size):\n",
    "    #print('i:', i)\n",
    "    count_i += 1\n",
    "    for j in range(size):\n",
    "        #print('   j:', j)\n",
    "        count_j += 1\n",
    "        \n",
    "print('count on i:', count_i)\n",
    "print('count on j:', count_j)"
   ]
  },
  {
   "cell_type": "markdown",
   "metadata": {},
   "source": [
    "Now we can try the example with nested loops for size 10. Do it: change the value of the variable ```size``` to 10 and re-run the cell. You should get the output:\n",
    "\n",
    "```\n",
    "count on i: 10\n",
    "count on j: 100\n",
    "```\n"
   ]
  },
  {
   "cell_type": "markdown",
   "metadata": {},
   "source": [
    "Now you should experiment increasing the value of ```size``` in both examples (consecutive loops and nested loops). Try 10, 100, 1000, 10000. \n",
    "\n",
    "Do you experience the difference in execution time? \n",
    "\n",
    "Notice that you multiply the value of ```size``` by 10 for each of the experiments.\n",
    "\n",
    "The execution time increases as ```size``` increases. \n",
    "\n",
    "But **at what rate**  execution time increases is different for consecutive loops than  for nested loops. This is related to the fact that the number of times that the command in the second loop is executed is very different in the two scenarios!"
   ]
  }
 ],
 "metadata": {
  "kernelspec": {
   "display_name": "Python 3 (ipykernel)",
   "language": "python",
   "name": "python3"
  },
  "language_info": {
   "codemirror_mode": {
    "name": "ipython",
    "version": 3
   },
   "file_extension": ".py",
   "mimetype": "text/x-python",
   "name": "python",
   "nbconvert_exporter": "python",
   "pygments_lexer": "ipython3",
   "version": "3.10.0"
  }
 },
 "nbformat": 4,
 "nbformat_minor": 4
}