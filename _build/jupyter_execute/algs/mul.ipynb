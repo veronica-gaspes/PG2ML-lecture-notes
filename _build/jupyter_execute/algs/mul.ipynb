{
 "cells": [
  {
   "cell_type": "markdown",
   "metadata": {},
   "source": [
    "# Three algorithms for integer multiplication\n",
    "\n",
    "\n",
    "Again we want to distinguish between the decription of a problem, the description of several solutions (in our case algorithms) and the programs that implement these algorithms. \n",
    "\n",
    "We also introduce two ways of exploring our programs:\n",
    "\n",
    "1) figuring out how to test that the program does what we want, and \n",
    "\n",
    "2) figuring out how to explore what happens with execution time as the size of the input gets bigger and bigger.  \n",
    "\n",
    "The problem is discussed in detail in the first chapter of the book [Algorithms illuminated](http://www.algorithmsilluminated.org). The website for the book includes detailed videos that explain the problem and the three solutions. In this section we focus on the programs that implement the three solutions. Our purpose is to continue to show how to go from an algorithm to a Python program. \n",
    "\n",
    "The problem is to calculate the product of two non negative integer numbers. This seems trivial: you know how to do this with pen and paper with what we call the school algorithm. And Python has an operation ```*``` that works perfectly well. So why bother? \n",
    "\n",
    "On the one hand it helps us focus on a problem that you can understand without any effort. On the other hand we hope to surprise you with a couple of solutions that seem very strange and give you a feeling for how very different solutions to the same problem might be. And finally, you will get to know one of the algorithms that are used in real systems to multiply big numbers (numbers with more than 1000 digits). Python uses this algorithm to multiply numbers larger than those that can be multiplied using the machine instruction for multiplication.\n",
    "\n",
    "\n",
    "## Some programs we need\n",
    "\n",
    "All algorithms and programs we show in this section use lists of digits. Instead of tables for multiplication and addition we use Python operations ```*``` and ```+``` when we need the result for one-digit numbers (observe that the result of adding or multiplying two one-digit numbers can be a two-digit number so we extract the two digits using ```// 10``` and ```% 10```. \n",
    "\n",
    "We will need addition and subtraction. The functions ```plus``` and ```minus``` implement the algorithms that we all learned at school to add and subtract numbers. Put some effort in understanding the details in different parts of each program:\n",
    "\n",
    "* making both lists of the same size by adding 0:s to the left\n",
    "\n",
    "* use of carry\n",
    "\n",
    "* going trough the number from least significant digit to most significant digit."
   ]
  },
  {
   "cell_type": "code",
   "execution_count": 1,
   "metadata": {},
   "outputs": [],
   "source": [
    "# addition for two lists of digits\n",
    "def plus(m, n):\n",
    "    \n",
    "    # Make them the same length by adding leading 0s\n",
    "    if len(m)<len(n): m = [0] * (len(n)-len(m)) + m\n",
    "    if len(n)<len(m): n = [0] * (len(m)-len(n)) + n\n",
    "        \n",
    "    # build the list for the result\n",
    "    carry  = 0\n",
    "    sum    = [0] * len(m)\n",
    "    \n",
    "    for i in reversed(range(len(m))):\n",
    "        a = m[i] + n[i] + carry # here we can get a two-digit number\n",
    "        carry = a // 10\n",
    "        sum[i] = a % 10\n",
    "\n",
    "    # possibly extend it with the carry!\n",
    "    if carry > 0: sum.insert(0,carry)\n",
    "    return sum\n",
    "\n",
    "# subtraction for two lists of digits m and n\n",
    "# both m,n >= 0, m >= n\n",
    "def minus(m,n):\n",
    "    # Make them the same length by adding leading 0s\n",
    "    if len(m)<len(n): m = [0] * (len(n)-len(m)) + m\n",
    "    if len(n)<len(m): n = [0] * (len(m)-len(n)) + n  \n",
    "        \n",
    "    carry = 0\n",
    "    diff = [0] * len(m)\n",
    "    \n",
    "    for i in reversed(range(len(m))):\n",
    "        b = n[i] + carry\n",
    "        if m[i] >= b: \n",
    "            diff[i] = m[i] - b\n",
    "            carry = 0\n",
    "        else:\n",
    "            diff[i]= 10 + m[i] - b\n",
    "            carry = 1\n",
    "    return diff\n",
    "\n"
   ]
  },
  {
   "cell_type": "markdown",
   "metadata": {},
   "source": [
    "Here is an example. To add 123 and 45 we call the function ```plus``` with the lists ```[1,2,3]``` and ```[4,5]```: \n",
    "```Python\n",
    "plus([1,2,3], [4,5])\n",
    "```\n",
    "\n",
    "The function starts by making the lists have the same length without changing their meaning as numbers:\n",
    "\n",
    "```Python\n",
    "m = [1,2,3]\n",
    "n = [0,4,5]\n",
    "```\n",
    "\n",
    "The function initializes the carry to 0 and the list with the result to 0s:\n",
    "\n",
    "```Python\n",
    "carry = 0\n",
    "sum   = [0,0,0]\n",
    "```\n",
    "\n",
    "The function goes through all the elements of both lists from the back to the front (look at the ```reversed(range(len(m)))``` in the ```for``` loop) doing what you would do with pen-and-paper: add the two digits in a given place from the two lists, add the carry and split it into the digit you put in the result and the carry. \n",
    "\n",
    "```Python\n",
    "a      = 3 + 5 + 0  # 8\n",
    "carry  = 8 // 10    # 0\n",
    "sum[2] = 8 % 10     # 8\n",
    "```\n",
    "\n",
    "```Python\n",
    "a      = 2 + 4 + 0 # 6\n",
    "carry  = 6 // 10   # 0\n",
    "sum[1] = 6 % 10    # 6\n",
    "```\n",
    "\n",
    "```Python \n",
    "a      = 1 + 0 + 0 # 1\n",
    "carry  = 1 // 10   # 0\n",
    "sum[0] = 1 % 10    # 1\n",
    "```\n",
    "\n",
    "When this is done it might be tha case that there is a non-zero carry that has to be added at the beggining of the number. In the example this is not the case.\n",
    "\n",
    "### How would you test this?\n",
    "\n",
    "In this course we will often want to understand both whether the algorithm works correctly (calculates what it should) and whether it is feasible (how does execution time grow when the size of the input grows?).\n",
    "\n",
    "1) For understanding whether it works correctly we can try to convert back and forth from lists of digits to numbers and compare the result of our program with Python's ```*```.\n",
    "\n",
    "2) For understanding how the execution time grows when the size of the input grows, we need first to understand what to consider the size of the input. What is it in the input that influences the number of operations the program has to execute?\n",
    "\n",
    "#### To and from integers\n",
    "\n",
    "For 1) we would like to compare the results of our operations with the operations in Python for numbers. In order to be able to use lists and numbers we define the functions ```to_int``` and ```from_int```. \n",
    "\n",
    "These functions should be such that for any list of digits ```n``` \n",
    "\n",
    "```Python\n",
    "from_int(to_int(n)) == n \n",
    "```\n",
    "\n",
    "and for any number ```n```\n",
    "\n",
    "```Python\n",
    "to_int(from_int(n)) == n \n",
    "```\n"
   ]
  },
  {
   "cell_type": "code",
   "execution_count": 2,
   "metadata": {},
   "outputs": [],
   "source": [
    "def to_int(n):\n",
    "    res = 0\n",
    "    for i in range(len(n)):\n",
    "        res = res + n[i] * 10**(len(n)-i-1)\n",
    "    return res\n",
    "\n",
    "def from_int(n):\n",
    "    if n < 10: return [n]\n",
    "    return from_int(n // 10) + [n % 10]"
   ]
  },
  {
   "cell_type": "code",
   "execution_count": 3,
   "metadata": {},
   "outputs": [
    {
     "data": {
      "text/plain": [
       "123"
      ]
     },
     "execution_count": 3,
     "metadata": {},
     "output_type": "execute_result"
    }
   ],
   "source": [
    "to_int([1,2,3])"
   ]
  },
  {
   "cell_type": "code",
   "execution_count": 4,
   "metadata": {},
   "outputs": [
    {
     "data": {
      "text/plain": [
       "[4, 5]"
      ]
     },
     "execution_count": 4,
     "metadata": {},
     "output_type": "execute_result"
    }
   ],
   "source": [
    "from_int(45)"
   ]
  },
  {
   "cell_type": "markdown",
   "metadata": {},
   "source": [
    "With these two functions we can program a function to test our plus function:"
   ]
  },
  {
   "cell_type": "code",
   "execution_count": 5,
   "metadata": {},
   "outputs": [],
   "source": [
    "def test_plus(m, n):\n",
    "    return to_int(plus(m,n)) == to_int(m) + to_int(n)"
   ]
  },
  {
   "cell_type": "code",
   "execution_count": 6,
   "metadata": {},
   "outputs": [
    {
     "data": {
      "text/plain": [
       "True"
      ]
     },
     "execution_count": 6,
     "metadata": {},
     "output_type": "execute_result"
    }
   ],
   "source": [
    "test_plus([1,2,3],[4,5])"
   ]
  },
  {
   "cell_type": "markdown",
   "metadata": {},
   "source": [
    "We can in fact program a function that generates random lists of digits and does this test. \n",
    "\n",
    "The argument to this new function is the number of times we want to run our test."
   ]
  },
  {
   "cell_type": "code",
   "execution_count": 7,
   "metadata": {},
   "outputs": [],
   "source": [
    "import random"
   ]
  },
  {
   "cell_type": "code",
   "execution_count": 8,
   "metadata": {},
   "outputs": [],
   "source": [
    "def test_plus_random(times):\n",
    "    for i in range(times):\n",
    "        \n",
    "        # generate 2 random non negative numbers\n",
    "        a = random.randrange(0,1000)\n",
    "        b = random.randrange(0,1000)\n",
    "        \n",
    "        # calculate their lists of digits\n",
    "        m = from_int(a)\n",
    "        n = from_int(b)\n",
    "        \n",
    "        # test whether the function plus of the two lists \n",
    "        # produces a different value than Python's +\n",
    "        # if this is the case we do not neeed to test any more:\n",
    "        # produce an error message and return False\n",
    "        if a + b != to_int(plus(m,n)):\n",
    "            print(m, 'plus', n, '=', plus(m,n), 'but should be', a + b,'.')\n",
    "            return False\n",
    "        \n",
    "    # If the program gets here (observe: the for loop has terminated!)\n",
    "    # we know that there were no cases that produced the wrong result!\n",
    "    # print a message and return True\n",
    "    print('Passed all', times, 'test cases.')\n",
    "    return True"
   ]
  },
  {
   "cell_type": "code",
   "execution_count": 9,
   "metadata": {},
   "outputs": [
    {
     "name": "stdout",
     "output_type": "stream",
     "text": [
      "Passed all 100 test cases.\n"
     ]
    },
    {
     "data": {
      "text/plain": [
       "True"
      ]
     },
     "execution_count": 9,
     "metadata": {},
     "output_type": "execute_result"
    }
   ],
   "source": [
    "test_plus_random(100)"
   ]
  },
  {
   "cell_type": "code",
   "execution_count": 10,
   "metadata": {},
   "outputs": [],
   "source": [
    "def test_minus_random(times):\n",
    "    \n",
    "    for i in range(times):\n",
    "        \n",
    "        # generate 2 random numbers, first one bigger\n",
    "        a = random.randrange(100,1000)\n",
    "        b = random.randrange(0,100)\n",
    "        \n",
    "        # calculate their lists of digits\n",
    "        m = from_int(a)\n",
    "        n = from_int(b)\n",
    "        \n",
    "        # test whether the function minus\n",
    "        # produces a different value than Python's -\n",
    "        # if this is the case we do not neeed to test any more:\n",
    "        # produce an error message and return False\n",
    "        if a-b != to_int(minus(m,n)):\n",
    "            print(m, 'minus', n, '=', minus(m,n), 'but should be', a-b,'.')\n",
    "            return False\n",
    "        \n",
    "    # If the program gets here (observe: the for loop has terminated!)\n",
    "    # we know that there were no cases that produced the wrong result!\n",
    "    # print a message and return True\n",
    "    print('Passed all', times, 'test cases.')\n",
    "    return True"
   ]
  },
  {
   "cell_type": "code",
   "execution_count": 11,
   "metadata": {},
   "outputs": [
    {
     "name": "stdout",
     "output_type": "stream",
     "text": [
      "Passed all 100 test cases.\n"
     ]
    },
    {
     "data": {
      "text/plain": [
       "True"
      ]
     },
     "execution_count": 11,
     "metadata": {},
     "output_type": "execute_result"
    }
   ],
   "source": [
    "test_minus_random(100)"
   ]
  },
  {
   "cell_type": "markdown",
   "metadata": {},
   "source": [
    "The code for these two functions is very (**very**) similar! The only difference is that we use either ```plus```or ```minus``` and ```+``` or ```-```! \n",
    "\n",
    "Fortunatelly in Python we can use functions as arguments to other functions. Then we can program the following testing function:\n"
   ]
  },
  {
   "cell_type": "code",
   "execution_count": 12,
   "metadata": {},
   "outputs": [],
   "source": [
    "def test_fun_random(times, function_under_test, reference_function):\n",
    "    \n",
    "    for i in range(times):\n",
    "        \n",
    "        a = random.randrange(1000,2000)\n",
    "        b = random.randrange(0,1000)\n",
    "        \n",
    "        m = from_int(a)\n",
    "        n = from_int(b)\n",
    "        \n",
    "        if reference_function(a, b) != to_int(function_under_test(m,n)):\n",
    "            print('correct result is', reference_function(a,b), 'but found', function_under_test(m,n))\n",
    "            return False\n",
    "        \n",
    "        \n",
    "    print('Passed all', times, 'test cases.')\n",
    "    return True"
   ]
  },
  {
   "cell_type": "markdown",
   "metadata": {},
   "source": [
    "In order to use arithmetic operators as functions we need to use the module ```operator``` from Python where all operators have an associated function: [Standard operators as functions](https://docs.python.org/3/library/operator.html)"
   ]
  },
  {
   "cell_type": "code",
   "execution_count": 13,
   "metadata": {},
   "outputs": [],
   "source": [
    "import operator"
   ]
  },
  {
   "cell_type": "code",
   "execution_count": 14,
   "metadata": {},
   "outputs": [
    {
     "name": "stdout",
     "output_type": "stream",
     "text": [
      "Passed all 100 test cases.\n"
     ]
    },
    {
     "data": {
      "text/plain": [
       "True"
      ]
     },
     "execution_count": 14,
     "metadata": {},
     "output_type": "execute_result"
    }
   ],
   "source": [
    "# The function under test is plus and the reference function is + (used as operator.add)\n",
    "test_fun_random(100, plus, operator.add)"
   ]
  },
  {
   "cell_type": "code",
   "execution_count": 15,
   "metadata": {},
   "outputs": [
    {
     "name": "stdout",
     "output_type": "stream",
     "text": [
      "Passed all 100 test cases.\n"
     ]
    },
    {
     "data": {
      "text/plain": [
       "True"
      ]
     },
     "execution_count": 15,
     "metadata": {},
     "output_type": "execute_result"
    }
   ],
   "source": [
    "# The function under test is minus and the reference function is - (used as operator.add)\n",
    "test_fun_random(100, minus, operator.sub)"
   ]
  },
  {
   "cell_type": "markdown",
   "metadata": {},
   "source": [
    "\n",
    "## The school algorithm for multiplication\n",
    "\n",
    "The first solution to the problem of computing the product of two non negative integers is the algorithm most of us learned at school and that Tim Roughgarden discusses in the book and in one of the videos. \n",
    "\n",
    "Here we illustrate it with an example:\n",
    "```Python\n",
    "   1234\n",
    "   x 56\n",
    "--------\n",
    "   7404\n",
    "  61700\n",
    "--------\n",
    "  69104\n",
    "```\n",
    "where \n",
    "```Python\n",
    "7404 == 1234 * 6\n",
    "```\n",
    "\n",
    "```Python\n",
    "6170 == 1234 * 5\n",
    "```\n",
    "\n",
    "and \n",
    "```Python\n",
    "69104 == 7404 + 61700\n",
    "```\n",
    "  \n",
    "We already know how to add two lists of digits, we now need a program to multipy a digit and a list of digits."
   ]
  },
  {
   "cell_type": "code",
   "execution_count": 16,
   "metadata": {},
   "outputs": [],
   "source": [
    "def digit_times_number(d,n):\n",
    "\n",
    "    # build the list for the result\n",
    "    carry  = 0\n",
    "    result = [0] * len(n)\n",
    "    \n",
    "    for i in reversed(range(len(n))):\n",
    "        a = d * n[i] + carry # here we can get a two-digit number\n",
    "        result[i] = a % 10\n",
    "        carry = a // 10\n",
    "    \n",
    "    # possibly extend it with the carry!\n",
    "    if carry > 0: result.insert(0,carry)\n",
    "    return result"
   ]
  },
  {
   "cell_type": "code",
   "execution_count": 17,
   "metadata": {},
   "outputs": [
    {
     "data": {
      "text/plain": [
       "[7, 4, 0, 4]"
      ]
     },
     "execution_count": 17,
     "metadata": {},
     "output_type": "execute_result"
    }
   ],
   "source": [
    "digit_times_number(6,[1,2,3,4])"
   ]
  },
  {
   "cell_type": "code",
   "execution_count": 18,
   "metadata": {},
   "outputs": [
    {
     "data": {
      "text/plain": [
       "[6, 1, 7, 0]"
      ]
     },
     "execution_count": 18,
     "metadata": {},
     "output_type": "execute_result"
    }
   ],
   "source": [
    "digit_times_number(5,[1,2,3,4])"
   ]
  },
  {
   "cell_type": "markdown",
   "metadata": {},
   "source": [
    "With this we can implement the school algorithm for multiplication:"
   ]
  },
  {
   "cell_type": "code",
   "execution_count": 19,
   "metadata": {},
   "outputs": [],
   "source": [
    "def school_mul(m, n):\n",
    "    lines = [None] * len(n)\n",
    "    for i in reversed(range(len(n))):\n",
    "        lines[i] = digit_times_number(n[i],m) + [0]*(len(n)-1-i)\n",
    "       \n",
    "    sum = []\n",
    "    for line in lines:\n",
    "        sum = plus(sum, line)\n",
    "    return sum"
   ]
  },
  {
   "cell_type": "code",
   "execution_count": 20,
   "metadata": {},
   "outputs": [
    {
     "data": {
      "text/plain": [
       "[6, 9, 1, 0, 4]"
      ]
     },
     "execution_count": 20,
     "metadata": {},
     "output_type": "execute_result"
    }
   ],
   "source": [
    "school_mul([1,2,3,4], [5,6])"
   ]
  },
  {
   "cell_type": "markdown",
   "metadata": {},
   "source": [
    "### How would you test this?\n",
    "\n",
    "Again we need to convince ourselves that the program works. Fortunately we have a function that helps already!"
   ]
  },
  {
   "cell_type": "code",
   "execution_count": 21,
   "metadata": {},
   "outputs": [
    {
     "name": "stdout",
     "output_type": "stream",
     "text": [
      "Passed all 100 test cases.\n"
     ]
    },
    {
     "data": {
      "text/plain": [
       "True"
      ]
     },
     "execution_count": 21,
     "metadata": {},
     "output_type": "execute_result"
    }
   ],
   "source": [
    "test_fun_random(100, school_mul, operator.mul)"
   ]
  },
  {
   "cell_type": "markdown",
   "metadata": {},
   "source": [
    "What is the input to our program ```school_mul```? \n",
    "\n",
    "*Two lists of digits.*\n",
    "    \n",
    "What aspect of the input affects the number of operations done to calculate the result?\n",
    "\n",
    "*The number of elements in the longest list determines how many turns of the loops are needed. This is what decides how many operations are needed.*\n",
    "    \n",
    "This is what we call *the size of the input*.\n",
    "\n",
    "We are interested on understanding the execution time as a function of the size of the input. There are theoretical methods for doing so but we can already now do experiments with our program. Here is a systematic experiment:\n",
    "\n",
    "* run the program several times with input of a given size meassuring the execution time and taking the average\n",
    "\n",
    "* double the size of the input and do the same\n",
    "\n",
    "* double again and do the same\n",
    "\n",
    "* do this several times\n",
    "\n",
    "And now? Well we can plot execution time versus size of input, but it can be difficult to see what function this is. If we assume that it will be a function of the form $time = size ^n$ for some $n$, we need to find this $n$! There is a method for doing this and it is to calculate **the slope** of $\\log(time)$ as a function of $\\log(size)$.\n",
    "\n",
    "In order to meassure execution time, there are functions in Python to get timestamps from the system in the library ```time``` that we need to import. Here are some useful functions, all of which are meant to be used to calculate differences between to instants:\n",
    "\n",
    "```time.process_time_ns()``` returns an integer: the sum of the system and user CPU time of the current process. It does not include time elapsed during sleep. It is process-wide by definition. The reference point of the returned value is undefined, so that only the difference between the results of two calls is valid.\n",
    "\n",
    "```time.perf_counter_ns()``` returns an integer: the value of a performance counter, i.e. a clock with the highest available resolution to measure a short duration. It does include time elapsed during sleep and is system-wide. The reference point of the returned value is undefined, so that only the difference between the results of two calls is valid.\n",
    "\n",
    "```time.time_ns()```  returns time as an integer number of nanoseconds since the epoch.\n",
    "\n",
    "We will meassure execution time using  ```time.process_time_ns()``` in the following way:\n",
    "\n",
    "```Python\n",
    "start = time.process_time_ns()\n",
    "school_mul(m,n)\n",
    "execution_time = time.process_time_ns() - start\n",
    "```\n",
    "\n",
    "Here is an example. Try it several times, you will see that you do not get always the same result. This is related to the fact that there other programs running in your computer. We deal with this by repeating the experiment and taking an average."
   ]
  },
  {
   "cell_type": "code",
   "execution_count": 22,
   "metadata": {},
   "outputs": [],
   "source": [
    "import time"
   ]
  },
  {
   "cell_type": "code",
   "execution_count": 23,
   "metadata": {},
   "outputs": [
    {
     "data": {
      "text/plain": [
       "4243000"
      ]
     },
     "execution_count": 23,
     "metadata": {},
     "output_type": "execute_result"
    }
   ],
   "source": [
    "m = list(range(100))\n",
    "n = list(range(100,200))\n",
    "start = time.process_time_ns()\n",
    "school_mul(m,n)\n",
    "time.process_time_ns() - start"
   ]
  },
  {
   "cell_type": "markdown",
   "metadata": {},
   "source": [
    "We define a function for testing execution time of functions that can be applied to two lists of digits (for example ```plus```, ```minus``` and ```school_mul```). "
   ]
  },
  {
   "cell_type": "code",
   "execution_count": 24,
   "metadata": {},
   "outputs": [],
   "source": [
    "# The argument size is for the length of the list of digits\n",
    "# The argument times is for the number of times to repeat the experiment\n",
    "def test_et(size, times, f):\n",
    "    m = list(range(size))\n",
    "    n = list(range(size,2*size))  \n",
    "    sum = 0\n",
    "    for i in range(times):\n",
    "        start = time.process_time_ns()\n",
    "        f(m,n)\n",
    "        sum += time.process_time_ns() - start\n",
    "    return sum / times"
   ]
  },
  {
   "cell_type": "code",
   "execution_count": 25,
   "metadata": {},
   "outputs": [
    {
     "data": {
      "text/plain": [
       "51290.0"
      ]
     },
     "execution_count": 25,
     "metadata": {},
     "output_type": "execute_result"
    }
   ],
   "source": [
    "# 100 experiments with numbers of 10 digits\n",
    "test_et(10,100, school_mul)"
   ]
  },
  {
   "cell_type": "markdown",
   "metadata": {},
   "source": [
    "Can you say something about how execution time grows as the size of the input grows? \n",
    "\n",
    "Something like \n",
    "\n",
    "*when the size of the input doubles (gets multiplied by 2) the execution time gets multiplied by ...*\n",
    "\n",
    "## A recursive algorithm\n",
    "\n",
    "And now we look at a completely different algorithm. To begin with, just believe in it! \n",
    "\n",
    "We recommend that you read the book where the algorithm is explained. Here is the program in Python."
   ]
  },
  {
   "cell_type": "code",
   "execution_count": 26,
   "metadata": {},
   "outputs": [],
   "source": [
    "def rec_mul(m,n):\n",
    "    if len(m) == 1: return digit_times_number(m[0], n)\n",
    "    if len(n) == 1: return digit_times_number(n[0], m)\n",
    "    \n",
    "    # Make them the same length by adding leading 0s\n",
    "    if len(m)<len(n): m = [0] * (len(n)-len(m)) + m\n",
    "    if len(n)<len(m): n = [0] * (len(m)-len(n)) + n\n",
    "\n",
    "    mid = len(m) // 2\n",
    "    \n",
    "    a = m[0:mid] # the first half of m\n",
    "    b = m[mid:]  # the second half of m\n",
    "     \n",
    "    c = n[0:mid] # the first half of n\n",
    "    d = n[mid:]  # the second half of n\n",
    "    \n",
    "    # turning mid into the power of 2 we need.\n",
    "    if len(m) % 2 == 1: mid+=1\n",
    "       \n",
    "    # Four recursive calls with lists shorter than m and n!\n",
    "    z0 = rec_mul(a,c) + 2 * mid * [0] \n",
    "    z1 = rec_mul(a,d) + mid * [0] \n",
    "    z2 = rec_mul(c,b) + mid * [0] \n",
    "    z3 = rec_mul(b,d)  \n",
    "    \n",
    "    return plus(z0, plus(z1, plus(z2,z3)))"
   ]
  },
  {
   "cell_type": "code",
   "execution_count": 27,
   "metadata": {},
   "outputs": [
    {
     "name": "stdout",
     "output_type": "stream",
     "text": [
      "Passed all 100 test cases.\n"
     ]
    },
    {
     "data": {
      "text/plain": [
       "True"
      ]
     },
     "execution_count": 27,
     "metadata": {},
     "output_type": "execute_result"
    }
   ],
   "source": [
    "test_fun_random(100, rec_mul, operator.mul)"
   ]
  },
  {
   "cell_type": "code",
   "execution_count": 28,
   "metadata": {},
   "outputs": [
    {
     "data": {
      "text/plain": [
       "234570.0"
      ]
     },
     "execution_count": 28,
     "metadata": {},
     "output_type": "execute_result"
    }
   ],
   "source": [
    "test_et(10,100,rec_mul)"
   ]
  },
  {
   "cell_type": "markdown",
   "metadata": {},
   "source": [
    "## Karatsuba's algorithm\n",
    "\n",
    "Finally, a great insight is that one recursive calls can be eliminated! "
   ]
  },
  {
   "cell_type": "code",
   "execution_count": 29,
   "metadata": {},
   "outputs": [],
   "source": [
    "def karatsuba_mul(m,n):\n",
    "    if len(m) == 1: return digit_times_number(m[0], n)\n",
    "    if len(n) == 1: return digit_times_number(n[0], m)\n",
    "\n",
    "    # Make them the same length by adding leading 0s\n",
    "    if len(m)<len(n): m = [0] * (len(n)-len(m)) + m\n",
    "    if len(n)<len(m): n = [0] * (len(m)-len(n)) + n\n",
    "\n",
    "    mid = len(m) // 2\n",
    "    \n",
    "    a = m[0:mid]\n",
    "    b = m[mid:]\n",
    "    c = n[0:mid]\n",
    "    d = n[mid:]\n",
    "    \n",
    "    # turning mid into the right power of 2.\n",
    "    if len(m) % 2 == 1: mid+=1\n",
    "        \n",
    "    z0 = karatsuba_mul(b,d)\n",
    "    z1 = karatsuba_mul(plus(b,a), plus(d,c)) \n",
    "    z2 = karatsuba_mul(a,c)  \n",
    "    p = minus(minus(z1, z2),z0)\n",
    "\n",
    "    return plus(z2 + 2 * mid * [0], plus(p + mid * [0],z0))"
   ]
  },
  {
   "cell_type": "code",
   "execution_count": 30,
   "metadata": {},
   "outputs": [
    {
     "name": "stdout",
     "output_type": "stream",
     "text": [
      "Passed all 100 test cases.\n"
     ]
    },
    {
     "data": {
      "text/plain": [
       "True"
      ]
     },
     "execution_count": 30,
     "metadata": {},
     "output_type": "execute_result"
    }
   ],
   "source": [
    "test_fun_random(100, karatsuba_mul, operator.mul)"
   ]
  },
  {
   "cell_type": "code",
   "execution_count": 31,
   "metadata": {},
   "outputs": [
    {
     "data": {
      "text/plain": [
       "326370.0"
      ]
     },
     "execution_count": 31,
     "metadata": {},
     "output_type": "execute_result"
    }
   ],
   "source": [
    "test_et(10,100,karatsuba_mul)"
   ]
  },
  {
   "cell_type": "markdown",
   "metadata": {},
   "source": [
    "You should use the next cell to experiment with small numbers (100 digits) and big numbers (2000 digits). \n",
    "\n",
    "As it is it will take some time: it meassures the execution time of Karatsuba's multiplication for numbers with 2048 digits, meassures the execution time of the school algorithm for numbers with 3000 digits and takes their quotient."
   ]
  },
  {
   "cell_type": "code",
   "execution_count": 32,
   "metadata": {},
   "outputs": [
    {
     "data": {
      "text/plain": [
       "0.8137492561108108"
      ]
     },
     "execution_count": 32,
     "metadata": {},
     "output_type": "execute_result"
    }
   ],
   "source": [
    "test_et(2048,1, karatsuba_mul) / test_et(2048,1, school_mul) "
   ]
  },
  {
   "cell_type": "markdown",
   "metadata": {},
   "source": [
    "So it seems that for short numbers, school multiplication is better. lets try to combine them by cutting off recursion before getting to 1 digit."
   ]
  },
  {
   "cell_type": "code",
   "execution_count": 33,
   "metadata": {},
   "outputs": [],
   "source": [
    "def karatsuba_mul_cutoff(m,n):\n",
    "    \n",
    "    if len(m) < 10 and len(n) < 10: return school_mul(m,n)\n",
    "\n",
    "    # Make them the same length by adding leading 0s\n",
    "    if len(m)<len(n): m = [0] * (len(n)-len(m)) + m\n",
    "    if len(n)<len(m): n = [0] * (len(m)-len(n)) + n\n",
    "\n",
    "    mid = len(m) // 2\n",
    "    \n",
    "    a = m[0:mid]\n",
    "    b = m[mid:]\n",
    "    c = n[0:mid]\n",
    "    d = n[mid:]\n",
    "    \n",
    "    # turning mid into the right power of 2.\n",
    "    if len(m) % 2 == 1: mid+=1\n",
    "        \n",
    "    z0 = karatsuba_mul_cutoff(b,d)\n",
    "    z1 = karatsuba_mul_cutoff(plus(b,a), plus(d,c)) \n",
    "    z2 = karatsuba_mul_cutoff(a,c)  \n",
    "    p = minus(minus(z1, z2),z0)\n",
    "\n",
    "    return plus(z2 + 2 * mid * [0], plus(p + mid * [0],z0))"
   ]
  },
  {
   "cell_type": "code",
   "execution_count": 34,
   "metadata": {},
   "outputs": [
    {
     "name": "stdout",
     "output_type": "stream",
     "text": [
      "Passed all 100 test cases.\n"
     ]
    },
    {
     "data": {
      "text/plain": [
       "True"
      ]
     },
     "execution_count": 34,
     "metadata": {},
     "output_type": "execute_result"
    }
   ],
   "source": [
    "test_fun_random(100, karatsuba_mul_cutoff, operator.mul)"
   ]
  },
  {
   "cell_type": "code",
   "execution_count": 35,
   "metadata": {},
   "outputs": [
    {
     "data": {
      "text/plain": [
       "0.2827593776710774"
      ]
     },
     "execution_count": 35,
     "metadata": {},
     "output_type": "execute_result"
    }
   ],
   "source": [
    "test_et(1000,1,karatsuba_mul_cutoff) / test_et(1000,1,school_mul) "
   ]
  },
  {
   "cell_type": "code",
   "execution_count": 36,
   "metadata": {},
   "outputs": [
    {
     "name": "stdout",
     "output_type": "stream",
     "text": [
      "362201000.0\n"
     ]
    },
    {
     "name": "stdout",
     "output_type": "stream",
     "text": [
      "1774426000.0\n"
     ]
    }
   ],
   "source": [
    "print(test_et(2000,1,karatsuba_mul_cutoff) )\n",
    "print(test_et(2000,1,school_mul))"
   ]
  },
  {
   "cell_type": "code",
   "execution_count": 37,
   "metadata": {},
   "outputs": [
    {
     "name": "stdout",
     "output_type": "stream",
     "text": [
      "[8, 5, 3, 9, 7, 3, 4, 2, 2, 2, 6, 7, 3, 5, 6, 7, 0, 6, 5, 4, 6, 3, 5, 5, 0, 8, 6, 9, 5, 4, 6, 5, 7, 4, 4, 9, 5, 0, 3, 4, 8, 8, 8, 5, 3, 5, 7, 6, 5, 1, 1, 4, 9, 6, 1, 8, 7, 9, 6, 0, 1, 1, 2, 7, 0, 6, 7, 7, 4, 3, 0, 4, 4, 8, 9, 3, 2, 0, 4, 8, 4, 8, 6, 1, 7, 8, 7, 5, 0, 7, 2, 2, 1, 6, 2, 4, 9, 0, 7, 3, 0, 1, 3, 3, 7, 4, 8, 9, 5, 8, 7, 1, 9, 5, 2, 8, 0, 6, 5, 8, 2, 7, 2, 3, 1, 8, 4]\n",
      "8539734222673567065463550869546574495034888535765114961879601127067743044893204848617875072216249073013374895871952806582723184\n"
     ]
    }
   ],
   "source": [
    "# test case from the book Algorithms illuminated\n",
    "e  = 2718281828459045235360287471352662497757247093699959574966967627\n",
    "pi = 3141592653589793238462643383279502884197169399375105820974944592 \n",
    "\n",
    "el  = from_int(e)\n",
    "pil = from_int(pi)\n",
    "\n",
    "print(karatsuba_mul(el,pil))\n",
    "print(e*pi)"
   ]
  }
 ],
 "metadata": {
  "kernelspec": {
   "display_name": "Python 3 (ipykernel)",
   "language": "python",
   "name": "python3"
  },
  "language_info": {
   "codemirror_mode": {
    "name": "ipython",
    "version": 3
   },
   "file_extension": ".py",
   "mimetype": "text/x-python",
   "name": "python",
   "nbconvert_exporter": "python",
   "pygments_lexer": "ipython3",
   "version": "3.10.0"
  }
 },
 "nbformat": 4,
 "nbformat_minor": 4
}