{
 "cells": [
  {
   "cell_type": "markdown",
   "id": "a5670007",
   "metadata": {},
   "source": [
    "# Counting inversions\n",
    "\n",
    "The problem of counting inversions is discussed in the book  [Algorithms Illuminated](http://algorithmsilluminated.org) in Section 3.2 in Part 1. \n",
    "\n",
    "Here we will follow the book but we will also provide you with Python programs and test cases, both to convince you that the algorithm works and to observe the asymptotic running time. \n",
    "\n",
    "Counting inversions is a way of solving the problem of comparing rankings. And comparing rankings can be used for systems that make recomendations: what someone buys can be recommended to others that have *similar rankings*. The underlying assumption is that people that have similar rankings might have a similar taste. \n",
    "\n",
    "So, how could we compare rankings? Say that we have a collection of $N$ items (books, authors, songs, ...) that are ranked by person P and by person Q. Say that the items are $i_1, i_2, \\ldots, i_n$. We associate to each item the order that P gives them. And we form an array where the indices are P's ranking and the elements are Q's ranking. \n",
    "\n",
    "Here is an example. The items to be ranked are the authors Paul Auster, Colm Tóibín, Leopoldo Marechal, Marguerite Yourcenar, Samanta Schweblin and Javier Marías. Say that P ranks them as \n",
    "\n",
    "* 0 Leopoldo Marechal\n",
    "\n",
    "* 1 Colm Tóibín\n",
    "\n",
    "* 2 Marguerite Yourcenar\n",
    "\n",
    "* 3 Paul Auster\n",
    "\n",
    "* 4 Samanta Schweblin\n",
    "\n",
    "* 5 Javier Marías\n",
    "\n",
    "Using the numbers to the left, Q's ranking is 3), 1), 2), 5), 4), 0).\n",
    "\n",
    "P likes best Leopoldo Marechal while Q likes best Paul Auster.\n",
    "\n",
    "We can put together these two using an array where the indices are P's ranking\n",
    "\n",
    "```Python\n",
    "A = [3, 1, 2, 5, 4, 0]\n",
    "```\n",
    "\n",
    "Notice that if both P and Q ranked the items in the same order the array would be \n",
    "\n",
    "```Python\n",
    "B = [0, 1, 2, 3, 4, 5]\n",
    "```\n",
    "\n",
    "One way of measuring *the difference* between two rankings is counting the number of items that appear before in P and later in Q.\n",
    "\n",
    "Given an array ```a``` we want to count the situations where \n",
    "\n",
    "```Python\n",
    "i < j and a[i] > a[j]\n",
    "```\n",
    "\n",
    "We call these *inversions*. For example, in ```B``` there are 0 inversions. And in ```A``` we have \n",
    "\n",
    "* 3 before 1, 2 and 0: that is already three inversions. \n",
    "\n",
    "* 1 is before 0: one more!\n",
    "\n",
    "* 2 is before 0: one more!\n",
    "\n",
    "* 5 is before 4 and 0: that is two more inversions. \n",
    "\n",
    "* 4 is  before 0: that is one more inversion.\n",
    "\n",
    "There are 8 inversions in A. \n",
    "\n",
    "How many inversions could there possibly be? Well, I hope you *see* that in a sorted array (B) there are no inversions. What about an array that is sorted in reverse ordering? For example \n",
    "\n",
    "```Python\n",
    "C = [5,4,3,2,1,0]\n",
    "```\n",
    "\n",
    "* 5 is before five elements that are smaller\n",
    "\n",
    "* 4 is before four smaller elemets\n",
    "\n",
    "* 3 is before three smaller elements\n",
    "\n",
    "* 2 is before two smaller elements\n",
    "\n",
    "* 1 is before one smaller elements\n",
    "\n",
    "For C there are $1 + 2 + 3 + 4 + 5 = 15$ inversions. \n",
    "\n",
    "If $n$ is the length of an array $a$, there are at most \n",
    "\n",
    "$$\\sum_{i = 1}^{n - 1} i = \\frac{(n-1)n}2$$\n",
    "\n",
    "This is a quadratic function. \n",
    "\n",
    "Here is a function that counts inversions looking for them as we did upto now (called *brute force* search):"
   ]
  },
  {
   "cell_type": "code",
   "execution_count": 1,
   "id": "9dd3d729",
   "metadata": {},
   "outputs": [],
   "source": [
    "def bf_count_inversions(a):\n",
    "    n = len(a)\n",
    "    \n",
    "    count_inv = 0\n",
    "    for i in range(n):\n",
    "        for j in range(i+1, n):\n",
    "            if a[i] > a[j]: count_inv += 1\n",
    "    return count_inv"
   ]
  },
  {
   "cell_type": "code",
   "execution_count": 2,
   "id": "711719a5",
   "metadata": {},
   "outputs": [
    {
     "name": "stdout",
     "output_type": "stream",
     "text": [
      "8\n",
      "0\n",
      "15\n"
     ]
    }
   ],
   "source": [
    "A = [3,1,2,5,4,0]\n",
    "B = [0,1,2,3,4,5]\n",
    "C = [5,4,3,2,1,0]\n",
    "print(bf_count_inversions(A))\n",
    "print(bf_count_inversions(B))\n",
    "print(bf_count_inversions(C))"
   ]
  },
  {
   "cell_type": "markdown",
   "id": "df44a14f",
   "metadata": {},
   "source": [
    "We will use this as our reference implementation: we are convinced that it counts what we want so we can compare other implementations, maybe more difficult to understand, with it. \n",
    "\n",
    "But, we would not want to use this implementation in a program! I hope you see that the function is quadratic, thus not feasible for big arrays (as you can imagine, real systems doing recommendations use huge data sources).\n",
    "\n",
    "So, following the book's motto: *Can we do better?* we try Divide & Conquer. \n",
    "\n",
    "The book uses Divide & Conquer to come up with an algorithm:\n",
    "\n",
    "```\n",
    "\n",
    "1) Divide the array in two halves.\n",
    "\n",
    "2) Recursively count inversions in both halves.\n",
    "\n",
    "3) How can we use the two counts to calculate the total number of inversions?\n",
    "\n",
    "```\n",
    "\n",
    "The example\n",
    "\n",
    "```Python\n",
    "[1,3,5,2,4,6]\n",
    "```\n",
    "\n",
    "makes it clear that we cannot just add the two counts. In the example, the number of inversions in the first half is 0 and the number of inversions in the second half is 0. However the total number of inversions is 3: \n",
    "\n",
    "* 3 appears before 2\n",
    "* 5 appears before 2 and 4\n",
    "\n",
    "This means that there are inversions across the split between the two halves. So we need to count these too in order to solve the problem for the whole array. And we want to do this in at most linear time!\n",
    "\n",
    "**If** the two halves were sorted we could imagine using the same idea as merge, but, when we find that we pick the next element from the right half, we have identified an inversion. And moreover: there will be inversions with the rest of the elements in the left half given that they are sorted. \n",
    "\n",
    "So the key to the solution is to count inversions and leave the halves sorted!\n",
    "\n",
    "What follows is a Python implementation of the algorithm in the book doing sorting in place. Observe that the functions return a value: a number, the inversion count.  \n",
    "\n",
    "* Make sure you spot the differences with mergesort! * \n"
   ]
  },
  {
   "cell_type": "code",
   "execution_count": 3,
   "id": "4259c30a",
   "metadata": {},
   "outputs": [],
   "source": [
    "def count_inversions(a):\n",
    "    n = len(a)\n",
    "    aux = [None] * n\n",
    "    return _count_and_sort(a, 0, n, aux)\n",
    "    \n",
    "def _count_and_sort(a, lo, hi, aux):\n",
    "    n = hi - lo\n",
    "    if n <= 1: # base case: nothing left to do\n",
    "        return 0\n",
    "    # To the meat of the algorithm. Notice the two recursive calls.\n",
    "    mid = (lo + hi) // 2                            # Step 1) in D&C\n",
    "    c_left  = _count_and_sort(a, lo, mid, aux)      # Step 2) in D&C\n",
    "    c_right = _count_and_sort(a, mid, hi, aux)      # Step 2) in D&C\n",
    "    c_split = _merge_and_count(a, lo, mid, hi, aux) # Step 3) in D&C \n",
    "    \n",
    "    return c_left + c_right + c_split\n",
    "\n",
    "def _merge_and_count(a, lo, mid, hi, aux):\n",
    "    n = hi - lo\n",
    "    i = lo\n",
    "    j = mid\n",
    "    \n",
    "    count = 0\n",
    "    \n",
    "    # use aux[0:n] to merge the two parts a[lo:mid] and a[mid:hi]\n",
    "    for k in range(n):\n",
    "        if i == mid:\n",
    "            aux[k] = a[j]\n",
    "            j += 1\n",
    "        elif j == hi:\n",
    "            aux[k] = a[i]\n",
    "            i += 1\n",
    "        elif a[j] < a[i]:\n",
    "            aux[k] = a[j]\n",
    "            j += 1\n",
    "            count = count + mid - i # we add all the inversions for a[j] at once!\n",
    "        else:\n",
    "            aux[k] = a[i]\n",
    "            i += 1\n",
    "    # update a with the merged parts\n",
    "    a[lo:hi] = aux[0:n]\n",
    "    return count"
   ]
  },
  {
   "cell_type": "code",
   "execution_count": 4,
   "id": "e344c983",
   "metadata": {},
   "outputs": [
    {
     "name": "stdout",
     "output_type": "stream",
     "text": [
      "8\n",
      "0\n",
      "15\n"
     ]
    }
   ],
   "source": [
    "A = [3,1,2,5,4,0]\n",
    "B = [0,1,2,3,4,5]\n",
    "C = [5,4,3,2,1,0]\n",
    "print(count_inversions(A))\n",
    "print(count_inversions(B))\n",
    "print(count_inversions(C))"
   ]
  },
  {
   "cell_type": "markdown",
   "id": "053c097a",
   "metadata": {},
   "source": [
    "We would like to test the function more extensively. For this we use the same methods we already know. In this case we will compare with the brute force function (because we do not have a reference function built in Python!)."
   ]
  },
  {
   "cell_type": "code",
   "execution_count": 5,
   "id": "4cd87cdc",
   "metadata": {},
   "outputs": [],
   "source": [
    "import random\n",
    "import time\n",
    "import matplotlib.pyplot as plt\n",
    "import math"
   ]
  },
  {
   "cell_type": "code",
   "execution_count": 6,
   "id": "ce839c8e",
   "metadata": {},
   "outputs": [],
   "source": [
    "def random_number_list(lower,upper,short,long):\n",
    "    length = random.randrange(short,long)\n",
    "    return [random.randrange(lower,upper) for i in range(length)]\n",
    "\n",
    "def test_program_once(a):\n",
    "    c1 = bf_count_inversions(a) \n",
    "    c2 = count_inversions(a)\n",
    "    if c1 != c2: print('expected', c1, 'but found', c2)\n",
    "    return c1 == c2\n",
    "\n",
    "def test_program(times):\n",
    "    for i in range(times):\n",
    "        if not test_program_once(random_number_list(-10,10,0,1000)):\n",
    "            return False\n",
    "    return True\n",
    "    "
   ]
  },
  {
   "cell_type": "code",
   "execution_count": 7,
   "id": "1cdf52bd",
   "metadata": {},
   "outputs": [
    {
     "data": {
      "text/plain": [
       "True"
      ]
     },
     "execution_count": 7,
     "metadata": {},
     "output_type": "execute_result"
    }
   ],
   "source": [
    "test_program(100)"
   ]
  },
  {
   "cell_type": "code",
   "execution_count": 8,
   "id": "ccc92770",
   "metadata": {},
   "outputs": [],
   "source": [
    "# generate running time data\n",
    "def running_time_data(start_size, p, step, times):\n",
    "    n = start_size\n",
    "    results = ([0] * times, [0] * times)\n",
    "    for i in range(times):\n",
    "        a = list(range(n))\n",
    "        random.shuffle(a)\n",
    "        start = time.process_time_ns() \n",
    "        p(a)\n",
    "        (results[0][i],results[1][i]) = (n, time.process_time_ns() - start)\n",
    "        n *= step\n",
    "    return results"
   ]
  },
  {
   "cell_type": "code",
   "execution_count": 9,
   "id": "b6f1f86d",
   "metadata": {},
   "outputs": [
    {
     "data": {
      "image/png": "[encoded data removed]",
      "text/plain": [
       "<Figure size 432x288 with 1 Axes>"
      ]
     },
     "metadata": {
      "filenames": {
       "image/png": "/Users/vero/home/education/pythonGateway/theCourse/PG2ML-lecture-notes/_build/jupyter_execute/design/dc-inversions_11_0.png"
      },
      "needs_background": "light"
     },
     "output_type": "display_data"
    }
   ],
   "source": [
    "# the sizes and execution times for 10 random arrays of lengths 10, 20, 40, ..., 5120.\n",
    "# Because we collect data for the brute force program we use small sizes of the arrays!\n",
    "\n",
    "# Brute force data:\n",
    "(size_bf,t_bf) = running_time_data(10,bf_count_inversions,2,10)\n",
    "\n",
    "# Divide & Conquer data:\n",
    "(size,t)       = running_time_data(10,count_inversions,2,10)\n",
    "\n",
    "\n",
    "# Prepare the tool:\n",
    "_,ax = plt.subplots()\n",
    "\n",
    "# Plot the points for time as function of size:\n",
    "# red for the brute force values\n",
    "# green for the divide and conquer values\n",
    "ax.plot(size_bf, t_bf, color = 'red')\n",
    "ax.plot(size,    t,    color = 'green')\n",
    "\n",
    "# Decorate the graph:\n",
    "ax.set(xlabel='size', ylabel='time',\n",
    "       title='Running time as function of array length')\n",
    "\n",
    "# Add a grid:\n",
    "ax.grid()\n",
    "\n",
    "# Display:\n",
    "plt.show()"
   ]
  },
  {
   "cell_type": "markdown",
   "id": "7524c7f8",
   "metadata": {},
   "source": [
    "## Exercise\n",
    "\n",
    "Modify the implementation of ```count_inversions``` so that the original array does not change. \n",
    "\n",
    "Make sure to test that the argument does not change and that the asymptotic running time does not change."
   ]
  }
 ],
 "metadata": {
  "kernelspec": {
   "display_name": "Python 3 (ipykernel)",
   "language": "python",
   "name": "python3"
  },
  "language_info": {
   "codemirror_mode": {
    "name": "ipython",
    "version": 3
   },
   "file_extension": ".py",
   "mimetype": "text/x-python",
   "name": "python",
   "nbconvert_exporter": "python",
   "pygments_lexer": "ipython3",
   "version": "3.10.0"
  }
 },
 "nbformat": 4,
 "nbformat_minor": 5
}