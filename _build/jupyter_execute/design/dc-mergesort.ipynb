{
 "cells": [
  {
   "cell_type": "markdown",
   "id": "6e62d427",
   "metadata": {},
   "source": [
    "# Mergesort\n",
    "\n",
    "In the chapter Order and sorting we saw some algorithms for sorting arrays (selection  sort, insertion sort, bubble sort) that we said we would be *discard* given that they did not work well for large arrays. You were encouraged to test Python's sorting algorithm, selection sort and insertion sort to experience how long it could take for large arrays. You were also encouraged in the section Measuring and estimating execution time to plot the execution time of the programs. \n",
    "\n",
    "Now we will discuss the algorithm that lies behind Python's own sortin algorithm: Mergesort.  When we are done you will see that the algorithm is *almost* linear (linearithmic or $n \\, $log$ \\,n$). And this is amazing: you can sort an array almost as fast as you can fill it with elements! Tim Roughgarden calls this a *for-free primitive*: a component you can use in algorithms that need sorted arrays in order to work. \n",
    "\n",
    "\n",
    "Recall the three steps of Divide & Conquer:\n",
    "\n",
    " 1) *Divide* the input into smaller parts to get subproblems\n",
    " \n",
    " 2) *Conquer* the subproblems  recursively.\n",
    "  \n",
    " 3) *Combine* the solutions to the subproblems into a solution for the original problem.\n",
    " \n",
    "and try the more immediate way of dividing the input. \n",
    "\n",
    "What *is* the input? The problem we are trying to solve is *sorting an array*, so the input is the array to be sorted. We do step 1) in constant time: divide the input into two halves: we just need to pick the middle index!\n",
    "\n",
    "Given this, do step 2) that is given: sort each of the two halves recursively!\n",
    "\n",
    "And now to step 3). I hope you have already realized that we cannot just put the two sorted halves together! Here is an example of two halves that are sorted but that together do not form a sorted array:\n",
    "\n",
    "```Python\n",
    "[1,3,5,2,4,6]\n",
    "```\n",
    "\n",
    "So, say you have the two sorted halves ```[1,3,5]``` and ```[2,4,6]```, can we think of an efficient way of combining them into a solution to sorting an array with all these elements? Well yes, if you have an extra array where to put the elements: then you can go from left to right in both halves and pick the smallest element, whether from the first half or from the second one. This idea is called *merging* the two halves. \n",
    "\n",
    "Here is a program, ```book_merge``` that implements this idea. We follow the book closely (Section 1.4.5) and write it in a way that takes two arrays as arguments and produces an array as result. The program has some more detail than the figure in Section 1.4.5. To understand it you have to read the last paragraph of the section where it says that you have to take care of the cases where the traversal of C or D *falls off the end*. \n",
    "\n",
    "The important thing for the algorithm to work is that the two input arrays are themselves sorted.\n",
    "\n",
    "Later on we will see how to adapt it in order to sort *in place* (modifying the array)."
   ]
  },
  {
   "cell_type": "code",
   "execution_count": 1,
   "id": "dfcbb0a7",
   "metadata": {},
   "outputs": [],
   "source": [
    "def book_merge(c, d):\n",
    "    b = [None] * (len(c) + len(d))\n",
    "    \n",
    "    i = 0 # i is the index for c\n",
    "    j = 0 # j is the index for d\n",
    "    \n",
    "    for k in range(len(b)): # k is the index for b\n",
    "        \n",
    "        if i == len(c): # fell off the end of c: just copy the elements in d\n",
    "            b[k] = d[j]\n",
    "            j += 1\n",
    "            \n",
    "        elif j == len(d): # fell off the end of d: just copy the elements of c\n",
    "            b[k] = c[i]\n",
    "            i += 1\n",
    "            \n",
    "        elif c[i] < d[j]: # still inside both c and d!\n",
    "            b[k] = c[i]\n",
    "            i += 1\n",
    "            \n",
    "        else: \n",
    "            b[k] = d[j]\n",
    "            j += 1\n",
    "            \n",
    "    return b"
   ]
  },
  {
   "cell_type": "code",
   "execution_count": 2,
   "id": "8d3f1083",
   "metadata": {},
   "outputs": [
    {
     "data": {
      "text/plain": [
       "[1, 2, 3, 4, 5, 6]"
      ]
     },
     "execution_count": 2,
     "metadata": {},
     "output_type": "execute_result"
    }
   ],
   "source": [
    "book_merge([1,3,5], [2,4,6])"
   ]
  },
  {
   "cell_type": "markdown",
   "id": "2c8f65b8",
   "metadata": {},
   "source": [
    "## Quiz\n",
    "\n",
    "What is the asymptotic running time of the code for ```book_merge```?\n",
    "\n",
    "1) $O(1)$\n",
    "    \n",
    "2) $O($log$ \\, n)$\n",
    "    \n",
    "3) $O(n)$\n",
    "    \n",
    "4) $O(n^2)$\n",
    "    "
   ]
  },
  {
   "cell_type": "markdown",
   "id": "b6e839fe",
   "metadata": {},
   "source": [
    "So, back to the Divide & Conquer idea:\n",
    "\n",
    "Given an array ```a```, to sort ```a```\n",
    "\n",
    "1) split it into two halves, \n",
    "\n",
    "2) recursively sort each of the halves,\n",
    "\n",
    "3) merge the two sorted halves\n",
    "\n",
    "In order to do everything *in place* we will use indices to mark the different parts of the array and we will create an auxiliary array to support merging. We use an auxiliary function to use all these arguments. We follow the convention in Python of using names that start with underscore for auxiliary functions. And remember, we want to reorder the elements of ```a```, we do not want to return a sorted array.\n",
    "\n",
    "The Divide & Conquer algorithm is implemented in the auxiliary function ```_sort```. \n",
    "\n",
    "Observe that also ```merge``` works with indices to mark the parts it works with. And that it does not return a sorted array, instead it updates ```a```."
   ]
  },
  {
   "cell_type": "code",
   "execution_count": 3,
   "id": "030ee76a",
   "metadata": {},
   "outputs": [],
   "source": [
    "def mergesort(a):\n",
    "    n = len(a)\n",
    "    aux = [None] * n\n",
    "    _sort(a, 0, n, aux)\n",
    "    \n",
    "def _sort(a, lo, hi, aux):\n",
    "    n = hi - lo\n",
    "    if n <= 1: # base case: nothing left to do\n",
    "        return\n",
    "    # To the meat of the algorithm. Notice the two recursive calls.\n",
    "    mid = (lo + hi) // 2 # Step 1) in D&C\n",
    "    _sort(a, lo, mid, aux) # Step 2) in D&C\n",
    "    _sort(a, mid, hi, aux) # Step 2) in D&C\n",
    "    _merge(a, lo, mid, hi, aux) # Step 3) in D&C\n",
    "    \n",
    "    \n",
    "def _merge(a, lo, mid, hi, aux):\n",
    "    n = hi - lo\n",
    "    i = lo\n",
    "    j = mid\n",
    "    # use aux[0:n] to merge the two parts a[lo:mid] and a[mid:hi]\n",
    "    for k in range(n):\n",
    "        if i == mid:\n",
    "            aux[k] = a[j]\n",
    "            j += 1\n",
    "        elif j == hi:\n",
    "            aux[k] = a[i]\n",
    "            i += 1\n",
    "        elif a[j] < a[i]:\n",
    "            aux[k] = a[j]\n",
    "            j += 1\n",
    "        else:\n",
    "            aux[k] = a[i]\n",
    "            i += 1\n",
    "    # update a with the merged parts\n",
    "    a[lo:hi] = aux[0:n]"
   ]
  },
  {
   "cell_type": "code",
   "execution_count": 4,
   "id": "d9483f99",
   "metadata": {},
   "outputs": [
    {
     "data": {
      "text/plain": [
       "[1, 2, 3, 4, 5, 6]"
      ]
     },
     "execution_count": 4,
     "metadata": {},
     "output_type": "execute_result"
    }
   ],
   "source": [
    "a = [5,3,1,6,4,2]\n",
    "mergesort(a)\n",
    "a"
   ]
  },
  {
   "cell_type": "markdown",
   "id": "eb21ec44",
   "metadata": {},
   "source": [
    "## Testing and exploring execution time\n",
    "\n",
    "In order to do an asymptotic analysis you need to read on the Master method. This is Chapter 4 in Part 1 of  [Algorithms Illuminated](http://algorithmsilluminated.org).\n",
    "\n",
    "In this lecture notes we will use the fact that we have the program and plot execution time versus size of input. \n",
    "\n",
    "We use functions we already used before so we do not explain them."
   ]
  },
  {
   "cell_type": "code",
   "execution_count": 5,
   "id": "df77b8d0",
   "metadata": {},
   "outputs": [],
   "source": [
    "import random\n",
    "import time\n",
    "import matplotlib.pyplot as plt\n",
    "import math"
   ]
  },
  {
   "cell_type": "code",
   "execution_count": 6,
   "id": "bb116ff1",
   "metadata": {},
   "outputs": [],
   "source": [
    "def random_number_list(lower,upper,short,long):\n",
    "    length = random.randrange(short,long)\n",
    "    return [random.randrange(lower,upper) for i in range(length)]\n",
    "\n",
    "def test_sorting_program_once(p, a):\n",
    "    b = sorted(a)\n",
    "    p(a)\n",
    "    if b != a: print('expected', b, 'but found', a)\n",
    "    return a == b\n",
    "\n",
    "def test_sorting_program(p, times):\n",
    "    for i in range(times):\n",
    "        if not test_sorting_program_once(p, random_number_list(-10,10,0,1000)):\n",
    "            return False\n",
    "    return True\n",
    "    "
   ]
  },
  {
   "cell_type": "code",
   "execution_count": 7,
   "id": "386080dc",
   "metadata": {},
   "outputs": [
    {
     "data": {
      "text/plain": [
       "True"
      ]
     },
     "execution_count": 7,
     "metadata": {},
     "output_type": "execute_result"
    }
   ],
   "source": [
    "# sort 100 random arrays using mergesort and check whether it is sorted using Python's sort.\n",
    "test_sorting_program(mergesort, 100)"
   ]
  },
  {
   "cell_type": "code",
   "execution_count": 8,
   "id": "57b68c4c",
   "metadata": {},
   "outputs": [],
   "source": [
    "# generate running time data\n",
    "def running_time_data(start_size, p, step, times):\n",
    "    n = start_size\n",
    "    results = ([0] * times, [0] * times)\n",
    "    for i in range(times):\n",
    "        a = list(range(n))\n",
    "        random.shuffle(a)\n",
    "        start = time.process_time_ns() \n",
    "        p(a)\n",
    "        (results[0][i],results[1][i]) = (n, time.process_time_ns() - start)\n",
    "        n *= step\n",
    "    return results"
   ]
  },
  {
   "cell_type": "code",
   "execution_count": 9,
   "id": "e0421811",
   "metadata": {},
   "outputs": [
    {
     "data": {
      "image/png": "[encoded data removed]",
      "text/plain": [
       "<Figure size 432x288 with 1 Axes>"
      ]
     },
     "metadata": {
      "filenames": {
       "image/png": "/Users/vero/home/education/pythonGateway/theCourse/lecture-notes/_build/jupyter_execute/design/dc-mergesort_12_0.png"
      },
      "needs_background": "light"
     },
     "output_type": "display_data"
    }
   ],
   "source": [
    "# the sizes and execution times for 10 random arrays of lengths 100, 200, 400, ..., 51200.\n",
    "(size,t) = running_time_data(100,mergesort,2,10)\n",
    "\n",
    "# Prepare the tool:\n",
    "_,ax = plt.subplots()\n",
    "\n",
    "# Plot the points for time as function of size:\n",
    "ax.plot(size, t)\n",
    "\n",
    "# Decorate the graph:\n",
    "ax.set(xlabel='size', ylabel='time',\n",
    "       title='Running time as function of array length')\n",
    "\n",
    "# Add a grid:\n",
    "ax.grid()\n",
    "\n",
    "# Display:\n",
    "plt.show()"
   ]
  },
  {
   "cell_type": "markdown",
   "id": "942cb9b7",
   "metadata": {},
   "source": [
    "This looks almost linear. We cannot say much with this simple experiment. You will do a better experiment in the first assignment, Laboration 1. In Laboration 1 you will see yet another sorting algorithm also designed using Divide & Conquer. The algorithm is *quicksort* and has a more complicated step 1) but a very simple step 3): do nothing! Step 1) is called *partition* and it just moves to the left all elements smaller than a selected element in the array (called the pivot) and to the right all elements larger than the pivot. This can be done in linear time. \n",
    "\n",
    "If you read the book and / or apply the Master method yourself you will find out that the asymptotic time is $n \\, $log$ \\, n$.  So, lets plot this function:\n"
   ]
  },
  {
   "cell_type": "code",
   "execution_count": 10,
   "id": "5f523017",
   "metadata": {},
   "outputs": [
    {
     "data": {
      "image/png": "[encoded data removed]",
      "text/plain": [
       "<Figure size 432x288 with 1 Axes>"
      ]
     },
     "metadata": {
      "filenames": {
       "image/png": "/Users/vero/home/education/pythonGateway/theCourse/lecture-notes/_build/jupyter_execute/design/dc-mergesort_14_0.png"
      },
      "needs_background": "light"
     },
     "output_type": "display_data"
    }
   ],
   "source": [
    "# The x values:\n",
    "x  = range(100, 51200)\n",
    "\n",
    "# The y values for the linearithmic function x * log_2(x)\n",
    "fx = [i * math.log2(i) for i in x]\n",
    "\n",
    "\n",
    "# Prepare the tool:\n",
    "_,ax = plt.subplots()\n",
    "\n",
    "# Plot the points for fx:\n",
    "ax.plot(x, fx)\n",
    "\n",
    "\n",
    "\n",
    "# Decorate the graph:\n",
    "ax.set(xlabel='x', ylabel='f(x)',\n",
    "       title='Linearithmic function')\n",
    "\n",
    "# Add a grid:\n",
    "ax.grid()\n",
    "\n",
    "# Display:\n",
    "plt.show()"
   ]
  },
  {
   "cell_type": "markdown",
   "id": "0caf2c0b",
   "metadata": {},
   "source": [
    "The values in the y-axis are in another range, but the  curves are very similar!\n",
    "\n",
    "### Notice\n",
    "\n",
    "An asymptotic behaviour of $n \\, $log$ \\, n$ is what in the book is called a *for free primitive*: you can use it in your algorithms, it will not spoil them. \n",
    "\n",
    "One way of seeing this is that just filling in the array is already linear! And $n \\, $log$ \\, n$ is *almost linear*: asymptotically $$log$ \\, n$ is almost a constant!\n",
    " \n",
    "And now think: mergesort can sort an array as fast as filling in the array!"
   ]
  }
 ],
 "metadata": {
  "kernelspec": {
   "display_name": "Python 3 (ipykernel)",
   "language": "python",
   "name": "python3"
  },
  "language_info": {
   "codemirror_mode": {
    "name": "ipython",
    "version": 3
   },
   "file_extension": ".py",
   "mimetype": "text/x-python",
   "name": "python",
   "nbconvert_exporter": "python",
   "pygments_lexer": "ipython3",
   "version": "3.10.0"
  }
 },
 "nbformat": 4,
 "nbformat_minor": 5
}