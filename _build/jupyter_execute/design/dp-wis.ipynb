{
 "cells": [
  {
   "cell_type": "markdown",
   "id": "84709c69",
   "metadata": {},
   "source": [
    "# Maximum independent set for weighted path graphs\n",
    "\n",
    "\n",
    "## Definitions and examples\n",
    "\n",
    "A path graph looks like a line of dots connected by line segments. The dots are called vertices or nodes. The line segments are called edges. Here is an example:\n",
    "\n",
    "$$\\bigcirc \\rule[2pt]{1cm}{0.4pt} \\bigcirc \\rule[2pt]{1cm}{0.4pt} \\bigcirc \\rule[2pt]{1cm}{0.4pt} \\bigcirc \\rule[2pt]{1cm}{0.4pt}  \\bigcirc \\rule[2pt]{1cm}{0.4pt} \\bigcirc $$\n",
    "\n",
    "When we associate a weight or cost with the nodes we cal it a weighted path graph. We can then use an array to describe a path graph: the indices are the *names* of the nodes and the content is the weight of the index node.\n",
    "\n",
    "A path graph with as above would have nodes 0, 1, 2, 3, 4 and 5. A weighted variant can be given by the array\n",
    "\n",
    "```Python\n",
    "[6,10,1,1,1,2]\n",
    "```\n",
    "to mean that node 0 has weight 6, node 1 has weight 10, nodes 2, 3 and 4 have weight 1 and node 5 has weight 2.\n",
    "\n",
    "Now that we understand what a weighted path graph is, lets look at *independent sets*. \n",
    "\n",
    "An independent set is a set of nodes that do not share an edge. Here are **some** independent sets for the path graph we are using:\n",
    "\n",
    "$$ \\emptyset,  \\{0\\},  \\{1\\}, \\{2\\}, \\{3\\}, \\{4\\}, \\{5\\}, \\{0,2\\}, \\{0,3\\}, \\{1,3,5\\}$$\n",
    "\n",
    "There are of course more that you might try to find. \n",
    "\n",
    "The following is **not** an independent set: $ \\{0,2,3\\} $. This is because 2 and 3 are endpoints of the same edge.  \n",
    "Given an independent set in a weighted path graph, we can calculate the total weight of the set by adding the weights of the nodes in the set. In our example\n",
    "\n",
    "- the independent set $ \\emptyset $ has weight 0\n",
    "\n",
    "- the independent set $ \\{0\\} $ has weight 6\n",
    "\n",
    "- the independent set $\\{1,3,5\\}$ has weight 13\n",
    "\n",
    "## Problem statement\n",
    "\n",
    "Given a weighted path graph find an independent set of maximum weight. All weights are $ > 0$.\n",
    "\n",
    "## Finding an algorithm\n",
    "\n",
    "The book  [Algorithms Illuminated](http://algorithmsilluminated.org) discusses this problem in detail in Chapter 16 in Part 3. Among other things it discusses two approaches, both of which fail to design a correct algorithm. Finally it makes an attempt using Dynamic programming and that is what we will follow here.\n",
    "\n",
    "Here is the sketch of the paradigm once more:\n",
    "\n",
    "1) Identify a relatively small number of subproblems.\n",
    "\n",
    "2) Show how to quickly and correctly solve *larger* problems given solutions to *smaller* problems.\n",
    "\n",
    "3) Show how to quickly and correctly infer the final solution from the solutions to all the subproblems. \n",
    "\n",
    "> The algorithm you obtain is to systematically solve all the subproblems one by one, working from smallest to largest and extract the final solution from the solutions to the subproblems. \n",
    "\n",
    "### How can we identify *the small number of subproblems?*\n",
    "\n",
    "We can start by assuming that we have a solution for a given size and try to see what components, in terms of solutions to smaller problems it can have. **Notice that we do not look at the input size but at how the solution might look like!*\n",
    "\n",
    "Consider the example, and say that we have a solution for the whole path graph: we have an independent set $S$ of maximum weight for the whole path graph. \n",
    "\n",
    "We do not know much about this set $S$! \n",
    "\n",
    "But, given that we cannot have the two last nodes in the set and that the weights are positive, the set will either include the last node (node 5) or it will not. If not, it will include the next to last (node 4)! If it does,  it will not include the next to last! So, lets consider these two cases:\n",
    "\n",
    "* node 5 belongs to $S$. But in this case node 4 cannot belong to $S$ so in some way there has to be a solution for the graph with nodes up to node 3 (remove 2 nodes from the path graph) that can be used to form our solution. We take this solution and add node 5 with its weight. \n",
    "\n",
    "* node 5 does not belong to $S$. Then, the solution is the same as the solution for the smaller graph upto node 4!\n",
    "\n",
    "So, we pick two smaller subproblems: the path graph without the last node (P1) and the path graph without the two last nodes (P2)\n",
    "\n",
    "How can we use these two to form a solution for the whole path graph? Well, it depends on the weight of the last node. Say that the solution for P1 has total weight W1 and the solution for P2 has total weight W2. \n",
    "\n",
    "* If W2 + weight of final node  $>$ W1 we use the solution for P2 and add the last node with its weight.\n",
    "\n",
    "* If not, we use the solution for P1 (we do not use the last node in the solution).\n",
    "\n",
    "If we do this from the smallest path graphs that form the path graph in our problem until we have all the nodes in the graph, we just need to take the solution for the longets path graph!\n",
    "\n",
    "Let's look at the example, starting with the smallest path graph and building the solutions for the longer and longer path graphs using these ideas:\n",
    "\n",
    "1) The solution for the path graph with only node 0 is the independent set ${0}$ with weight 6.\n",
    "\n",
    "2) The solution for the path graph with nodes 0 and 1 can only have one node (it has to be an independent set!). So, it will pick node 0 or node 1, the one with highest weight. In our case the solution is ${1}$ with weight 10.\n",
    "\n",
    "3) The solution for the path graph with nodes 0, 1 and 2 is found by picking the best between:\n",
    "\n",
    "        a) The solution for the path graph 0, 1: weight 10\n",
    "   \n",
    "        b) The solution for the path graph 0 and the node 2: weight 6 + 1\n",
    "        \n",
    "   We keep the same solution as for 0, 1 with weight 10.\n",
    "   \n",
    "4) The solution for the path with nodes 0, 1, 2, 3 is found by picking the best between:\n",
    "\n",
    "        a)  The solution for path graph 0, 1, 2: weight 10\n",
    "    \n",
    "        b)  The solution for path graph 0, 1 and node 3: weight 10 + 1\n",
    "    \n",
    "   We take the solution for path graph 0, 1 and add node 3: weight 10 + 1\n",
    "   \n",
    "5) The solution for the path with nodes 0, 1, 2, 3, 4 is found by picking the best between:\n",
    "\n",
    "        a)  The solution for path graph 0, 1, 2, 3: weight 11\n",
    "        \n",
    "        b)  The solution for path graph 0, 1, 2 and node 4: weight 10 + 1\n",
    "    \n",
    "   They are the same! We could pick any of them. Both have weight 11.\n",
    "   \n",
    "6) The solution for the path with nodes 0, 1, 2, 3, 4, 5 is found by picking the best between:\n",
    "\n",
    "        a)  The solution for path graph 0, 1, 2, 3, 4: weight 11\n",
    "        \n",
    "        b)  The solution for path graph 0, 1, 2, 3 and node 5: weight 11 + 2\n",
    "    \n",
    "   We take the solution for path graph 0, 1, 2, 3 and add node 5: weight 11 + 2.\n",
    "   \n",
    "The solution to the problem has weight 13 and we can reconstruct it from the back: it uses node 5 (and then it does not use node 4) so we go to the solution for node 3: it uses node 3 (and then it does not use node 2) so we go to the solution for node 1: it uses node 1 (and then it does not use node 0). So: the independent set of with weight 13 is $\\{1, 3, 5\\}$\n",
    "\n",
    "Again, as in Fibonacci, we see the need for an array that we start filling in using the weights of the nodes in the path graph."
   ]
  },
  {
   "cell_type": "code",
   "execution_count": 1,
   "id": "ebc2c7df",
   "metadata": {},
   "outputs": [],
   "source": [
    "# wpg is a weighted path graph given as an array: the indices are the nodes and the elements are the weights.\n",
    "\n",
    "def dp_wis(wpg):\n",
    "    \n",
    "    n = len(wpg)\n",
    "    solution_weights = [0] * n\n",
    "    \n",
    "    # For a path graph with only one node the solution uses that node!\n",
    "    solution_weights[0] = wpg[0]\n",
    "    \n",
    "    # For a path graph with two nodes, only one can be in the independent set: the one with highest weight\n",
    "    if wpg[0] > wpg[1]:\n",
    "        solution_weights[1] = wpg[0]\n",
    "    else:\n",
    "        solution_weights[1] = wpg[1]\n",
    "      \n",
    "    # In all other cases pick the best between the solution for the path graph with one less node\n",
    "    # or the solution fot the path graph with 2 less nodes and add the last node.\n",
    "    for i in range(2, n):\n",
    "        solution_weights[i] = max(solution_weights[i - 1], \n",
    "                                  solution_weights[i - 2] + wpg[i])\n",
    "    \n",
    "    # Finally, the solution is the last element!\n",
    "    return solution_weights[n-1]\n",
    "        "
   ]
  },
  {
   "cell_type": "code",
   "execution_count": 2,
   "id": "edc7e301",
   "metadata": {},
   "outputs": [
    {
     "data": {
      "text/plain": [
       "13"
      ]
     },
     "execution_count": 2,
     "metadata": {},
     "output_type": "execute_result"
    }
   ],
   "source": [
    "dp_wis([6,10,1,1,1,2])"
   ]
  },
  {
   "cell_type": "code",
   "execution_count": 3,
   "id": "4e977312",
   "metadata": {},
   "outputs": [
    {
     "data": {
      "text/plain": [
       "8"
      ]
     },
     "execution_count": 3,
     "metadata": {},
     "output_type": "execute_result"
    }
   ],
   "source": [
    "# the example in the book:\n",
    "dp_wis([1,4,5,4])"
   ]
  },
  {
   "cell_type": "markdown",
   "id": "8ce2febd",
   "metadata": {},
   "source": [
    "Now we want to add the *reconstruction*: we not only want the weight of the solution, we also want the independent set! \n",
    "\n",
    "In the book the algorithm uses a *set* $S$ to collect the nodes of the independent set. We do the same in Python even if we have not yet discussed sets. We will touch on sets in the lecture notes for data structures! For the moment we just use it. Here is what you have to know:\n",
    "\n",
    "* You can create the empty set using ```set()```\n",
    "\n",
    "* You can add elements ```e``` to a set ```s``` by doing ```s.add(e)```\n",
    "\n",
    "So, here is the algorithm that calculates the weight of the independent set with maximum weight in a weighted path graph **and** forms the independent set with that weight (and you see why we cannot get rid of the array as we did in Fibonacci!):"
   ]
  },
  {
   "cell_type": "code",
   "execution_count": 4,
   "id": "35f86068",
   "metadata": {},
   "outputs": [],
   "source": [
    "# And now with the re-construction steps:\n",
    "\n",
    "def dp_wis_with_reconstruction(wpg):\n",
    "    \n",
    "    n = len(wpg)\n",
    "    solution_weights = [0] * n\n",
    "    \n",
    "    # For a path graph with only one node the solution uses that node!\n",
    "    solution_weights[0] = wpg[0]\n",
    "    \n",
    "    # For a path graph with two nodes, only one can be in the independent set: the one with highest weight\n",
    "    if wpg[0] > wpg[1]:\n",
    "        solution_weights[1] = wpg[0]\n",
    "    else:\n",
    "        solution_weights[1] = wpg[1]\n",
    "      \n",
    "    # In all other cases pick the best between the solution for the path graph with one less node\n",
    "    # or the solution fot the path graph with 2 less nodes and add the last node.\n",
    "    for i in range(2, n):\n",
    "        solution_weights[i] = max(solution_weights[i - 1], \n",
    "                                  solution_weights[i - 2] + wpg[i])\n",
    "\n",
    "    # Finally, the solution is the last element!\n",
    "    \n",
    "    # Reconstruction ()\n",
    "    wis = set()\n",
    "    i = n - 1\n",
    "    while i >= 1:\n",
    "        if solution_weights[i-1] > solution_weights[i-2] + wpg[i]:\n",
    "            i = i - 1\n",
    "        else:\n",
    "            wis.add(i)\n",
    "            i = i - 2\n",
    "            \n",
    "    if i == 0: wis.add(0)\n",
    "        \n",
    "    # the set and the weight\n",
    "    return (wis, solution_weights[n-1])"
   ]
  },
  {
   "cell_type": "code",
   "execution_count": 5,
   "id": "ad7af7f8",
   "metadata": {},
   "outputs": [
    {
     "data": {
      "text/plain": [
       "({1, 3, 5}, 13)"
      ]
     },
     "execution_count": 5,
     "metadata": {},
     "output_type": "execute_result"
    }
   ],
   "source": [
    "dp_wis_with_reconstruction([6,10,1,1,1,2])"
   ]
  },
  {
   "cell_type": "code",
   "execution_count": 6,
   "id": "516eec7b",
   "metadata": {},
   "outputs": [
    {
     "data": {
      "text/plain": [
       "({1, 3}, 8)"
      ]
     },
     "execution_count": 6,
     "metadata": {},
     "output_type": "execute_result"
    }
   ],
   "source": [
    "# the example in the book:\n",
    "dp_wis_with_reconstruction([1,4,5,4])"
   ]
  }
 ],
 "metadata": {
  "kernelspec": {
   "display_name": "Python 3 (ipykernel)",
   "language": "python",
   "name": "python3"
  },
  "language_info": {
   "codemirror_mode": {
    "name": "ipython",
    "version": 3
   },
   "file_extension": ".py",
   "mimetype": "text/x-python",
   "name": "python",
   "nbconvert_exporter": "python",
   "pygments_lexer": "ipython3",
   "version": "3.10.0"
  }
 },
 "nbformat": 4,
 "nbformat_minor": 5
}