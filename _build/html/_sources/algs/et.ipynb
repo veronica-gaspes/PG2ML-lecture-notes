{
 "cells": [
  {
   "cell_type": "markdown",
   "metadata": {},
   "source": [
    "# Order and sorting\n",
    "\n",
    "The book Algorithms illuminated swiflty describes three solutions to the sorting problem in less than a page. The three solutions are discarded immediatelly because *they all have quadratic running times*.\n",
    "\n",
    "We walk you through how the Python operator ```<``` works for different types, we implement the three algorithms just mentioned and we briefly show howcome *they all have quadratic running times* and why this means that they have to be discared.\n",
    "\n",
    "## The ```<``` operator in Python\n",
    "\n",
    "This operator works as expected for integers. Here is an example with 3 cases:"
   ]
  },
  {
   "cell_type": "code",
   "execution_count": 1,
   "metadata": {},
   "outputs": [
    {
     "data": {
      "text/plain": [
       "(True, False, False)"
      ]
     },
     "execution_count": 1,
     "metadata": {},
     "output_type": "execute_result"
    }
   ],
   "source": [
    "(1 < 2, 1 < 1, 2 < 1)"
   ]
  },
  {
   "cell_type": "markdown",
   "metadata": {},
   "source": [
    "But what about strings, tuples and arrays? In all these cases it works as alphabetical ordering. Here are some examples with strings where it is clear that it is the first character that decides and only in case of having the same first character it is the second character that decides and so on."
   ]
  },
  {
   "cell_type": "code",
   "execution_count": 2,
   "metadata": {},
   "outputs": [
    {
     "name": "stdout",
     "output_type": "stream",
     "text": [
      "True\n",
      "True\n",
      "True\n",
      "True\n",
      "False\n",
      "False\n"
     ]
    }
   ],
   "source": [
    "print(''   < 'a')\n",
    "print('a'  < 'aa')\n",
    "print('az' < 'b')\n",
    "print('ab' < 'az')\n",
    "print('ab' < 'aa')\n",
    "print('b'  < 'abbbb')"
   ]
  },
  {
   "cell_type": "markdown",
   "metadata": {},
   "source": [
    "The same holds for arrays and tuples. Here are the same examples for arrays:"
   ]
  },
  {
   "cell_type": "code",
   "execution_count": 3,
   "metadata": {},
   "outputs": [
    {
     "name": "stdout",
     "output_type": "stream",
     "text": [
      "True\n",
      "True\n",
      "True\n",
      "True\n",
      "False\n",
      "False\n"
     ]
    }
   ],
   "source": [
    "print([]     < [1])\n",
    "print([1]    < [1,1])\n",
    "print([1,99] < [2])\n",
    "print([1,2]  < [1,99])\n",
    "print([1,2]  < [1,1])\n",
    "print([2]    < [1,2,2,2,2])"
   ]
  },
  {
   "cell_type": "markdown",
   "metadata": {},
   "source": [
    "And finally some examples for tuples, that we treat differently given that tuples typically have elements of different types."
   ]
  },
  {
   "cell_type": "code",
   "execution_count": 4,
   "metadata": {},
   "outputs": [
    {
     "name": "stdout",
     "output_type": "stream",
     "text": [
      "True\n",
      "False\n",
      "True\n"
     ]
    }
   ],
   "source": [
    "print((1,'a') < (2, 'a'))\n",
    "print((1,'a') < (1, 'a'))\n",
    "print((1,'a') < (1, 'b'))"
   ]
  },
  {
   "cell_type": "markdown",
   "metadata": {},
   "source": [
    "## Sorting arrays\n",
    "\n",
    "The problem can be (informally) described as: \n",
    "\n",
    "Given an array as input, produce an array as output that has the same elements but in order (from smaller to larger).\n",
    "\n",
    "### Sorting arrays in Python\n",
    "\n",
    "Python provides a function and a method that solve the problem of sorting arrays in different ways:\n",
    "\n",
    "1) The function ```sorted``` can be used to form an expression: it calculates a value, an array that is sorted, without modifying the argument. The function is used as in ```sorted([1,3,2])```. This expression has value ```[1,2,3]```. We can say that the input is the argument to the function and the output is the result of applying the function.\n",
    "\n",
    "2) The method ```sort``` can be used to form a statement (a command): it has an effect, sorting an array, without producing any value. The method is used as ```a.sort()``` and ```a``` becomes sorted when this command is used. We can say that the input is ```a``` and the output is also ```a```. \n",
    "\n",
    "The following four cells illustrate this"
   ]
  },
  {
   "cell_type": "code",
   "execution_count": 5,
   "metadata": {},
   "outputs": [
    {
     "data": {
      "text/plain": [
       "[1, 2, 3]"
      ]
     },
     "execution_count": 5,
     "metadata": {},
     "output_type": "execute_result"
    }
   ],
   "source": [
    "sorted([1,3,2])"
   ]
  },
  {
   "cell_type": "code",
   "execution_count": 6,
   "metadata": {},
   "outputs": [
    {
     "name": "stdout",
     "output_type": "stream",
     "text": [
      "[1, 2, 3]\n",
      "[1, 3, 2]\n"
     ]
    }
   ],
   "source": [
    "# This cell shows that sorted(a) is a sorted list and that a does not change.\n",
    "a = [1,3,2]\n",
    "print(sorted(a))\n",
    "print(a)"
   ]
  },
  {
   "cell_type": "code",
   "execution_count": 7,
   "metadata": {},
   "outputs": [],
   "source": [
    "# This cell shows that sort() does not calculate a value.\n",
    "[1,3,2].sort()"
   ]
  },
  {
   "cell_type": "code",
   "execution_count": 8,
   "metadata": {},
   "outputs": [
    {
     "data": {
      "text/plain": [
       "[1, 2, 3]"
      ]
     },
     "execution_count": 8,
     "metadata": {},
     "output_type": "execute_result"
    }
   ],
   "source": [
    "# This cell shows that sort modifies the list a.\n",
    "a = [1,3,2]\n",
    "a.sort()\n",
    "a"
   ]
  },
  {
   "cell_type": "markdown",
   "metadata": {},
   "source": [
    "The three solutions to sorting lists presented swifly in the book and then discarded because of their running time behavious are easy to program. We do so in order to compare the running time behaviour of all solutions. \n",
    "\n",
    "To help you understand the programs you can check the animations at [ComparisonSort](https://www.cs.usfca.edu/~galles/visualization/ComparisonSort.html) by professor [David Galles](https://www.cs.usfca.edu/~galles/)\n",
    "\n",
    "### Selection sort\n",
    "\n",
    "Here is how the book [Algorithms illuminated](https://algorithmsilluminated.org) describes this algorithm:\n",
    "\n",
    "*First scan the input array to identify the minimum element and copy it over to the first element of the output array; then do another scan to identify and copy the second-smallest element; and so on.*\n",
    "\n",
    "What follows is a program that implements this algorithm using the same array as input and output. In order not to loose the element that gets overwritten by the least element we swap elements.\n",
    "\n",
    "In order to scan the input to identify the minimum element we define a function to return the position of the minimum element in an array. The function that sorts calls this function repeatedly with shorter and shorter suffixes of the original array."
   ]
  },
  {
   "cell_type": "code",
   "execution_count": 9,
   "metadata": {},
   "outputs": [],
   "source": [
    "def min_pos(a):\n",
    "    mp = 0\n",
    "    for i in range(len(a)):\n",
    "        if a[i] < a[mp]: mp = i\n",
    "    return mp\n",
    "\n",
    "    \n",
    "def selection_sort(a):\n",
    "    n = len(a)\n",
    "    for i in range(n):\n",
    "        j = i + min_pos(a[i:n])\n",
    "        a[i],a[j] = a[j],a[i]    "
   ]
  },
  {
   "cell_type": "code",
   "execution_count": 10,
   "metadata": {},
   "outputs": [
    {
     "data": {
      "text/plain": [
       "[1, 2, 3]"
      ]
     },
     "execution_count": 10,
     "metadata": {},
     "output_type": "execute_result"
    }
   ],
   "source": [
    "a = [1,3,2]\n",
    "selection_sort(a)\n",
    "a"
   ]
  },
  {
   "cell_type": "markdown",
   "metadata": {},
   "source": [
    "### Insertion sort\n",
    "\n",
    "Keep the prefix sorted and extend the prefix: grow a sorted prefix of the array. The implementation looks at the next element and moves it to its position among the previous elements in the array. \n"
   ]
  },
  {
   "cell_type": "code",
   "execution_count": 11,
   "metadata": {},
   "outputs": [],
   "source": [
    "def insertion_sort(a): \n",
    "    for i in range(1,len(a)):\n",
    "        j = i\n",
    "        while(j > 0 and a[j] < a[j-1]):\n",
    "            a[j],a[j-1] = a[j-1],a[j]\n",
    "            j = j - 1                   "
   ]
  },
  {
   "cell_type": "code",
   "execution_count": 12,
   "metadata": {},
   "outputs": [
    {
     "data": {
      "text/plain": [
       "[1, 2, 3]"
      ]
     },
     "execution_count": 12,
     "metadata": {},
     "output_type": "execute_result"
    }
   ],
   "source": [
    "a = [3,1,2]\n",
    "insertion_sort(a)\n",
    "a"
   ]
  },
  {
   "cell_type": "markdown",
   "metadata": {},
   "source": [
    "## How can we test these programs?\n",
    "\n",
    "We can use the function that calculates a sorted version of an array and compare its result with the modified array our functions create.\n",
    "\n",
    "In the function ```test_sorting_program_once``` the argument ```p``` is the program to be tested and the argument ```a``` is the array to be sorted."
   ]
  },
  {
   "cell_type": "code",
   "execution_count": 13,
   "metadata": {},
   "outputs": [],
   "source": [
    "def test_sorting_program_once(p, a):\n",
    "    b = sorted(a)\n",
    "    p(a)\n",
    "    if b != a: print('expected', b, 'but found', a)\n",
    "    return a == b"
   ]
  },
  {
   "cell_type": "code",
   "execution_count": 14,
   "metadata": {},
   "outputs": [
    {
     "data": {
      "text/plain": [
       "True"
      ]
     },
     "execution_count": 14,
     "metadata": {},
     "output_type": "execute_result"
    }
   ],
   "source": [
    "test_sorting_program_once(insertion_sort, [1,3,2])"
   ]
  },
  {
   "cell_type": "markdown",
   "metadata": {},
   "source": [
    "And now we want to  be able to do several random tests. We need to generate random lists.\n",
    "\n",
    "So, how do we generate random lists? \n",
    "\n",
    "If we focus on lists of numbers we can think of providing a lower and an upper bound for the numbers that can appear in the list and a lower and an upper bound for the lenght of the list.\n",
    "\n",
    "Here is a possibility:"
   ]
  },
  {
   "cell_type": "code",
   "execution_count": 15,
   "metadata": {},
   "outputs": [],
   "source": [
    "import random"
   ]
  },
  {
   "cell_type": "code",
   "execution_count": 16,
   "metadata": {},
   "outputs": [],
   "source": [
    "def random_number_list(lower,upper,short,long):\n",
    "    length = random.randrange(short,long)\n",
    "    return [random.randrange(lower,upper) for i in range(length)]"
   ]
  },
  {
   "cell_type": "code",
   "execution_count": 17,
   "metadata": {},
   "outputs": [
    {
     "data": {
      "text/plain": [
       "[[-9],\n",
       " [6],\n",
       " [4],\n",
       " [4, 1, 5, -10],\n",
       " [-10, -5],\n",
       " [-1, 2, 8],\n",
       " [4, -6, -7],\n",
       " [-10, -8],\n",
       " [],\n",
       " [8, -4]]"
      ]
     },
     "execution_count": 17,
     "metadata": {},
     "output_type": "execute_result"
    }
   ],
   "source": [
    "# 10 lists of numbers between -10 and 10 with lengths 0 to 4\n",
    "[\n",
    "    random_number_list(-10,10, 0, 5) \n",
    "    for i in range(10)\n",
    "]"
   ]
  },
  {
   "cell_type": "code",
   "execution_count": 18,
   "metadata": {},
   "outputs": [
    {
     "data": {
      "text/plain": [
       "[[3, -3, 1, 8, -1],\n",
       " [4, -7, 0, -2, 6],\n",
       " [-10, 7, 7, -9, -9],\n",
       " [9, 3, 2, 8, -3],\n",
       " [1, 6, -3, 8, 0],\n",
       " [4, -4, 1, 2, 0],\n",
       " [-5, -10, -3, -3, -9],\n",
       " [1, -5, 9, 5, 2],\n",
       " [3, -3, 7, 1, 5],\n",
       " [1, 7, -5, -4, 3]]"
      ]
     },
     "execution_count": 18,
     "metadata": {},
     "output_type": "execute_result"
    }
   ],
   "source": [
    "# 10 lists of numbers between -10 and 10 all of length 5\n",
    "[\n",
    "    random_number_list(-10,10, 5, 6) \n",
    "    for i in range(10)\n",
    "]"
   ]
  },
  {
   "cell_type": "markdown",
   "metadata": {},
   "source": [
    "So, now we can program a function to test our sorting programs:"
   ]
  },
  {
   "cell_type": "code",
   "execution_count": 19,
   "metadata": {},
   "outputs": [],
   "source": [
    "def test_sorting_program(p, times):\n",
    "    for i in range(times):\n",
    "        if not test_sorting_program_once(p, random_number_list(-10,10,0,1000)):\n",
    "            return False\n",
    "    return True\n",
    "        "
   ]
  },
  {
   "cell_type": "code",
   "execution_count": 20,
   "metadata": {},
   "outputs": [
    {
     "data": {
      "text/plain": [
       "True"
      ]
     },
     "execution_count": 20,
     "metadata": {},
     "output_type": "execute_result"
    }
   ],
   "source": [
    "test_sorting_program(insertion_sort, 100)"
   ]
  },
  {
   "cell_type": "code",
   "execution_count": 21,
   "metadata": {},
   "outputs": [
    {
     "data": {
      "text/plain": [
       "True"
      ]
     },
     "execution_count": 21,
     "metadata": {},
     "output_type": "execute_result"
    }
   ],
   "source": [
    "test_sorting_program(selection_sort, 100)"
   ]
  },
  {
   "cell_type": "markdown",
   "metadata": {},
   "source": [
    "### The execution time\n",
    "\n",
    "We are now more or less convinced that our programs solve the problem of sorting lists. \n",
    "\n",
    "Before moving on how to study running time behaviour of algorithms we use some experiments to expose you to how running time becomes *visible*.\n",
    "\n",
    "Try the following code with increasing values of ```size```. Try 1000, 2000, 4000, 8000, 16000. \n",
    "\n",
    "Try describing what you experience. \n",
    "\n",
    "It is this running time behaviour that makes these algorithms not usable in practice. "
   ]
  },
  {
   "cell_type": "code",
   "execution_count": 22,
   "metadata": {},
   "outputs": [
    {
     "name": "stdout",
     "output_type": "stream",
     "text": [
      "start\n",
      "sort done\n",
      "selection_sort done\n",
      "insertion_sort done\n"
     ]
    }
   ],
   "source": [
    "size = 100\n",
    "a = list(reversed(range(size)))\n",
    "b = list(reversed(range(size)))\n",
    "c = list(reversed(range(size)))\n",
    "\n",
    "print('start')\n",
    "a.sort()\n",
    "print('sort done')\n",
    "selection_sort(b)\n",
    "print('selection_sort done')\n",
    "insertion_sort(c)\n",
    "print('insertion_sort done')"
   ]
  },
  {
   "cell_type": "markdown",
   "metadata": {},
   "source": [
    "## An exercise\n",
    "\n",
    "Now you have seen how to write programs for two of the three algorithms described in the book that were discarded because ot their running time behaviour. The third one, known as bubble sort, is left as an exercise. Make sure you program it, you test it using ```test_sort_program``` and you experiment with its execution time by adding it to the list of sorting algorithms in the previous cell where you increment ```size```. "
   ]
  },
  {
   "cell_type": "code",
   "execution_count": 23,
   "metadata": {},
   "outputs": [],
   "source": [
    "def bubble_sort(a):\n",
    "    # your code here\n",
    "    pass # you can remove this line"
   ]
  }
 ],
 "metadata": {
  "kernelspec": {
   "display_name": "Python 3",
   "language": "python",
   "name": "python3"
  },
  "language_info": {
   "codemirror_mode": {
    "name": "ipython",
    "version": 3
   },
   "file_extension": ".py",
   "mimetype": "text/x-python",
   "name": "python",
   "nbconvert_exporter": "python",
   "pygments_lexer": "ipython3",
   "version": "3.7.6"
  }
 },
 "nbformat": 4,
 "nbformat_minor": 4
}
