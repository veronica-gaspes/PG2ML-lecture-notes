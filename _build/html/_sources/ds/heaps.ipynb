{
 "cells": [
  {
   "cell_type": "markdown",
   "id": "9e4470c9",
   "metadata": {},
   "source": [
    "# Heaps\n",
    "\n",
    "We continue with our main theme: we need to store and retrieve items of data as the program runs.\n",
    "\n",
    "But now, we would like to be able to retrieve always the least element among the items in the collection (the smallest element, the minimum). And we would like to be able to store and retrieve in *almost* constant time (because these operations will often be done as part of an iteration, we hope for iterations that are linear).\n",
    "\n",
    "We cannot think of using a list because, in order to retrieve the minimum element in constant time we would need to keep the list sorted. And to do so, we would need to insert the new element in its place in the order, and this takes linear time to do.\n",
    "\n",
    "This is the problem that heaps solve!\n",
    "\n",
    "A **heap**  provides the operations **insert** and **extract min**:\n",
    "\n",
    "- **insert** adds an element to an existing heap.\n",
    "\n",
    "- **extract min** removes and returns the item with the smallest *key* from an existing heap.\n",
    "\n",
    "In most applications of heaps, the items we insert and extract from a heap are so called *key-value pairs*. This is because we often use the *key* and not the values themselves to order the items. You can think of the *key* for example as a priority. The items could be anything, even things for which we do not want to define an order!\n",
    "\n",
    "Heaps provide these two operations in *almost constant* time. In fact, the time it takes to insert or extract the smallest element from a heap depends on how many elements there  are in the heap already. But both operations are $O($log$ \\,n)$ (where $n$ is the number of elements already in the heap).\n",
    "\n",
    "The implementation in Python provides also operations to make a heap from a list in linear time ($O(n)$) and to peek the smallest element in the list without retrieving it in constant time ($O(1)$).\n",
    "\n",
    "\n",
    "# Heaps in Python\n",
    "Python uses lists to implement heaps. In order to use a list as a heap you need to use operations in the module *heapq* (that you need to import). "
   ]
  },
  {
   "cell_type": "code",
   "execution_count": 10,
   "id": "404362a4",
   "metadata": {},
   "outputs": [],
   "source": [
    "import heapq"
   ]
  },
  {
   "cell_type": "markdown",
   "id": "e67cfd3d",
   "metadata": {},
   "source": [
    "## Creating a heap from elements in a list\n",
    "Sometimes you already know what elements (at least to start with) you want in your heap. In this case you need to transform your list in a heap. The function is \n",
    "```Python\n",
    "heapq.heapify(x)\n",
    "```\n",
    "> Transform list ```x``` into a heap, in-place, in linear time.\n",
    "\n",
    "Remember that operations that work on a collection and are linear are very good! \n",
    "\n",
    "We illustrate the use of ```heapify``` starting from a list with 1000 elements in random order.\n",
    "\n",
    "We print the first 20 elements of the elements in the list and then we print the first elements of the heap (that is a list but with the elements organised in a very special way) so that you can see that the list has been modified.\n",
    "\n"
   ]
  },
  {
   "cell_type": "code",
   "execution_count": 9,
   "id": "33b62136",
   "metadata": {},
   "outputs": [],
   "source": [
    "import random"
   ]
  },
  {
   "cell_type": "code",
   "execution_count": 38,
   "id": "8ea9bb56",
   "metadata": {},
   "outputs": [
    {
     "name": "stdout",
     "output_type": "stream",
     "text": [
      "[3845, 4066, 9392, 8068, 5410, 7767, 835, 726, 8671, 1768, 3762, 9817, 2705, 1263, 9343, 7934, 827, 7318, 9705, 5782]\n",
      "[0, 3, 1, 4, 9, 2, 12, 5, 6, 10, 39, 15, 19, 20, 14, 31, 7, 16, 8, 11]\n"
     ]
    }
   ],
   "source": [
    "elems = list(range(9999))\n",
    "random.shuffle(elems)\n",
    "print(elems[0:20])\n",
    "heapq.heapify(elems)\n",
    "print(elems[0:20])"
   ]
  },
  {
   "cell_type": "markdown",
   "id": "3d9d478b",
   "metadata": {},
   "source": [
    "You can run the code several times. You will observe that no matter the order of the shuffled list, the elements in the heapified list are somewhat ordered (the small elements are at the begining, though not completely ordered).  \n",
    "\n",
    "The heapified list keeps the values organised in such a way that the element in position ```k``` is smaller or equal than the elements in positions ```2*k+1``` and ```2*k+2```. \n",
    "\n",
    "Can you see this?\n",
    "\n",
    "What are the elements in positions 0, 1, 2? And in positions 1, 3, 4? and in positions 2, 5, 6? \n",
    "\n",
    "Instead of printing the first 20 values you can check whether the list os heap organized using the function:\n",
    "\n",
    "```Python\n",
    "def heap_organised(lst):\n",
    "    return all([lst[k] <= lst[2*k+1] \n",
    "                  and \n",
    "                lst[k] <= lst[2*k+2]\n",
    "                for k in range(len(elems)//2-2)\n",
    "               ]\n",
    "            )\n",
    "```\n",
    "\n",
    "Make sure you understand the code. If you don't: ask your teacher! \n",
    "\n",
    "Use it as follows:\n",
    "```Python\n",
    "elems = list(range(9999))\n",
    "random.shuffle(elems)\n",
    "heap_organised(elems)\n",
    "heapq.heapify(elems)\n",
    "heap_organised(elems)\n",
    "```\n",
    "\n",
    "\n",
    "\n",
    "\n",
    "## Adding elements to a heap\n",
    "\n",
    "Either if you start from the empty heap (actually the empty list ```[]```) or from a list that you heapified, it is always possible to insert more elements. This has to be done with the heap operation for inserting so that the heap organisation in the list is preserved. \n",
    "\n",
    "Here is an example starting from the empty list, and inserting elements in the reversed order. We print the list of elements inserted and the heap so that you see the consequences of using the heap insertion function: the elements are kept *heap organized*!"
   ]
  },
  {
   "cell_type": "code",
   "execution_count": 71,
   "id": "56530948",
   "metadata": {},
   "outputs": [
    {
     "name": "stdout",
     "output_type": "stream",
     "text": [
      "[19, 18, 17, 16, 15, 14, 13, 12, 11, 10, 9, 8, 7, 6, 5, 4, 3, 2, 1, 0]\n",
      "[19]\n",
      "[18, 19]\n",
      "[17, 19, 18]\n",
      "[16, 17, 18, 19]\n",
      "[15, 16, 18, 19, 17]\n",
      "[14, 16, 15, 19, 17, 18]\n",
      "[13, 16, 14, 19, 17, 18, 15]\n",
      "[12, 13, 14, 16, 17, 18, 15, 19]\n",
      "[11, 12, 14, 13, 17, 18, 15, 19, 16]\n",
      "[10, 11, 14, 13, 12, 18, 15, 19, 16, 17]\n",
      "[9, 10, 14, 13, 11, 18, 15, 19, 16, 17, 12]\n",
      "[8, 10, 9, 13, 11, 14, 15, 19, 16, 17, 12, 18]\n",
      "[7, 10, 8, 13, 11, 9, 15, 19, 16, 17, 12, 18, 14]\n",
      "[6, 10, 7, 13, 11, 9, 8, 19, 16, 17, 12, 18, 14, 15]\n",
      "[5, 10, 6, 13, 11, 9, 7, 19, 16, 17, 12, 18, 14, 15, 8]\n",
      "[4, 5, 6, 10, 11, 9, 7, 13, 16, 17, 12, 18, 14, 15, 8, 19]\n",
      "[3, 4, 6, 5, 11, 9, 7, 10, 16, 17, 12, 18, 14, 15, 8, 19, 13]\n",
      "[2, 3, 6, 4, 11, 9, 7, 10, 5, 17, 12, 18, 14, 15, 8, 19, 13, 16]\n",
      "[1, 2, 6, 3, 11, 9, 7, 10, 4, 17, 12, 18, 14, 15, 8, 19, 13, 16, 5]\n",
      "[0, 1, 6, 3, 2, 9, 7, 10, 4, 11, 12, 18, 14, 15, 8, 19, 13, 16, 5, 17]\n"
     ]
    }
   ],
   "source": [
    "# We use variable h for the heap.\n",
    "\n",
    "h = [] \n",
    "lst = list(reversed(range(20)))\n",
    "print(lst)\n",
    "for i in lst:\n",
    "    heapq.heappush(h,i)\n",
    "    print(h)\n"
   ]
  },
  {
   "cell_type": "markdown",
   "id": "20152c5e",
   "metadata": {},
   "source": [
    "### Quiz\n",
    "\n",
    "In a heap (in Python a list that is heap organised), what can you say about the element in position 0 of the list?"
   ]
  },
  {
   "cell_type": "markdown",
   "id": "15fdfcdf",
   "metadata": {},
   "source": [
    "If you have a heap (in Python this means a list that is heap organised), then using the function \n",
    "\n",
    "```heappush(heap, item)``` \n",
    "\n",
    "to add an item to the heap results in a list that includes the new item and is heap organised. \n",
    "\n",
    "If you tried to keep the list sorted it would take linear time $O(n)$. Keeping the list heap organised takes only $O($log$ \\,n)$\n",
    "\n",
    "## Retrieving the minimum element from the heap\n",
    "In order to retrieve the least element in the heap you need to use the operation \n",
    "\n",
    "```Python\n",
    "heapq.heappop(heap)\n",
    "```\n",
    "> Pop and return the smallest item from the heap, maintaining the heap invariant. If the heap is empty, IndexError is raised. **To access the smallest item without popping it, use heap[0]**.\n",
    "\n",
    "In the quote *maintaining the heap invariant* means keeping the list heap organised. Here is an example."
   ]
  },
  {
   "cell_type": "code",
   "execution_count": 63,
   "id": "8cf41e37",
   "metadata": {},
   "outputs": [
    {
     "name": "stdout",
     "output_type": "stream",
     "text": [
      "lst : [19, 18, 17, 16, 15, 14, 13, 12, 11, 10, 9, 8, 7, 6, 5, 4, 3, 2, 1, 0]\n",
      "\n",
      "heapified lst:  [0, 1, 5, 2, 9, 7, 6, 3, 11, 10, 18, 8, 14, 17, 13, 4, 12, 16, 19, 15]\n",
      "\n",
      "min:  0\n",
      "lst:  [1, 2, 5, 3, 9, 7, 6, 4, 11, 10, 18, 8, 14, 17, 13, 15, 12, 16, 19]\n",
      "\n",
      "min:  1\n",
      "lst:  [2, 3, 5, 4, 9, 7, 6, 12, 11, 10, 18, 8, 14, 17, 13, 15, 19, 16]\n",
      "\n",
      "min:  2\n",
      "lst:  [3, 4, 5, 11, 9, 7, 6, 12, 16, 10, 18, 8, 14, 17, 13, 15, 19]\n",
      "\n",
      "min:  3\n",
      "lst:  [4, 9, 5, 11, 10, 7, 6, 12, 16, 19, 18, 8, 14, 17, 13, 15]\n",
      "\n",
      "min:  4\n",
      "lst:  [5, 9, 6, 11, 10, 7, 13, 12, 16, 19, 18, 8, 14, 17, 15]\n",
      "\n",
      "min:  5\n",
      "lst:  [6, 9, 7, 11, 10, 8, 13, 12, 16, 19, 18, 15, 14, 17]\n",
      "\n",
      "min:  6\n",
      "lst:  [7, 9, 8, 11, 10, 14, 13, 12, 16, 19, 18, 15, 17]\n",
      "\n",
      "min:  7\n",
      "lst:  [8, 9, 13, 11, 10, 14, 17, 12, 16, 19, 18, 15]\n",
      "\n",
      "min:  8\n",
      "lst:  [9, 10, 13, 11, 15, 14, 17, 12, 16, 19, 18]\n",
      "\n",
      "min:  9\n",
      "lst:  [10, 11, 13, 12, 15, 14, 17, 18, 16, 19]\n",
      "\n",
      "min:  10\n",
      "lst:  [11, 12, 13, 16, 15, 14, 17, 18, 19]\n",
      "\n",
      "min:  11\n",
      "lst:  [12, 15, 13, 16, 19, 14, 17, 18]\n",
      "\n",
      "min:  12\n",
      "lst:  [13, 15, 14, 16, 19, 18, 17]\n",
      "\n",
      "min:  13\n",
      "lst:  [14, 15, 17, 16, 19, 18]\n",
      "\n",
      "min:  14\n",
      "lst:  [15, 16, 17, 18, 19]\n",
      "\n",
      "min:  15\n",
      "lst:  [16, 18, 17, 19]\n",
      "\n",
      "min:  16\n",
      "lst:  [17, 18, 19]\n",
      "\n",
      "min:  17\n",
      "lst:  [18, 19]\n",
      "\n",
      "min:  18\n",
      "lst:  [19]\n",
      "\n",
      "min:  19\n",
      "lst:  []\n",
      "\n"
     ]
    }
   ],
   "source": [
    "size = 20\n",
    "lst = list(reversed(range(size)))\n",
    "print('lst :', lst)\n",
    "print()\n",
    "heapq.heapify(lst)\n",
    "print('heapified lst: ', lst)\n",
    "print()\n",
    "for i in range(size):\n",
    "    print('min: ', heapq.heappop(lst))\n",
    "    print('lst: ', lst)\n",
    "    print()\n",
    "\n"
   ]
  },
  {
   "cell_type": "markdown",
   "id": "8e491a3a",
   "metadata": {},
   "source": [
    "## Some applications of heaps\n",
    "\n",
    "One very immediate application of heaps is to sort a list (or an array) in $O(n $log$ \\, n)$. The algorithm is called *heap sort*. "
   ]
  },
  {
   "cell_type": "code",
   "execution_count": 69,
   "id": "001c6c75",
   "metadata": {},
   "outputs": [],
   "source": [
    "def heapsort(a):\n",
    "    h = []\n",
    "    for x in a:\n",
    "        heapq.heappush(h,x)\n",
    "    # at this point:\n",
    "        # a is intact \n",
    "        # and all the elements are heap organised in h\n",
    "        \n",
    "    # we now overwrite a with the elements in order!    \n",
    "    for i in range(len(a)):\n",
    "        a[i] = heapq.heappop(h)\n",
    "        "
   ]
  },
  {
   "cell_type": "markdown",
   "id": "181f819a",
   "metadata": {},
   "source": [
    "### Theory exercise\n",
    "Explain why the running time is $O(n $log$ \\, n)$.\n",
    "\n",
    "### Comment:\n",
    "Heap sort uses the same idea as *selection sort*: find the smallest elememnt and put it in the first position, then find the next smallest element and put it in the second position, and so on. However, selection sort is $O(n^2)$ and thus infeasible!\n",
    "\n",
    "> Choosing a suitable data structure can turn an algorithm from infeasible to feasible!\n",
    "\n",
    "### Programming exercise\n",
    "Write a function ```heapsorted``` that instead of modifying the input array returns a sorted version of the array, keeping the input array as it was. \n",
    "\n",
    "Yet another application of heaps is to calculate order statistics: pick the $k$-th smallest element in an array. \n",
    "\n",
    "### Programming exercise \n",
    "(from [Algorithms, 4th Edition](https://algs4.cs.princeton.edu/) by R. Sedgewick and K. Wayne)\n",
    "\n",
    "\n",
    "Design a $k $log$ \\,k$ algorithm to find the $k$-th smallest item in a min-oriented binary heap $H$ containing $n$ items.\n",
    "\n",
    "*Solution*. Build a new min-oriented heap $H'$. Do not modify $H$. Insert the root of $H$ into $H'$ along with its heap index 0. Now, repeatedly delete the minimum item $x$ in $H'$ and insert into $H'$ the two children of $x$ from $H$. The $k$-th item deleted from $H'$ is the $k$-th smallest item in $H$.\n",
    "\n",
    "Note: you need to insert pairs to the heap $H'$: the first component of a pair is the element in the heap $H$ and the second component is the index in the organised list!\n",
    "\n",
    "Write a program that uses this method to find the $k$-th smallest element in an array.\n",
    "\n",
    "### Theory exercise\n",
    "What is the Big-$O$ execution time of the algorithm? And of the program (or the algorithm, but starting from the array).\n",
    "\n"
   ]
  },
  {
   "cell_type": "code",
   "execution_count": 20,
   "id": "8273a05a",
   "metadata": {},
   "outputs": [],
   "source": [
    "# Solution to programming exercise\n",
    "import heapq\n",
    "def k_smallest(a, k):\n",
    "    \n",
    "    # h is a heapified!\n",
    "    heapq.heapify(a)\n",
    "    \n",
    "    h_prime = [(a[0],0)]\n",
    "    \n",
    "    for i in range(1, k):\n",
    "        (v, ix) = heapq.heappop(h_prime)\n",
    "        if 2*ix + 1 < len(a): heapq.heappush(h_prime, (a[2*ix+1], 2*ix+1))\n",
    "        if 2*ix + 2 < len(a): heapq.heappush(h_prime, (a[2*ix+2], 2*ix+2))\n",
    "    (v, _) = heapq.heappop(h_prime)\n",
    "    return v\n",
    "        "
   ]
  },
  {
   "cell_type": "code",
   "execution_count": 23,
   "id": "4e9fb15a",
   "metadata": {},
   "outputs": [
    {
     "data": {
      "text/plain": [
       "1"
      ]
     },
     "execution_count": 23,
     "metadata": {},
     "output_type": "execute_result"
    }
   ],
   "source": [
    "import random\n",
    "lst = list(range(100000))\n",
    "random.shuffle(lst)\n",
    "k_smallest(lst,2)"
   ]
  },
  {
   "cell_type": "code",
   "execution_count": null,
   "id": "96a4f822",
   "metadata": {},
   "outputs": [],
   "source": []
  }
 ],
 "metadata": {
  "kernelspec": {
   "display_name": "Python 3 (ipykernel)",
   "language": "python",
   "name": "python3"
  },
  "language_info": {
   "codemirror_mode": {
    "name": "ipython",
    "version": 3
   },
   "file_extension": ".py",
   "mimetype": "text/x-python",
   "name": "python",
   "nbconvert_exporter": "python",
   "pygments_lexer": "ipython3",
   "version": "3.10.0"
  }
 },
 "nbformat": 4,
 "nbformat_minor": 5
}
