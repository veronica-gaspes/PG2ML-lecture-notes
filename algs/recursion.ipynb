{
 "cells": [
  {
   "cell_type": "markdown",
   "metadata": {},
   "source": [
    "# Understanding recursion\n",
    "\n",
    "Recursion is about using what you are defining in the definition! You have to be careful so that using the defintion does not get the program in an infinite computation (but this is not unique for recursion, also loops can engage in an infinite computation if you are not careful).\n",
    "\n",
    "We start with an example. \n",
    "\n",
    "You already know that the last digit of a number is the remainder of integer division with 10.\n",
    "\n",
    "You also know that you can remove the last digit by taking the quotient of integer division with 10."
   ]
  },
  {
   "cell_type": "code",
   "execution_count": 1,
   "metadata": {},
   "outputs": [
    {
     "name": "stdout",
     "output_type": "stream",
     "text": [
      "9\n",
      "12345678\n"
     ]
    }
   ],
   "source": [
    "print(123456789 % 10)\n",
    "print(123456789 // 10)"
   ]
  },
  {
   "cell_type": "markdown",
   "metadata": {},
   "source": [
    "How does this look for numbers with only one digit?"
   ]
  },
  {
   "cell_type": "code",
   "execution_count": 2,
   "metadata": {},
   "outputs": [
    {
     "name": "stdout",
     "output_type": "stream",
     "text": [
      "9\n",
      "0\n"
     ]
    }
   ],
   "source": [
    "print(9 % 10)\n",
    "print(9 // 10)"
   ]
  },
  {
   "cell_type": "markdown",
   "metadata": {},
   "source": [
    "So, how can we calculate the list of digits? \n",
    "\n",
    "Well, we can use the remainder trick on each of the numbers we obtain using the quotient and put these in a list.\n",
    "\n",
    "Something like \n",
    "\n",
    "*the list of digits for 123456789* is *the list of digits for 12345678* with one more element: *9*!\n",
    "\n",
    "If we define a function ```digits(n)``` to return the list we would like \n",
    "\n",
    "```\n",
    "digits(123456789) == [1,2,3,4,5,6,7,8,9] \n",
    "                  == [1,2,3,4,5,6,7,8] + [9] \n",
    "                  == digits(123456789 // 10) + [123456789 % 10]\n",
    "```\n",
    "\n",
    "We would then want the definition to be\n",
    "```Python\n",
    "\n",
    "def digits(n):\n",
    "    return digits(n // 10) + [n % 10]\n",
    "     \n",
    "```\n",
    "\n",
    "The problem is that we then get \n",
    "\n",
    "```Python\n",
    "digits(123) \n",
    "==\n",
    "digits(12) + [3]\n",
    "==\n",
    "(digits(1) + [2]) + [3]\n",
    "==\n",
    "((digits(0) + [1]) + [2]) + [3]\n",
    "==\n",
    "digits(0) + 0 + [1] + [2] + [3]\n",
    "==\n",
    "digits(0) + 0 + 0 + [1] + [2] + [3]\n",
    "...\n",
    "\n",
    "```\n",
    "An infinite computation!\n",
    "\n",
    "This can be avoided using return to stop computation as soon as the argument needs not be divided any more: the number is a digit (easy to detect: smaller than 10!)."
   ]
  },
  {
   "cell_type": "code",
   "execution_count": 3,
   "metadata": {},
   "outputs": [],
   "source": [
    "def digits(n):\n",
    "    if n < 10: return [n]\n",
    "    return digits(n // 10) + [n % 10]\n",
    "     "
   ]
  },
  {
   "cell_type": "code",
   "execution_count": 4,
   "metadata": {},
   "outputs": [
    {
     "data": {
      "text/plain": [
       "[1, 2, 3, 4, 5, 6, 7, 8, 9]"
      ]
     },
     "execution_count": 4,
     "metadata": {},
     "output_type": "execute_result"
    }
   ],
   "source": [
    "digits(123456789)"
   ]
  },
  {
   "cell_type": "markdown",
   "metadata": {},
   "source": [
    "Of course there are other ways of solving the same problem. Here are some."
   ]
  },
  {
   "cell_type": "code",
   "execution_count": 5,
   "metadata": {},
   "outputs": [
    {
     "data": {
      "text/plain": [
       "[1, 2, 3, 4, 5, 6, 7, 8, 9]"
      ]
     },
     "execution_count": 5,
     "metadata": {},
     "output_type": "execute_result"
    }
   ],
   "source": [
    "def digits1(n):\n",
    "    return [int(d) for d in str(n)]\n",
    "\n",
    "\n",
    "digits1(123456789)"
   ]
  },
  {
   "cell_type": "code",
   "execution_count": 6,
   "metadata": {},
   "outputs": [
    {
     "data": {
      "text/plain": [
       "[1, 2, 3, 4, 5, 6, 7, 8, 9]"
      ]
     },
     "execution_count": 6,
     "metadata": {},
     "output_type": "execute_result"
    }
   ],
   "source": [
    "def digits2(n):\n",
    "    d = n % 10\n",
    "    n = n // 10\n",
    "    res = [d]\n",
    "    while n > 0:\n",
    "        d = n % 10 \n",
    "        n = n // 10\n",
    "        res = [d] + res \n",
    "    return res\n",
    "\n",
    "\n",
    "digits2(123456789)"
   ]
  },
  {
   "cell_type": "markdown",
   "metadata": {},
   "source": [
    "Recursion is very useful, and in many cases recursive solutions are the most efficient ones. We will see examples of this when we discuss a technique for comming up with algorithms called Divide & Conquer.\n",
    "\n",
    "Now we present some more examples so that you get used to read programs that use recursion.\n",
    "\n",
    "Three ideas are important:\n",
    "\n",
    "* You need one or more *base cases* (return the result without calling the function you are defining).\n",
    "\n",
    "* The *recursive calls* have to be made with arguments that get you closer to one of the base cases.\n",
    "\n",
    "* You have to trust the recursive call!\n",
    "\n",
    "We explore these in the following examples.\n",
    "\n",
    "## Example 1: Converting a number to another base\n",
    "Literals for integer numbers in Python are digits (0 to 9, decimal system, base 10). In math we can use literals in other bases. In a programming language we can at least build strings if we want to see how the literal for a given number would be in another base. \n",
    "\n",
    "We start with base 2, using 0 and 1 only and powers of 2 (instead of 10) for the positional system. Here is a function to produce a string with 0s and 1s in the right positions to represent a binary literal. Observe that the argument is an integer number but the result is a string.\n",
    "\n",
    "* The base case is for when we can outright calculate the binary representation of a number: when it is either 0 or 1!\n",
    "\n",
    "* There is only one recursive call, with ```n // 2```. This number is smaller than ```n``` for ```n > 0```.\n",
    "\n",
    "* If we trust that ```binary``` works, then ```binary(n // 2)``` is a list with 0s and 1s for the binary representation of ```n // 2```. In order to get the representation for ```n```we have to add a 0 or a 1 depending on whether n is even or odd: we add ```n % 2```."
   ]
  },
  {
   "cell_type": "code",
   "execution_count": 7,
   "metadata": {},
   "outputs": [],
   "source": [
    "def binary(n): \n",
    "    if n < 2: return str(n)\n",
    "    return binary(n // 2) + str(n % 2)"
   ]
  },
  {
   "cell_type": "code",
   "execution_count": 8,
   "metadata": {},
   "outputs": [
    {
     "data": {
      "text/plain": [
       "['0', '1', '10', '11', '100', '101', '110', '111', '1000', '1001']"
      ]
     },
     "execution_count": 8,
     "metadata": {},
     "output_type": "execute_result"
    }
   ],
   "source": [
    "[binary(k) for k in range(10)]"
   ]
  },
  {
   "cell_type": "markdown",
   "metadata": {},
   "source": [
    "## Quiz\n",
    "\n",
    "Why did we not use ```else``` before the recursive call?\n",
    "\n",
    "## Quiz\n",
    "\n",
    "Can you extend the definition so that it works for negative numbers?\n",
    "\n",
    "## Quiz\n",
    "\n",
    "How would you define the conversion to base 16 (hexadecimal)? For one thing, you need to use more *digits* in your strings: 0, 1, 2, 3, 4, 5, 6, 7, 8, 9, A, B, C, D, E, F. What are the base cases? Try a Python definition!\n",
    "\n",
    "## Example 2: Towers of Hanoi\n",
    "\n",
    "The following example uses recursion to solve the [Towers of Hanoi](https://en.wikipedia.org/wiki/Tower_of_Hanoi) puzzle. \n",
    "\n",
    "The puzzle has three pegs or rods and some disks of different diameters. To begin with the disks are all in one peg, ordered from largest diameter (at the bottom) to smallest diameter (at the top). In the puzzle you are asked to move all disks to another peg, one by one, never placing a larger disk on top of a smaller disk. \n",
    "\n",
    "The following link is an animation that illustrates how it works for 6 disks: \n",
    "https://en.wikipedia.org/wiki/Tower_of_Hanoi#/media/File:Iterative_algorithm_solving_a_6_disks_Tower_of_Hanoi.gif \n",
    "\n",
    "We want a program that tells us how to move the disks at each step. \n",
    "\n",
    "The program takes a number (how many disks to use) and names the pegs using numbers or letters. The result is an instruction of how to proceed: take the top disk from a peg and put on another peg!\n",
    "\n",
    "Say that the pegs are named A, B and C. Say that there are n disks placed on A that we want to move to B using C to help.\n",
    "\n",
    "If we could solve the problem moving n-1 disks from A to C using B to help, then we could move the largest disk to B without breaking any rule! Finally we could move the n-1 disks from C to B using A to help!\n",
    "\n"
   ]
  },
  {
   "cell_type": "code",
   "execution_count": 9,
   "metadata": {},
   "outputs": [],
   "source": [
    "def hanoi(n, a, b, c):\n",
    "    if n == 0: return\n",
    "    if n == 1: \n",
    "        print(a, '->', b)\n",
    "        return\n",
    "    if n > 1:\n",
    "        hanoi(n-1, a, c, b)\n",
    "        print(a, '->', b)\n",
    "        hanoi(n-1, c, b, a)"
   ]
  },
  {
   "cell_type": "code",
   "execution_count": 10,
   "metadata": {},
   "outputs": [
    {
     "name": "stdout",
     "output_type": "stream",
     "text": [
      "A -> C\n",
      "A -> B\n",
      "C -> B\n",
      "A -> C\n",
      "B -> A\n",
      "B -> C\n",
      "A -> C\n",
      "A -> B\n",
      "C -> B\n",
      "C -> A\n",
      "B -> A\n",
      "C -> B\n",
      "A -> C\n",
      "A -> B\n",
      "C -> B\n"
     ]
    }
   ],
   "source": [
    "hanoi(4, 'A','B','C')"
   ]
  },
  {
   "cell_type": "markdown",
   "metadata": {},
   "source": [
    "## Quiz\n",
    "\n",
    "Can you modify the program to count how many moves you need?\n",
    "\n",
    "### Answer:"
   ]
  },
  {
   "cell_type": "code",
   "execution_count": 11,
   "metadata": {},
   "outputs": [],
   "source": [
    "def hanoi_count(n):\n",
    "    if n == 0: return 0\n",
    "    if n == 1: return 1\n",
    "    if n > 1:\n",
    "        c1 = hanoi_count(n-1)\n",
    "        c2 = hanoi_count(n-1)\n",
    "        return c1 + 1 + c2 # all the moves for n-1, plus 1 move, plus all the moves for n-1"
   ]
  },
  {
   "cell_type": "code",
   "execution_count": 12,
   "metadata": {},
   "outputs": [
    {
     "data": {
      "text/plain": [
       "1023"
      ]
     },
     "execution_count": 12,
     "metadata": {},
     "output_type": "execute_result"
    }
   ],
   "source": [
    "hanoi_count(10)"
   ]
  },
  {
   "cell_type": "markdown",
   "metadata": {},
   "source": [
    "Now try to use it! You can see that it takes a lot of moves! For 10 disks we need 1023 moves! If you try to calculate the number of moves for 30 disks you might have to wait a lot! Imagine also doing the moves!\n",
    "\n",
    "We cannot remove the recursive calls from ```hanoi``` but we can do with only one recursive call for counting! And then we can calculate the number of moves for larger values of n (try 100)."
   ]
  },
  {
   "cell_type": "code",
   "execution_count": 13,
   "metadata": {},
   "outputs": [],
   "source": [
    "def hanoi_count_better(n):\n",
    "    if n == 0: return 0\n",
    "    if n == 1: return 1\n",
    "    if n > 1:\n",
    "        return 2 * hanoi_count_better(n-1) + 1"
   ]
  },
  {
   "cell_type": "code",
   "execution_count": 14,
   "metadata": {},
   "outputs": [
    {
     "data": {
      "text/plain": [
       "1267650600228229401496703205375"
      ]
     },
     "execution_count": 14,
     "metadata": {},
     "output_type": "execute_result"
    }
   ],
   "source": [
    "hanoi_count_better(100)"
   ]
  }
 ],
 "metadata": {
  "kernelspec": {
   "display_name": "Python 3 (ipykernel)",
   "language": "python",
   "name": "python3"
  },
  "language_info": {
   "codemirror_mode": {
    "name": "ipython",
    "version": 3
   },
   "file_extension": ".py",
   "mimetype": "text/x-python",
   "name": "python",
   "nbconvert_exporter": "python",
   "pygments_lexer": "ipython3",
   "version": "3.10.0"
  }
 },
 "nbformat": 4,
 "nbformat_minor": 4
}
