{
 "cells": [
  {
   "cell_type": "markdown",
   "id": "f8143356",
   "metadata": {},
   "source": [
    "# Fibonacci numbers\n",
    "We look at this example first because it helps illustrate a problem that might arise in recursive programs: that the recursive calls are overlapping and require re-calculations that make the program infeasible. This has not been the case in the examples we have seen of recursive programs arising from Divide & Conquer.\n",
    "\n",
    "Dynamic programming is a way of dealing with programs that appear to use solutions to overlapping subproblems. \n",
    "\n",
    "The series of Fibonacci numbers is \n",
    "```Python\n",
    "1 1 2 3 5 8 13 21 34 55 ...\n",
    "```\n",
    "You obtain the next term by adding the two previous terms. The numbers in the series grow very fast. The series is intriguing, there are many relations between the numbers in the series and between the series  and natural phenomena. Check the Wikipedia entry [Fibonacci number](https://en.wikipedia.org/wiki/Fibonacci_number)\n",
    "\n",
    "Here is a program that helps you calculate the n-th term of the series where we assume the *index* starts from 0:"
   ]
  },
  {
   "cell_type": "code",
   "execution_count": 1,
   "id": "34f1c75c",
   "metadata": {},
   "outputs": [],
   "source": [
    "def fib(n):\n",
    "    if n < 2: return 1\n",
    "    return fib(n-1) + fib(n-2)"
   ]
  },
  {
   "cell_type": "code",
   "execution_count": 2,
   "id": "16ce7f92",
   "metadata": {},
   "outputs": [
    {
     "data": {
      "text/plain": [
       "[1, 1, 2, 3, 5, 8, 13, 21, 34, 55]"
      ]
     },
     "execution_count": 2,
     "metadata": {},
     "output_type": "execute_result"
    }
   ],
   "source": [
    "[fib(i) for i in range(10)]"
   ]
  },
  {
   "cell_type": "markdown",
   "id": "3c0919bf",
   "metadata": {},
   "source": [
    "Of course we want to use our program to calculate numbers higher up in the sequence. For example, what is the 100-th Fibonacci number? \n",
    "\n",
    "Don't even try it! In my system it is already difficult to get an answer for ```fib(40)```!"
   ]
  },
  {
   "cell_type": "code",
   "execution_count": 3,
   "id": "266b45c4",
   "metadata": {},
   "outputs": [
    {
     "data": {
      "text/plain": [
       "10946"
      ]
     },
     "execution_count": 3,
     "metadata": {},
     "output_type": "execute_result"
    }
   ],
   "source": [
    "fib(20)"
   ]
  },
  {
   "cell_type": "markdown",
   "id": "70f39b08",
   "metadata": {},
   "source": [
    "In order to see what the issue is, here is a version of the same function that prints the argument with which it is called:"
   ]
  },
  {
   "cell_type": "code",
   "execution_count": 4,
   "id": "0ada981f",
   "metadata": {},
   "outputs": [],
   "source": [
    "def fib_print_argument(n, level):\n",
    "    indent = '-' * level\n",
    "    print(indent, n)\n",
    "    if n < 2: \n",
    "        return 1\n",
    "    return fib_print_argument(n-1, level + 1) + fib_print_argument(n-2,level + 1)"
   ]
  },
  {
   "cell_type": "code",
   "execution_count": 5,
   "id": "d25cf310",
   "metadata": {},
   "outputs": [
    {
     "name": "stdout",
     "output_type": "stream",
     "text": [
      " 5\n",
      "- 4\n",
      "-- 3\n",
      "--- 2\n",
      "---- 1\n",
      "---- 0\n",
      "--- 1\n",
      "-- 2\n",
      "--- 1\n",
      "--- 0\n",
      "- 3\n",
      "-- 2\n",
      "--- 1\n",
      "--- 0\n",
      "-- 1\n"
     ]
    },
    {
     "data": {
      "text/plain": [
       "8"
      ]
     },
     "execution_count": 5,
     "metadata": {},
     "output_type": "execute_result"
    }
   ],
   "source": [
    "fib_print_argument(5, 0)"
   ]
  },
  {
   "cell_type": "markdown",
   "id": "7cc0b542",
   "metadata": {},
   "source": [
    "You can see that the computation ```fib(3)``` is done twice. \n",
    "\n",
    "Now check "
   ]
  },
  {
   "cell_type": "code",
   "execution_count": 6,
   "id": "86cd40b2",
   "metadata": {},
   "outputs": [
    {
     "name": "stdout",
     "output_type": "stream",
     "text": [
      " 6\n",
      "- 5\n",
      "-- 4\n",
      "--- 3\n",
      "---- 2\n",
      "----- 1\n",
      "----- 0\n",
      "---- 1\n",
      "--- 2\n",
      "---- 1\n",
      "---- 0\n",
      "-- 3\n",
      "--- 2\n",
      "---- 1\n",
      "---- 0\n",
      "--- 1\n",
      "- 4\n",
      "-- 3\n",
      "--- 2\n",
      "---- 1\n",
      "---- 0\n",
      "--- 1\n",
      "-- 2\n",
      "--- 1\n",
      "--- 0\n"
     ]
    },
    {
     "data": {
      "text/plain": [
       "13"
      ]
     },
     "execution_count": 6,
     "metadata": {},
     "output_type": "execute_result"
    }
   ],
   "source": [
    "fib_print_argument(6,0)"
   ]
  },
  {
   "cell_type": "markdown",
   "id": "84462a83",
   "metadata": {},
   "source": [
    "The whole computation for ```fib(4)``` is done twice. And we see that the computation of ```fib(3)``` is repeated in its entirety 3 times! \n",
    "\n",
    "Finally, check ```fib(10)``` and try to relate it to ```fib(5)```:"
   ]
  },
  {
   "cell_type": "code",
   "execution_count": 7,
   "id": "6f7a47c3",
   "metadata": {},
   "outputs": [
    {
     "name": "stdout",
     "output_type": "stream",
     "text": [
      " 10\n",
      "- 9\n",
      "-- 8\n",
      "--- 7\n",
      "---- 6\n",
      "----- 5\n",
      "------ 4\n",
      "------- 3\n",
      "-------- 2\n",
      "--------- 1\n",
      "--------- 0\n",
      "-------- 1\n",
      "------- 2\n",
      "-------- 1\n",
      "-------- 0\n",
      "------ 3\n",
      "------- 2\n",
      "-------- 1\n",
      "-------- 0\n",
      "------- 1\n",
      "----- 4\n",
      "------ 3\n",
      "------- 2\n",
      "-------- 1\n",
      "-------- 0\n",
      "------- 1\n",
      "------ 2\n",
      "------- 1\n",
      "------- 0\n",
      "---- 5\n",
      "----- 4\n",
      "------ 3\n",
      "------- 2\n",
      "-------- 1\n",
      "-------- 0\n",
      "------- 1\n",
      "------ 2\n",
      "------- 1\n",
      "------- 0\n",
      "----- 3\n",
      "------ 2\n",
      "------- 1\n",
      "------- 0\n",
      "------ 1\n",
      "--- 6\n",
      "---- 5\n",
      "----- 4\n",
      "------ 3\n",
      "------- 2\n",
      "-------- 1\n",
      "-------- 0\n",
      "------- 1\n",
      "------ 2\n",
      "------- 1\n",
      "------- 0\n",
      "----- 3\n",
      "------ 2\n",
      "------- 1\n",
      "------- 0\n",
      "------ 1\n",
      "---- 4\n",
      "----- 3\n",
      "------ 2\n",
      "------- 1\n",
      "------- 0\n",
      "------ 1\n",
      "----- 2\n",
      "------ 1\n",
      "------ 0\n",
      "-- 7\n",
      "--- 6\n",
      "---- 5\n",
      "----- 4\n",
      "------ 3\n",
      "------- 2\n",
      "-------- 1\n",
      "-------- 0\n",
      "------- 1\n",
      "------ 2\n",
      "------- 1\n",
      "------- 0\n",
      "----- 3\n",
      "------ 2\n",
      "------- 1\n",
      "------- 0\n",
      "------ 1\n",
      "---- 4\n",
      "----- 3\n",
      "------ 2\n",
      "------- 1\n",
      "------- 0\n",
      "------ 1\n",
      "----- 2\n",
      "------ 1\n",
      "------ 0\n",
      "--- 5\n",
      "---- 4\n",
      "----- 3\n",
      "------ 2\n",
      "------- 1\n",
      "------- 0\n",
      "------ 1\n",
      "----- 2\n",
      "------ 1\n",
      "------ 0\n",
      "---- 3\n",
      "----- 2\n",
      "------ 1\n",
      "------ 0\n",
      "----- 1\n",
      "- 8\n",
      "-- 7\n",
      "--- 6\n",
      "---- 5\n",
      "----- 4\n",
      "------ 3\n",
      "------- 2\n",
      "-------- 1\n",
      "-------- 0\n",
      "------- 1\n",
      "------ 2\n",
      "------- 1\n",
      "------- 0\n",
      "----- 3\n",
      "------ 2\n",
      "------- 1\n",
      "------- 0\n",
      "------ 1\n",
      "---- 4\n",
      "----- 3\n",
      "------ 2\n",
      "------- 1\n",
      "------- 0\n",
      "------ 1\n",
      "----- 2\n",
      "------ 1\n",
      "------ 0\n",
      "--- 5\n",
      "---- 4\n",
      "----- 3\n",
      "------ 2\n",
      "------- 1\n",
      "------- 0\n",
      "------ 1\n",
      "----- 2\n",
      "------ 1\n",
      "------ 0\n",
      "---- 3\n",
      "----- 2\n",
      "------ 1\n",
      "------ 0\n",
      "----- 1\n",
      "-- 6\n",
      "--- 5\n",
      "---- 4\n",
      "----- 3\n",
      "------ 2\n",
      "------- 1\n",
      "------- 0\n",
      "------ 1\n",
      "----- 2\n",
      "------ 1\n",
      "------ 0\n",
      "---- 3\n",
      "----- 2\n",
      "------ 1\n",
      "------ 0\n",
      "----- 1\n",
      "--- 4\n",
      "---- 3\n",
      "----- 2\n",
      "------ 1\n",
      "------ 0\n",
      "----- 1\n",
      "---- 2\n",
      "----- 1\n",
      "----- 0\n"
     ]
    },
    {
     "data": {
      "text/plain": [
       "89"
      ]
     },
     "execution_count": 7,
     "metadata": {},
     "output_type": "execute_result"
    }
   ],
   "source": [
    "fib_print_argument(10,0)"
   ]
  },
  {
   "cell_type": "markdown",
   "id": "b8ef627e",
   "metadata": {},
   "source": [
    "The issue is that computations are done over and over again. The *subproblems*  are overlapping: ```fib(n-2)``` is part of the computation of ```fib(n-1)```, but we ask for it to be done again to solve ```fib(n)```.\n",
    "\n",
    "Lets now look at the three components of Dynamic programming and see how we can use them in this case:\n",
    "\n",
    "\n",
    " 1) Identify a relatively small number of subproblems.\n",
    " \n",
    " 2) Show how to quickly and correctly solve *larger* problems given solutions to *smaller* problems.\n",
    "  \n",
    " 3) Show how to quickly and correctly infer the final solution from the solutions to all the subproblems. \n",
    " \n",
    "The algorithm you obtain is to systematically solve all the subproblems one by one, working from smallest to largest and extract the final solution from the solutions to the subproblems. \n",
    "    \n",
    "\n",
    "For step 1) given that we want to compute Fibonacci number $n$ we choose *two* smaller problems $n-1$ and $n-2$\n",
    "\n",
    "For step 2) given solutions to smaller problems $n-1$ and $n-2$ we just need to add them to form a solution to the larger problem $n$.\n",
    "\n",
    "For step 3) given solutions to *all smaller problems* (all sizes $0$ upto $n$), just pick the last one!\n",
    "\n",
    "The algorithm is then to start with the first two small problems for $0$ and $1$ and then calculate for $2$, then for $3$ and so on until we get to calculate for $n$. We can do this using an array:"
   ]
  },
  {
   "cell_type": "code",
   "execution_count": 8,
   "id": "8ac61c8a",
   "metadata": {},
   "outputs": [],
   "source": [
    "def dp_fib(n):\n",
    "    if n < 2: return 1\n",
    "    \n",
    "    all_smaller = [0] * (n + 1)\n",
    "    all_smaller[0] = 1\n",
    "    all_smaller[1] = 1\n",
    "    for i in range(2, n + 1):\n",
    "        all_smaller[i] = all_smaller[i-1] + all_smaller[i-2]\n",
    "    return all_smaller[-1]\n",
    "    \n",
    "    "
   ]
  },
  {
   "cell_type": "code",
   "execution_count": 9,
   "id": "c4da9396",
   "metadata": {},
   "outputs": [
    {
     "data": {
      "text/plain": [
       "[1, 1, 2, 3, 5, 8, 13, 21, 34, 55]"
      ]
     },
     "execution_count": 9,
     "metadata": {},
     "output_type": "execute_result"
    }
   ],
   "source": [
    "[dp_fib(i) for i in range(10)]"
   ]
  },
  {
   "cell_type": "code",
   "execution_count": 10,
   "id": "ca32c3cb",
   "metadata": {},
   "outputs": [
    {
     "data": {
      "text/plain": [
       "573147844013817084101"
      ]
     },
     "execution_count": 10,
     "metadata": {},
     "output_type": "execute_result"
    }
   ],
   "source": [
    "dp_fib(100)"
   ]
  },
  {
   "cell_type": "markdown",
   "id": "95129036",
   "metadata": {},
   "source": [
    "We solved all smaller problems, but we solved them only one time each! Now we can compute large Fibonacci numbers! Try 1000, it takes less than the blink of an eye. \n",
    "\n",
    "*Can we do better?* Well yes: we store all solutions, but to compute the next number we only use two. We might as well use 2 variables instead of the array!"
   ]
  },
  {
   "cell_type": "code",
   "execution_count": 11,
   "id": "8edfeb9c",
   "metadata": {},
   "outputs": [],
   "source": [
    "def better_dp_fib(n):\n",
    "    if n < 2: return 1\n",
    "    \n",
    "    fib_1 = 1 # for fib(n-1)\n",
    "    fib_2 = 1 # for fib(n-2)\n",
    "    \n",
    "    for i in range(2, n + 1):\n",
    "        fib   = fib_1 + fib_2\n",
    "        \n",
    "        fib_2 = fib_1\n",
    "        fib_1 = fib\n",
    "        \n",
    "    return fib\n",
    "        "
   ]
  },
  {
   "cell_type": "code",
   "execution_count": 12,
   "id": "6a9ed55a",
   "metadata": {},
   "outputs": [
    {
     "data": {
      "text/plain": [
       "[1, 1, 2, 3, 5, 8, 13, 21, 34, 55]"
      ]
     },
     "execution_count": 12,
     "metadata": {},
     "output_type": "execute_result"
    }
   ],
   "source": [
    "[better_dp_fib(i) for i in range(10)]"
   ]
  },
  {
   "cell_type": "code",
   "execution_count": 13,
   "id": "093936b5",
   "metadata": {},
   "outputs": [
    {
     "data": {
      "text/plain": [
       "70330367711422815821835254877183549770181269836358732742604905087154537118196933579742249494562611733487750449241765991088186363265450223647106012053374121273867339111198139373125598767690091902245245323403501"
      ]
     },
     "execution_count": 13,
     "metadata": {},
     "output_type": "execute_result"
    }
   ],
   "source": [
    "better_dp_fib(1000)"
   ]
  },
  {
   "cell_type": "code",
   "execution_count": null,
   "id": "83b500f9",
   "metadata": {},
   "outputs": [],
   "source": []
  }
 ],
 "metadata": {
  "kernelspec": {
   "display_name": "Python 3 (ipykernel)",
   "language": "python",
   "name": "python3"
  },
  "language_info": {
   "codemirror_mode": {
    "name": "ipython",
    "version": 3
   },
   "file_extension": ".py",
   "mimetype": "text/x-python",
   "name": "python",
   "nbconvert_exporter": "python",
   "pygments_lexer": "ipython3",
   "version": "3.10.0"
  }
 },
 "nbformat": 4,
 "nbformat_minor": 5
}
